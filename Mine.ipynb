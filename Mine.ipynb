{
 "cells": [
  {
   "cell_type": "code",
   "execution_count": 1,
   "metadata": {},
   "outputs": [],
   "source": [
    "#"
   ]
  },
  {
   "cell_type": "code",
   "execution_count": 2,
   "metadata": {},
   "outputs": [],
   "source": [
    "import pandas as pd\n"
   ]
  },
  {
   "cell_type": "code",
   "execution_count": 3,
   "metadata": {},
   "outputs": [
    {
     "data": {
      "text/html": [
       "<div>\n",
       "<style scoped>\n",
       "    .dataframe tbody tr th:only-of-type {\n",
       "        vertical-align: middle;\n",
       "    }\n",
       "\n",
       "    .dataframe tbody tr th {\n",
       "        vertical-align: top;\n",
       "    }\n",
       "\n",
       "    .dataframe thead th {\n",
       "        text-align: right;\n",
       "    }\n",
       "</style>\n",
       "<table border=\"1\" class=\"dataframe\">\n",
       "  <thead>\n",
       "    <tr style=\"text-align: right;\">\n",
       "      <th></th>\n",
       "      <th>Rank</th>\n",
       "      <th>Name</th>\n",
       "      <th>Total_Net_Worth</th>\n",
       "      <th>LastChange</th>\n",
       "      <th>YTDChange</th>\n",
       "      <th>Country</th>\n",
       "      <th>Industry</th>\n",
       "    </tr>\n",
       "  </thead>\n",
       "  <tbody>\n",
       "    <tr>\n",
       "      <th>0</th>\n",
       "      <td>1</td>\n",
       "      <td>Elon Musk</td>\n",
       "      <td>$311B</td>\n",
       "      <td>+$9.32B</td>\n",
       "      <td>+$141B</td>\n",
       "      <td>UnitedStates</td>\n",
       "      <td>Technology</td>\n",
       "    </tr>\n",
       "    <tr>\n",
       "      <th>1</th>\n",
       "      <td>2</td>\n",
       "      <td>Jeff Bezos</td>\n",
       "      <td>$195B</td>\n",
       "      <td>-$3.79B</td>\n",
       "      <td>+$5.06B</td>\n",
       "      <td>UnitedStates</td>\n",
       "      <td>Technology</td>\n",
       "    </tr>\n",
       "    <tr>\n",
       "      <th>2</th>\n",
       "      <td>3</td>\n",
       "      <td>Bernard Arnault</td>\n",
       "      <td>$167B</td>\n",
       "      <td>-$544M</td>\n",
       "      <td>+$52.7B</td>\n",
       "      <td>France</td>\n",
       "      <td>Consumer</td>\n",
       "    </tr>\n",
       "    <tr>\n",
       "      <th>3</th>\n",
       "      <td>4</td>\n",
       "      <td>Bill Gates</td>\n",
       "      <td>$136B</td>\n",
       "      <td>+$906M</td>\n",
       "      <td>+$4.40B</td>\n",
       "      <td>UnitedStates</td>\n",
       "      <td>Technology</td>\n",
       "    </tr>\n",
       "    <tr>\n",
       "      <th>4</th>\n",
       "      <td>5</td>\n",
       "      <td>Larry Page</td>\n",
       "      <td>$131B</td>\n",
       "      <td>+$1.71B</td>\n",
       "      <td>+$48.7B</td>\n",
       "      <td>UnitedStates</td>\n",
       "      <td>Technology</td>\n",
       "    </tr>\n",
       "    <tr>\n",
       "      <th>...</th>\n",
       "      <td>...</td>\n",
       "      <td>...</td>\n",
       "      <td>...</td>\n",
       "      <td>...</td>\n",
       "      <td>...</td>\n",
       "      <td>...</td>\n",
       "      <td>...</td>\n",
       "    </tr>\n",
       "    <tr>\n",
       "      <th>495</th>\n",
       "      <td>496</td>\n",
       "      <td>Barry Diller</td>\n",
       "      <td>$5.92B</td>\n",
       "      <td>-$73.5M</td>\n",
       "      <td>+$366M</td>\n",
       "      <td>UnitedStates</td>\n",
       "      <td>Technology</td>\n",
       "    </tr>\n",
       "    <tr>\n",
       "      <th>496</th>\n",
       "      <td>497</td>\n",
       "      <td>Cliff Obrecht</td>\n",
       "      <td>$5.89B</td>\n",
       "      <td>$0</td>\n",
       "      <td>+$4.99B</td>\n",
       "      <td>Australia</td>\n",
       "      <td>Services</td>\n",
       "    </tr>\n",
       "    <tr>\n",
       "      <th>497</th>\n",
       "      <td>498</td>\n",
       "      <td>Melanie Perkins</td>\n",
       "      <td>$5.89B</td>\n",
       "      <td>$0</td>\n",
       "      <td>+$4.99B</td>\n",
       "      <td>Australia</td>\n",
       "      <td>Services</td>\n",
       "    </tr>\n",
       "    <tr>\n",
       "      <th>498</th>\n",
       "      <td>499</td>\n",
       "      <td>Trevor Rees-Jones</td>\n",
       "      <td>$5.89B</td>\n",
       "      <td>-$106M</td>\n",
       "      <td>+$898M</td>\n",
       "      <td>UnitedStates</td>\n",
       "      <td>Energy</td>\n",
       "    </tr>\n",
       "    <tr>\n",
       "      <th>499</th>\n",
       "      <td>500</td>\n",
       "      <td>Frits Goldschmeding</td>\n",
       "      <td>$5.88B</td>\n",
       "      <td>-$90.7M</td>\n",
       "      <td>+$621M</td>\n",
       "      <td>Netherlands</td>\n",
       "      <td>Retail</td>\n",
       "    </tr>\n",
       "  </tbody>\n",
       "</table>\n",
       "<p>500 rows × 7 columns</p>\n",
       "</div>"
      ],
      "text/plain": [
       "     Rank                  Name Total_Net_Worth LastChange YTDChange  \\\n",
       "0       1            Elon Musk            $311B    +$9.32B    +$141B   \n",
       "1       2           Jeff Bezos            $195B    -$3.79B   +$5.06B   \n",
       "2       3      Bernard Arnault            $167B     -$544M   +$52.7B   \n",
       "3       4           Bill Gates            $136B     +$906M   +$4.40B   \n",
       "4       5           Larry Page            $131B    +$1.71B   +$48.7B   \n",
       "..    ...                   ...             ...        ...       ...   \n",
       "495   496         Barry Diller           $5.92B    -$73.5M    +$366M   \n",
       "496   497        Cliff Obrecht           $5.89B        $0    +$4.99B   \n",
       "497   498      Melanie Perkins           $5.89B        $0    +$4.99B   \n",
       "498   499    Trevor Rees-Jones           $5.89B     -$106M    +$898M   \n",
       "499   500  Frits Goldschmeding           $5.88B    -$90.7M    +$621M   \n",
       "\n",
       "          Country    Industry  \n",
       "0    UnitedStates  Technology  \n",
       "1    UnitedStates  Technology  \n",
       "2          France    Consumer  \n",
       "3    UnitedStates  Technology  \n",
       "4    UnitedStates  Technology  \n",
       "..            ...         ...  \n",
       "495  UnitedStates  Technology  \n",
       "496     Australia    Services  \n",
       "497     Australia    Services  \n",
       "498  UnitedStates      Energy  \n",
       "499   Netherlands      Retail  \n",
       "\n",
       "[500 rows x 7 columns]"
      ]
     },
     "execution_count": 3,
     "metadata": {},
     "output_type": "execute_result"
    }
   ],
   "source": [
    "df=pd.read_csv(\"C:\\\\Users\\\\Admin\\\\OneDrive\\\\Desktop\\\\DA\\\\BillionairesIndex.csv\")\n",
    "df\n"
   ]
  },
  {
   "cell_type": "code",
   "execution_count": 4,
   "metadata": {},
   "outputs": [
    {
     "name": "stdout",
     "output_type": "stream",
     "text": [
      "The info about the table is : \n",
      "<class 'pandas.core.frame.DataFrame'>\n",
      "RangeIndex: 500 entries, 0 to 499\n",
      "Data columns (total 7 columns):\n",
      " #   Column           Non-Null Count  Dtype \n",
      "---  ------           --------------  ----- \n",
      " 0   Rank             500 non-null    int64 \n",
      " 1   Name             500 non-null    object\n",
      " 2   Total_Net_Worth  500 non-null    object\n",
      " 3   LastChange       500 non-null    object\n",
      " 4   YTDChange        500 non-null    object\n",
      " 5   Country          500 non-null    object\n",
      " 6   Industry         500 non-null    object\n",
      "dtypes: int64(1), object(6)\n",
      "memory usage: 27.5+ KB\n"
     ]
    }
   ],
   "source": [
    "print(\"The info about the table is : \")\n",
    "df.info()"
   ]
  },
  {
   "cell_type": "code",
   "execution_count": 5,
   "metadata": {},
   "outputs": [
    {
     "name": "stdout",
     "output_type": "stream",
     "text": [
      "The shape of the table is : \n"
     ]
    },
    {
     "data": {
      "text/plain": [
       "(500, 7)"
      ]
     },
     "execution_count": 5,
     "metadata": {},
     "output_type": "execute_result"
    }
   ],
   "source": [
    "print(\"The shape of the table is : \")\n",
    "df.shape\n"
   ]
  },
  {
   "cell_type": "code",
   "execution_count": 7,
   "metadata": {},
   "outputs": [
    {
     "name": "stdout",
     "output_type": "stream",
     "text": [
      "The top five billionaires are : \n"
     ]
    },
    {
     "data": {
      "text/html": [
       "<div>\n",
       "<style scoped>\n",
       "    .dataframe tbody tr th:only-of-type {\n",
       "        vertical-align: middle;\n",
       "    }\n",
       "\n",
       "    .dataframe tbody tr th {\n",
       "        vertical-align: top;\n",
       "    }\n",
       "\n",
       "    .dataframe thead th {\n",
       "        text-align: right;\n",
       "    }\n",
       "</style>\n",
       "<table border=\"1\" class=\"dataframe\">\n",
       "  <thead>\n",
       "    <tr style=\"text-align: right;\">\n",
       "      <th></th>\n",
       "      <th>Rank</th>\n",
       "      <th>Name</th>\n",
       "      <th>Total_Net_Worth</th>\n",
       "      <th>LastChange</th>\n",
       "      <th>YTDChange</th>\n",
       "      <th>Country</th>\n",
       "      <th>Industry</th>\n",
       "    </tr>\n",
       "  </thead>\n",
       "  <tbody>\n",
       "    <tr>\n",
       "      <th>0</th>\n",
       "      <td>1</td>\n",
       "      <td>Elon Musk</td>\n",
       "      <td>$311B</td>\n",
       "      <td>+$9.32B</td>\n",
       "      <td>+$141B</td>\n",
       "      <td>UnitedStates</td>\n",
       "      <td>Technology</td>\n",
       "    </tr>\n",
       "    <tr>\n",
       "      <th>1</th>\n",
       "      <td>2</td>\n",
       "      <td>Jeff Bezos</td>\n",
       "      <td>$195B</td>\n",
       "      <td>-$3.79B</td>\n",
       "      <td>+$5.06B</td>\n",
       "      <td>UnitedStates</td>\n",
       "      <td>Technology</td>\n",
       "    </tr>\n",
       "    <tr>\n",
       "      <th>2</th>\n",
       "      <td>3</td>\n",
       "      <td>Bernard Arnault</td>\n",
       "      <td>$167B</td>\n",
       "      <td>-$544M</td>\n",
       "      <td>+$52.7B</td>\n",
       "      <td>France</td>\n",
       "      <td>Consumer</td>\n",
       "    </tr>\n",
       "    <tr>\n",
       "      <th>3</th>\n",
       "      <td>4</td>\n",
       "      <td>Bill Gates</td>\n",
       "      <td>$136B</td>\n",
       "      <td>+$906M</td>\n",
       "      <td>+$4.40B</td>\n",
       "      <td>UnitedStates</td>\n",
       "      <td>Technology</td>\n",
       "    </tr>\n",
       "    <tr>\n",
       "      <th>4</th>\n",
       "      <td>5</td>\n",
       "      <td>Larry Page</td>\n",
       "      <td>$131B</td>\n",
       "      <td>+$1.71B</td>\n",
       "      <td>+$48.7B</td>\n",
       "      <td>UnitedStates</td>\n",
       "      <td>Technology</td>\n",
       "    </tr>\n",
       "  </tbody>\n",
       "</table>\n",
       "</div>"
      ],
      "text/plain": [
       "   Rank              Name Total_Net_Worth LastChange YTDChange       Country  \\\n",
       "0     1        Elon Musk            $311B    +$9.32B    +$141B  UnitedStates   \n",
       "1     2       Jeff Bezos            $195B    -$3.79B   +$5.06B  UnitedStates   \n",
       "2     3  Bernard Arnault            $167B     -$544M   +$52.7B        France   \n",
       "3     4       Bill Gates            $136B     +$906M   +$4.40B  UnitedStates   \n",
       "4     5       Larry Page            $131B    +$1.71B   +$48.7B  UnitedStates   \n",
       "\n",
       "     Industry  \n",
       "0  Technology  \n",
       "1  Technology  \n",
       "2    Consumer  \n",
       "3  Technology  \n",
       "4  Technology  "
      ]
     },
     "execution_count": 7,
     "metadata": {},
     "output_type": "execute_result"
    }
   ],
   "source": [
    "print(\"The top five billionaires are : \")\n",
    "df.head()"
   ]
  },
  {
   "cell_type": "code",
   "execution_count": 8,
   "metadata": {},
   "outputs": [
    {
     "name": "stdout",
     "output_type": "stream",
     "text": [
      "The last five billionaires are : \n"
     ]
    },
    {
     "data": {
      "text/html": [
       "<div>\n",
       "<style scoped>\n",
       "    .dataframe tbody tr th:only-of-type {\n",
       "        vertical-align: middle;\n",
       "    }\n",
       "\n",
       "    .dataframe tbody tr th {\n",
       "        vertical-align: top;\n",
       "    }\n",
       "\n",
       "    .dataframe thead th {\n",
       "        text-align: right;\n",
       "    }\n",
       "</style>\n",
       "<table border=\"1\" class=\"dataframe\">\n",
       "  <thead>\n",
       "    <tr style=\"text-align: right;\">\n",
       "      <th></th>\n",
       "      <th>Rank</th>\n",
       "      <th>Name</th>\n",
       "      <th>Total_Net_Worth</th>\n",
       "      <th>LastChange</th>\n",
       "      <th>YTDChange</th>\n",
       "      <th>Country</th>\n",
       "      <th>Industry</th>\n",
       "    </tr>\n",
       "  </thead>\n",
       "  <tbody>\n",
       "    <tr>\n",
       "      <th>495</th>\n",
       "      <td>496</td>\n",
       "      <td>Barry Diller</td>\n",
       "      <td>$5.92B</td>\n",
       "      <td>-$73.5M</td>\n",
       "      <td>+$366M</td>\n",
       "      <td>UnitedStates</td>\n",
       "      <td>Technology</td>\n",
       "    </tr>\n",
       "    <tr>\n",
       "      <th>496</th>\n",
       "      <td>497</td>\n",
       "      <td>Cliff Obrecht</td>\n",
       "      <td>$5.89B</td>\n",
       "      <td>$0</td>\n",
       "      <td>+$4.99B</td>\n",
       "      <td>Australia</td>\n",
       "      <td>Services</td>\n",
       "    </tr>\n",
       "    <tr>\n",
       "      <th>497</th>\n",
       "      <td>498</td>\n",
       "      <td>Melanie Perkins</td>\n",
       "      <td>$5.89B</td>\n",
       "      <td>$0</td>\n",
       "      <td>+$4.99B</td>\n",
       "      <td>Australia</td>\n",
       "      <td>Services</td>\n",
       "    </tr>\n",
       "    <tr>\n",
       "      <th>498</th>\n",
       "      <td>499</td>\n",
       "      <td>Trevor Rees-Jones</td>\n",
       "      <td>$5.89B</td>\n",
       "      <td>-$106M</td>\n",
       "      <td>+$898M</td>\n",
       "      <td>UnitedStates</td>\n",
       "      <td>Energy</td>\n",
       "    </tr>\n",
       "    <tr>\n",
       "      <th>499</th>\n",
       "      <td>500</td>\n",
       "      <td>Frits Goldschmeding</td>\n",
       "      <td>$5.88B</td>\n",
       "      <td>-$90.7M</td>\n",
       "      <td>+$621M</td>\n",
       "      <td>Netherlands</td>\n",
       "      <td>Retail</td>\n",
       "    </tr>\n",
       "  </tbody>\n",
       "</table>\n",
       "</div>"
      ],
      "text/plain": [
       "     Rank                  Name Total_Net_Worth LastChange YTDChange  \\\n",
       "495   496         Barry Diller           $5.92B    -$73.5M    +$366M   \n",
       "496   497        Cliff Obrecht           $5.89B        $0    +$4.99B   \n",
       "497   498      Melanie Perkins           $5.89B        $0    +$4.99B   \n",
       "498   499    Trevor Rees-Jones           $5.89B     -$106M    +$898M   \n",
       "499   500  Frits Goldschmeding           $5.88B    -$90.7M    +$621M   \n",
       "\n",
       "          Country    Industry  \n",
       "495  UnitedStates  Technology  \n",
       "496     Australia    Services  \n",
       "497     Australia    Services  \n",
       "498  UnitedStates      Energy  \n",
       "499   Netherlands      Retail  "
      ]
     },
     "execution_count": 8,
     "metadata": {},
     "output_type": "execute_result"
    }
   ],
   "source": [
    "print(\"The last five billionaires are : \")\n",
    "df.tail()"
   ]
  },
  {
   "cell_type": "code",
   "execution_count": 9,
   "metadata": {},
   "outputs": [
    {
     "name": "stdout",
     "output_type": "stream",
     "text": [
      "The column names are : \n"
     ]
    },
    {
     "data": {
      "text/plain": [
       "Index(['Rank', 'Name', 'Total_Net_Worth', 'LastChange', 'YTDChange', 'Country',\n",
       "       'Industry'],\n",
       "      dtype='object')"
      ]
     },
     "execution_count": 9,
     "metadata": {},
     "output_type": "execute_result"
    }
   ],
   "source": [
    "print(\"The column names are : \")\n",
    "df.columns"
   ]
  },
  {
   "cell_type": "code",
   "execution_count": 10,
   "metadata": {},
   "outputs": [
    {
     "name": "stdout",
     "output_type": "stream",
     "text": [
      "The index vaues are : \n"
     ]
    },
    {
     "data": {
      "text/plain": [
       "RangeIndex(start=0, stop=500, step=1)"
      ]
     },
     "execution_count": 10,
     "metadata": {},
     "output_type": "execute_result"
    }
   ],
   "source": [
    "print(\"The index vaues are : \")\n",
    "df.index"
   ]
  },
  {
   "cell_type": "code",
   "execution_count": 11,
   "metadata": {},
   "outputs": [
    {
     "data": {
      "text/html": [
       "<div>\n",
       "<style scoped>\n",
       "    .dataframe tbody tr th:only-of-type {\n",
       "        vertical-align: middle;\n",
       "    }\n",
       "\n",
       "    .dataframe tbody tr th {\n",
       "        vertical-align: top;\n",
       "    }\n",
       "\n",
       "    .dataframe thead th {\n",
       "        text-align: right;\n",
       "    }\n",
       "</style>\n",
       "<table border=\"1\" class=\"dataframe\">\n",
       "  <thead>\n",
       "    <tr style=\"text-align: right;\">\n",
       "      <th></th>\n",
       "      <th>Rank</th>\n",
       "    </tr>\n",
       "  </thead>\n",
       "  <tbody>\n",
       "    <tr>\n",
       "      <th>count</th>\n",
       "      <td>500.000000</td>\n",
       "    </tr>\n",
       "    <tr>\n",
       "      <th>mean</th>\n",
       "      <td>250.500000</td>\n",
       "    </tr>\n",
       "    <tr>\n",
       "      <th>std</th>\n",
       "      <td>144.481833</td>\n",
       "    </tr>\n",
       "    <tr>\n",
       "      <th>min</th>\n",
       "      <td>1.000000</td>\n",
       "    </tr>\n",
       "    <tr>\n",
       "      <th>25%</th>\n",
       "      <td>125.750000</td>\n",
       "    </tr>\n",
       "    <tr>\n",
       "      <th>50%</th>\n",
       "      <td>250.500000</td>\n",
       "    </tr>\n",
       "    <tr>\n",
       "      <th>75%</th>\n",
       "      <td>375.250000</td>\n",
       "    </tr>\n",
       "    <tr>\n",
       "      <th>max</th>\n",
       "      <td>500.000000</td>\n",
       "    </tr>\n",
       "  </tbody>\n",
       "</table>\n",
       "</div>"
      ],
      "text/plain": [
       "             Rank\n",
       "count  500.000000\n",
       "mean   250.500000\n",
       "std    144.481833\n",
       "min      1.000000\n",
       "25%    125.750000\n",
       "50%    250.500000\n",
       "75%    375.250000\n",
       "max    500.000000"
      ]
     },
     "execution_count": 11,
     "metadata": {},
     "output_type": "execute_result"
    }
   ],
   "source": [
    "df.describe()"
   ]
  },
  {
   "cell_type": "code",
   "execution_count": null,
   "metadata": {},
   "outputs": [],
   "source": []
  }
 ],
 "metadata": {
  "interpreter": {
   "hash": "183bbf6827d058c2a2fb0f4acdc0420849dda2b4380af0e437e38c64d798d8b7"
  },
  "kernelspec": {
   "display_name": "Python 3.8.11 64-bit ('base': conda)",
   "language": "python",
   "name": "python3"
  },
  "language_info": {
   "codemirror_mode": {
    "name": "ipython",
    "version": 3
   },
   "file_extension": ".py",
   "mimetype": "text/x-python",
   "name": "python",
   "nbconvert_exporter": "python",
   "pygments_lexer": "ipython3",
   "version": "3.8.11"
  },
  "orig_nbformat": 4
 },
 "nbformat": 4,
 "nbformat_minor": 2
}
