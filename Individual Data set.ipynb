{
 "cells": [
  {
   "cell_type": "markdown",
   "id": "31761ce8",
   "metadata": {},
   "source": [
    "# Deriving maximum insights from the BillionairesIndex where it thas the details of top billionaires "
   ]
  },
  {
   "cell_type": "code",
   "execution_count": 1,
   "id": "16a0f421",
   "metadata": {},
   "outputs": [],
   "source": [
    "import pandas as pd"
   ]
  },
  {
   "cell_type": "code",
   "execution_count": 50,
   "id": "a64c0c27",
   "metadata": {},
   "outputs": [],
   "source": [
    "import numpy as np"
   ]
  },
  {
   "cell_type": "code",
   "execution_count": 2,
   "id": "ecffd6a1",
   "metadata": {},
   "outputs": [],
   "source": [
    "import matplotlib.pyplot as plt"
   ]
  },
  {
   "cell_type": "code",
   "execution_count": 63,
   "id": "bd8a4ae3",
   "metadata": {},
   "outputs": [
    {
     "data": {
      "text/html": [
       "<div>\n",
       "<style scoped>\n",
       "    .dataframe tbody tr th:only-of-type {\n",
       "        vertical-align: middle;\n",
       "    }\n",
       "\n",
       "    .dataframe tbody tr th {\n",
       "        vertical-align: top;\n",
       "    }\n",
       "\n",
       "    .dataframe thead th {\n",
       "        text-align: right;\n",
       "    }\n",
       "</style>\n",
       "<table border=\"1\" class=\"dataframe\">\n",
       "  <thead>\n",
       "    <tr style=\"text-align: right;\">\n",
       "      <th></th>\n",
       "      <th>Rank</th>\n",
       "      <th>Name</th>\n",
       "      <th>Total_Net_Worth</th>\n",
       "      <th>LastChange</th>\n",
       "      <th>YTDChange</th>\n",
       "      <th>Country</th>\n",
       "      <th>Industry</th>\n",
       "    </tr>\n",
       "  </thead>\n",
       "  <tbody>\n",
       "    <tr>\n",
       "      <th>0</th>\n",
       "      <td>1</td>\n",
       "      <td>Elon Musk</td>\n",
       "      <td>$311B</td>\n",
       "      <td>+$9.32B</td>\n",
       "      <td>+$141B</td>\n",
       "      <td>UnitedStates</td>\n",
       "      <td>Technology</td>\n",
       "    </tr>\n",
       "    <tr>\n",
       "      <th>1</th>\n",
       "      <td>2</td>\n",
       "      <td>Jeff Bezos</td>\n",
       "      <td>$195B</td>\n",
       "      <td>-$3.79B</td>\n",
       "      <td>+$5.06B</td>\n",
       "      <td>UnitedStates</td>\n",
       "      <td>Technology</td>\n",
       "    </tr>\n",
       "    <tr>\n",
       "      <th>2</th>\n",
       "      <td>3</td>\n",
       "      <td>Bernard Arnault</td>\n",
       "      <td>$167B</td>\n",
       "      <td>-$544M</td>\n",
       "      <td>+$52.7B</td>\n",
       "      <td>France</td>\n",
       "      <td>Consumer</td>\n",
       "    </tr>\n",
       "    <tr>\n",
       "      <th>3</th>\n",
       "      <td>4</td>\n",
       "      <td>Bill Gates</td>\n",
       "      <td>$136B</td>\n",
       "      <td>+$906M</td>\n",
       "      <td>+$4.40B</td>\n",
       "      <td>UnitedStates</td>\n",
       "      <td>Technology</td>\n",
       "    </tr>\n",
       "    <tr>\n",
       "      <th>4</th>\n",
       "      <td>5</td>\n",
       "      <td>Larry Page</td>\n",
       "      <td>$131B</td>\n",
       "      <td>+$1.71B</td>\n",
       "      <td>+$48.7B</td>\n",
       "      <td>UnitedStates</td>\n",
       "      <td>Technology</td>\n",
       "    </tr>\n",
       "    <tr>\n",
       "      <th>...</th>\n",
       "      <td>...</td>\n",
       "      <td>...</td>\n",
       "      <td>...</td>\n",
       "      <td>...</td>\n",
       "      <td>...</td>\n",
       "      <td>...</td>\n",
       "      <td>...</td>\n",
       "    </tr>\n",
       "    <tr>\n",
       "      <th>495</th>\n",
       "      <td>496</td>\n",
       "      <td>Barry Diller</td>\n",
       "      <td>$5.92B</td>\n",
       "      <td>-$73.5M</td>\n",
       "      <td>+$366M</td>\n",
       "      <td>UnitedStates</td>\n",
       "      <td>Technology</td>\n",
       "    </tr>\n",
       "    <tr>\n",
       "      <th>496</th>\n",
       "      <td>497</td>\n",
       "      <td>Cliff Obrecht</td>\n",
       "      <td>$5.89B</td>\n",
       "      <td>$0</td>\n",
       "      <td>+$4.99B</td>\n",
       "      <td>Australia</td>\n",
       "      <td>Services</td>\n",
       "    </tr>\n",
       "    <tr>\n",
       "      <th>497</th>\n",
       "      <td>498</td>\n",
       "      <td>Melanie Perkins</td>\n",
       "      <td>$5.89B</td>\n",
       "      <td>$0</td>\n",
       "      <td>+$4.99B</td>\n",
       "      <td>Australia</td>\n",
       "      <td>Services</td>\n",
       "    </tr>\n",
       "    <tr>\n",
       "      <th>498</th>\n",
       "      <td>499</td>\n",
       "      <td>Trevor Rees-Jones</td>\n",
       "      <td>$5.89B</td>\n",
       "      <td>-$106M</td>\n",
       "      <td>+$898M</td>\n",
       "      <td>UnitedStates</td>\n",
       "      <td>Energy</td>\n",
       "    </tr>\n",
       "    <tr>\n",
       "      <th>499</th>\n",
       "      <td>500</td>\n",
       "      <td>Frits Goldschmeding</td>\n",
       "      <td>$5.88B</td>\n",
       "      <td>-$90.7M</td>\n",
       "      <td>+$621M</td>\n",
       "      <td>Netherlands</td>\n",
       "      <td>Retail</td>\n",
       "    </tr>\n",
       "  </tbody>\n",
       "</table>\n",
       "<p>500 rows × 7 columns</p>\n",
       "</div>"
      ],
      "text/plain": [
       "     Rank                  Name Total_Net_Worth LastChange YTDChange  \\\n",
       "0       1            Elon Musk            $311B    +$9.32B    +$141B   \n",
       "1       2           Jeff Bezos            $195B    -$3.79B   +$5.06B   \n",
       "2       3      Bernard Arnault            $167B     -$544M   +$52.7B   \n",
       "3       4           Bill Gates            $136B     +$906M   +$4.40B   \n",
       "4       5           Larry Page            $131B    +$1.71B   +$48.7B   \n",
       "..    ...                   ...             ...        ...       ...   \n",
       "495   496         Barry Diller           $5.92B    -$73.5M    +$366M   \n",
       "496   497        Cliff Obrecht           $5.89B        $0    +$4.99B   \n",
       "497   498      Melanie Perkins           $5.89B        $0    +$4.99B   \n",
       "498   499    Trevor Rees-Jones           $5.89B     -$106M    +$898M   \n",
       "499   500  Frits Goldschmeding           $5.88B    -$90.7M    +$621M   \n",
       "\n",
       "          Country    Industry  \n",
       "0    UnitedStates  Technology  \n",
       "1    UnitedStates  Technology  \n",
       "2          France    Consumer  \n",
       "3    UnitedStates  Technology  \n",
       "4    UnitedStates  Technology  \n",
       "..            ...         ...  \n",
       "495  UnitedStates  Technology  \n",
       "496     Australia    Services  \n",
       "497     Australia    Services  \n",
       "498  UnitedStates      Energy  \n",
       "499   Netherlands      Retail  \n",
       "\n",
       "[500 rows x 7 columns]"
      ]
     },
     "execution_count": 63,
     "metadata": {},
     "output_type": "execute_result"
    }
   ],
   "source": [
    "df=pd.read_csv(\"DataSets\\\\Billionaire.csv\")\n",
    "df"
   ]
  },
  {
   "cell_type": "markdown",
   "id": "c367b476",
   "metadata": {},
   "source": [
    "# Basic informations from the given dataset"
   ]
  },
  {
   "cell_type": "code",
   "execution_count": 4,
   "id": "6a4cece6",
   "metadata": {},
   "outputs": [
    {
     "data": {
      "text/plain": [
       "(500, 7)"
      ]
     },
     "execution_count": 4,
     "metadata": {},
     "output_type": "execute_result"
    }
   ],
   "source": [
    "df.shape"
   ]
  },
  {
   "cell_type": "code",
   "execution_count": 5,
   "id": "2c5cd7b5",
   "metadata": {},
   "outputs": [
    {
     "name": "stdout",
     "output_type": "stream",
     "text": [
      "<class 'pandas.core.frame.DataFrame'>\n",
      "RangeIndex: 500 entries, 0 to 499\n",
      "Data columns (total 7 columns):\n",
      " #   Column           Non-Null Count  Dtype \n",
      "---  ------           --------------  ----- \n",
      " 0   Rank             500 non-null    int64 \n",
      " 1   Name             500 non-null    object\n",
      " 2   Total_Net_Worth  500 non-null    object\n",
      " 3   LastChange       500 non-null    object\n",
      " 4   YTDChange        500 non-null    object\n",
      " 5   Country          500 non-null    object\n",
      " 6   Industry         500 non-null    object\n",
      "dtypes: int64(1), object(6)\n",
      "memory usage: 27.5+ KB\n"
     ]
    }
   ],
   "source": [
    "#helps to know number of null values and the clumns dtype\n",
    "df.info()"
   ]
  },
  {
   "cell_type": "code",
   "execution_count": 6,
   "id": "b4e2a558",
   "metadata": {},
   "outputs": [
    {
     "data": {
      "text/plain": [
       "['Rank',\n",
       " 'Name',\n",
       " 'Total_Net_Worth',\n",
       " 'LastChange',\n",
       " 'YTDChange',\n",
       " 'Country',\n",
       " 'Industry']"
      ]
     },
     "execution_count": 6,
     "metadata": {},
     "output_type": "execute_result"
    }
   ],
   "source": [
    "#to know all the column names as a list\n",
    "df.columns.tolist()"
   ]
  },
  {
   "cell_type": "code",
   "execution_count": 7,
   "id": "1772afaf",
   "metadata": {},
   "outputs": [
    {
     "data": {
      "text/plain": [
       "0                Elon Musk \n",
       "1               Jeff Bezos \n",
       "2          Bernard Arnault \n",
       "3               Bill Gates \n",
       "4               Larry Page \n",
       "               ...         \n",
       "495           Barry Diller \n",
       "496          Cliff Obrecht \n",
       "497        Melanie Perkins \n",
       "498      Trevor Rees-Jones \n",
       "499    Frits Goldschmeding \n",
       "Name: Name, Length: 500, dtype: object"
      ]
     },
     "execution_count": 7,
     "metadata": {},
     "output_type": "execute_result"
    }
   ],
   "source": [
    "#listing the billionaires name\n",
    "df['Name']"
   ]
  },
  {
   "cell_type": "code",
   "execution_count": 8,
   "id": "bce697c8",
   "metadata": {},
   "outputs": [
    {
     "data": {
      "text/html": [
       "<div>\n",
       "<style scoped>\n",
       "    .dataframe tbody tr th:only-of-type {\n",
       "        vertical-align: middle;\n",
       "    }\n",
       "\n",
       "    .dataframe tbody tr th {\n",
       "        vertical-align: top;\n",
       "    }\n",
       "\n",
       "    .dataframe thead th {\n",
       "        text-align: right;\n",
       "    }\n",
       "</style>\n",
       "<table border=\"1\" class=\"dataframe\">\n",
       "  <thead>\n",
       "    <tr style=\"text-align: right;\">\n",
       "      <th></th>\n",
       "      <th>Rank</th>\n",
       "      <th>Name</th>\n",
       "      <th>Total_Net_Worth</th>\n",
       "      <th>LastChange</th>\n",
       "      <th>YTDChange</th>\n",
       "      <th>Country</th>\n",
       "      <th>Industry</th>\n",
       "    </tr>\n",
       "  </thead>\n",
       "  <tbody>\n",
       "    <tr>\n",
       "      <th>0</th>\n",
       "      <td>1</td>\n",
       "      <td>Elon Musk</td>\n",
       "      <td>$311B</td>\n",
       "      <td>+$9.32B</td>\n",
       "      <td>+$141B</td>\n",
       "      <td>UnitedStates</td>\n",
       "      <td>Technology</td>\n",
       "    </tr>\n",
       "    <tr>\n",
       "      <th>1</th>\n",
       "      <td>2</td>\n",
       "      <td>Jeff Bezos</td>\n",
       "      <td>$195B</td>\n",
       "      <td>-$3.79B</td>\n",
       "      <td>+$5.06B</td>\n",
       "      <td>UnitedStates</td>\n",
       "      <td>Technology</td>\n",
       "    </tr>\n",
       "    <tr>\n",
       "      <th>2</th>\n",
       "      <td>3</td>\n",
       "      <td>Bernard Arnault</td>\n",
       "      <td>$167B</td>\n",
       "      <td>-$544M</td>\n",
       "      <td>+$52.7B</td>\n",
       "      <td>France</td>\n",
       "      <td>Consumer</td>\n",
       "    </tr>\n",
       "    <tr>\n",
       "      <th>3</th>\n",
       "      <td>4</td>\n",
       "      <td>Bill Gates</td>\n",
       "      <td>$136B</td>\n",
       "      <td>+$906M</td>\n",
       "      <td>+$4.40B</td>\n",
       "      <td>UnitedStates</td>\n",
       "      <td>Technology</td>\n",
       "    </tr>\n",
       "    <tr>\n",
       "      <th>4</th>\n",
       "      <td>5</td>\n",
       "      <td>Larry Page</td>\n",
       "      <td>$131B</td>\n",
       "      <td>+$1.71B</td>\n",
       "      <td>+$48.7B</td>\n",
       "      <td>UnitedStates</td>\n",
       "      <td>Technology</td>\n",
       "    </tr>\n",
       "  </tbody>\n",
       "</table>\n",
       "</div>"
      ],
      "text/plain": [
       "   Rank              Name Total_Net_Worth LastChange YTDChange       Country  \\\n",
       "0     1        Elon Musk            $311B    +$9.32B    +$141B  UnitedStates   \n",
       "1     2       Jeff Bezos            $195B    -$3.79B   +$5.06B  UnitedStates   \n",
       "2     3  Bernard Arnault            $167B     -$544M   +$52.7B        France   \n",
       "3     4       Bill Gates            $136B     +$906M   +$4.40B  UnitedStates   \n",
       "4     5       Larry Page            $131B    +$1.71B   +$48.7B  UnitedStates   \n",
       "\n",
       "     Industry  \n",
       "0  Technology  \n",
       "1  Technology  \n",
       "2    Consumer  \n",
       "3  Technology  \n",
       "4  Technology  "
      ]
     },
     "execution_count": 8,
     "metadata": {},
     "output_type": "execute_result"
    }
   ],
   "source": [
    "#top 5 billionaires are\n",
    "df.head()"
   ]
  },
  {
   "cell_type": "code",
   "execution_count": 9,
   "id": "b75df03c",
   "metadata": {},
   "outputs": [
    {
     "data": {
      "text/html": [
       "<div>\n",
       "<style scoped>\n",
       "    .dataframe tbody tr th:only-of-type {\n",
       "        vertical-align: middle;\n",
       "    }\n",
       "\n",
       "    .dataframe tbody tr th {\n",
       "        vertical-align: top;\n",
       "    }\n",
       "\n",
       "    .dataframe thead th {\n",
       "        text-align: right;\n",
       "    }\n",
       "</style>\n",
       "<table border=\"1\" class=\"dataframe\">\n",
       "  <thead>\n",
       "    <tr style=\"text-align: right;\">\n",
       "      <th></th>\n",
       "      <th>Rank</th>\n",
       "      <th>Name</th>\n",
       "      <th>Total_Net_Worth</th>\n",
       "      <th>LastChange</th>\n",
       "      <th>YTDChange</th>\n",
       "      <th>Country</th>\n",
       "      <th>Industry</th>\n",
       "    </tr>\n",
       "  </thead>\n",
       "  <tbody>\n",
       "    <tr>\n",
       "      <th>495</th>\n",
       "      <td>496</td>\n",
       "      <td>Barry Diller</td>\n",
       "      <td>$5.92B</td>\n",
       "      <td>-$73.5M</td>\n",
       "      <td>+$366M</td>\n",
       "      <td>UnitedStates</td>\n",
       "      <td>Technology</td>\n",
       "    </tr>\n",
       "    <tr>\n",
       "      <th>496</th>\n",
       "      <td>497</td>\n",
       "      <td>Cliff Obrecht</td>\n",
       "      <td>$5.89B</td>\n",
       "      <td>$0</td>\n",
       "      <td>+$4.99B</td>\n",
       "      <td>Australia</td>\n",
       "      <td>Services</td>\n",
       "    </tr>\n",
       "    <tr>\n",
       "      <th>497</th>\n",
       "      <td>498</td>\n",
       "      <td>Melanie Perkins</td>\n",
       "      <td>$5.89B</td>\n",
       "      <td>$0</td>\n",
       "      <td>+$4.99B</td>\n",
       "      <td>Australia</td>\n",
       "      <td>Services</td>\n",
       "    </tr>\n",
       "    <tr>\n",
       "      <th>498</th>\n",
       "      <td>499</td>\n",
       "      <td>Trevor Rees-Jones</td>\n",
       "      <td>$5.89B</td>\n",
       "      <td>-$106M</td>\n",
       "      <td>+$898M</td>\n",
       "      <td>UnitedStates</td>\n",
       "      <td>Energy</td>\n",
       "    </tr>\n",
       "    <tr>\n",
       "      <th>499</th>\n",
       "      <td>500</td>\n",
       "      <td>Frits Goldschmeding</td>\n",
       "      <td>$5.88B</td>\n",
       "      <td>-$90.7M</td>\n",
       "      <td>+$621M</td>\n",
       "      <td>Netherlands</td>\n",
       "      <td>Retail</td>\n",
       "    </tr>\n",
       "  </tbody>\n",
       "</table>\n",
       "</div>"
      ],
      "text/plain": [
       "     Rank                  Name Total_Net_Worth LastChange YTDChange  \\\n",
       "495   496         Barry Diller           $5.92B    -$73.5M    +$366M   \n",
       "496   497        Cliff Obrecht           $5.89B        $0    +$4.99B   \n",
       "497   498      Melanie Perkins           $5.89B        $0    +$4.99B   \n",
       "498   499    Trevor Rees-Jones           $5.89B     -$106M    +$898M   \n",
       "499   500  Frits Goldschmeding           $5.88B    -$90.7M    +$621M   \n",
       "\n",
       "          Country    Industry  \n",
       "495  UnitedStates  Technology  \n",
       "496     Australia    Services  \n",
       "497     Australia    Services  \n",
       "498  UnitedStates      Energy  \n",
       "499   Netherlands      Retail  "
      ]
     },
     "execution_count": 9,
     "metadata": {},
     "output_type": "execute_result"
    }
   ],
   "source": [
    "#bottom 5 billionaires of 500 people\n",
    "df.tail()"
   ]
  },
  {
   "cell_type": "code",
   "execution_count": 10,
   "id": "69824cf1",
   "metadata": {},
   "outputs": [
    {
     "data": {
      "text/html": [
       "<div>\n",
       "<style scoped>\n",
       "    .dataframe tbody tr th:only-of-type {\n",
       "        vertical-align: middle;\n",
       "    }\n",
       "\n",
       "    .dataframe tbody tr th {\n",
       "        vertical-align: top;\n",
       "    }\n",
       "\n",
       "    .dataframe thead th {\n",
       "        text-align: right;\n",
       "    }\n",
       "</style>\n",
       "<table border=\"1\" class=\"dataframe\">\n",
       "  <thead>\n",
       "    <tr style=\"text-align: right;\">\n",
       "      <th></th>\n",
       "      <th>Rank</th>\n",
       "      <th>Name</th>\n",
       "      <th>Total_Net_Worth</th>\n",
       "      <th>LastChange</th>\n",
       "      <th>YTDChange</th>\n",
       "      <th>Country</th>\n",
       "      <th>Industry</th>\n",
       "    </tr>\n",
       "  </thead>\n",
       "  <tbody>\n",
       "    <tr>\n",
       "      <th>count</th>\n",
       "      <td>500.000000</td>\n",
       "      <td>500</td>\n",
       "      <td>500</td>\n",
       "      <td>500</td>\n",
       "      <td>500</td>\n",
       "      <td>500</td>\n",
       "      <td>500</td>\n",
       "    </tr>\n",
       "    <tr>\n",
       "      <th>unique</th>\n",
       "      <td>NaN</td>\n",
       "      <td>500</td>\n",
       "      <td>333</td>\n",
       "      <td>402</td>\n",
       "      <td>412</td>\n",
       "      <td>49</td>\n",
       "      <td>16</td>\n",
       "    </tr>\n",
       "    <tr>\n",
       "      <th>top</th>\n",
       "      <td>NaN</td>\n",
       "      <td>Elon Musk</td>\n",
       "      <td>$11.2B</td>\n",
       "      <td>$0</td>\n",
       "      <td>+$1.10B</td>\n",
       "      <td>UnitedStates</td>\n",
       "      <td>Technology</td>\n",
       "    </tr>\n",
       "    <tr>\n",
       "      <th>freq</th>\n",
       "      <td>NaN</td>\n",
       "      <td>1</td>\n",
       "      <td>6</td>\n",
       "      <td>46</td>\n",
       "      <td>4</td>\n",
       "      <td>170</td>\n",
       "      <td>87</td>\n",
       "    </tr>\n",
       "    <tr>\n",
       "      <th>mean</th>\n",
       "      <td>250.500000</td>\n",
       "      <td>NaN</td>\n",
       "      <td>NaN</td>\n",
       "      <td>NaN</td>\n",
       "      <td>NaN</td>\n",
       "      <td>NaN</td>\n",
       "      <td>NaN</td>\n",
       "    </tr>\n",
       "    <tr>\n",
       "      <th>std</th>\n",
       "      <td>144.481833</td>\n",
       "      <td>NaN</td>\n",
       "      <td>NaN</td>\n",
       "      <td>NaN</td>\n",
       "      <td>NaN</td>\n",
       "      <td>NaN</td>\n",
       "      <td>NaN</td>\n",
       "    </tr>\n",
       "    <tr>\n",
       "      <th>min</th>\n",
       "      <td>1.000000</td>\n",
       "      <td>NaN</td>\n",
       "      <td>NaN</td>\n",
       "      <td>NaN</td>\n",
       "      <td>NaN</td>\n",
       "      <td>NaN</td>\n",
       "      <td>NaN</td>\n",
       "    </tr>\n",
       "    <tr>\n",
       "      <th>25%</th>\n",
       "      <td>125.750000</td>\n",
       "      <td>NaN</td>\n",
       "      <td>NaN</td>\n",
       "      <td>NaN</td>\n",
       "      <td>NaN</td>\n",
       "      <td>NaN</td>\n",
       "      <td>NaN</td>\n",
       "    </tr>\n",
       "    <tr>\n",
       "      <th>50%</th>\n",
       "      <td>250.500000</td>\n",
       "      <td>NaN</td>\n",
       "      <td>NaN</td>\n",
       "      <td>NaN</td>\n",
       "      <td>NaN</td>\n",
       "      <td>NaN</td>\n",
       "      <td>NaN</td>\n",
       "    </tr>\n",
       "    <tr>\n",
       "      <th>75%</th>\n",
       "      <td>375.250000</td>\n",
       "      <td>NaN</td>\n",
       "      <td>NaN</td>\n",
       "      <td>NaN</td>\n",
       "      <td>NaN</td>\n",
       "      <td>NaN</td>\n",
       "      <td>NaN</td>\n",
       "    </tr>\n",
       "    <tr>\n",
       "      <th>max</th>\n",
       "      <td>500.000000</td>\n",
       "      <td>NaN</td>\n",
       "      <td>NaN</td>\n",
       "      <td>NaN</td>\n",
       "      <td>NaN</td>\n",
       "      <td>NaN</td>\n",
       "      <td>NaN</td>\n",
       "    </tr>\n",
       "  </tbody>\n",
       "</table>\n",
       "</div>"
      ],
      "text/plain": [
       "              Rank        Name Total_Net_Worth LastChange YTDChange  \\\n",
       "count   500.000000         500             500        500       500   \n",
       "unique         NaN         500             333        402       412   \n",
       "top            NaN  Elon Musk           $11.2B        $0    +$1.10B   \n",
       "freq           NaN           1               6         46         4   \n",
       "mean    250.500000         NaN             NaN        NaN       NaN   \n",
       "std     144.481833         NaN             NaN        NaN       NaN   \n",
       "min       1.000000         NaN             NaN        NaN       NaN   \n",
       "25%     125.750000         NaN             NaN        NaN       NaN   \n",
       "50%     250.500000         NaN             NaN        NaN       NaN   \n",
       "75%     375.250000         NaN             NaN        NaN       NaN   \n",
       "max     500.000000         NaN             NaN        NaN       NaN   \n",
       "\n",
       "             Country    Industry  \n",
       "count            500         500  \n",
       "unique            49          16  \n",
       "top     UnitedStates  Technology  \n",
       "freq             170          87  \n",
       "mean             NaN         NaN  \n",
       "std              NaN         NaN  \n",
       "min              NaN         NaN  \n",
       "25%              NaN         NaN  \n",
       "50%              NaN         NaN  \n",
       "75%              NaN         NaN  \n",
       "max              NaN         NaN  "
      ]
     },
     "execution_count": 10,
     "metadata": {},
     "output_type": "execute_result"
    }
   ],
   "source": [
    "#statistical analysis of the dataset\n",
    "df.describe(include=['object', 'int64', 'float64'])"
   ]
  },
  {
   "cell_type": "code",
   "execution_count": 11,
   "id": "c430af87",
   "metadata": {},
   "outputs": [
    {
     "data": {
      "text/plain": [
       "array([[1, 'Elon Musk ', '$311B', ..., '+$141B', 'UnitedStates',\n",
       "        'Technology'],\n",
       "       [2, 'Jeff Bezos ', '$195B', ..., '+$5.06B', 'UnitedStates',\n",
       "        'Technology'],\n",
       "       [3, 'Bernard Arnault ', '$167B', ..., '+$52.7B', 'France',\n",
       "        'Consumer'],\n",
       "       ...,\n",
       "       [498, 'Melanie Perkins ', '$5.89B', ..., '+$4.99B', 'Australia',\n",
       "        'Services'],\n",
       "       [499, 'Trevor Rees-Jones ', '$5.89B', ..., '+$898M',\n",
       "        'UnitedStates', 'Energy'],\n",
       "       [500, 'Frits Goldschmeding ', '$5.88B', ..., '+$621M',\n",
       "        'Netherlands', 'Retail']], dtype=object)"
      ]
     },
     "execution_count": 11,
     "metadata": {},
     "output_type": "execute_result"
    }
   ],
   "source": [
    "#printing row wise values\n",
    "df.values"
   ]
  },
  {
   "cell_type": "code",
   "execution_count": 12,
   "id": "1b024230",
   "metadata": {},
   "outputs": [
    {
     "data": {
      "text/plain": [
       "'Elon Musk '"
      ]
     },
     "execution_count": 12,
     "metadata": {},
     "output_type": "execute_result"
    }
   ],
   "source": [
    "#printing single single values\n",
    "df.values[0][1]"
   ]
  },
  {
   "cell_type": "markdown",
   "id": "47902325",
   "metadata": {},
   "source": [
    "# deriving simple insights - Column Wise"
   ]
  },
  {
   "cell_type": "code",
   "execution_count": 13,
   "id": "ecfda0df",
   "metadata": {},
   "outputs": [
    {
     "data": {
      "text/plain": [
       "Rank               500\n",
       "Name               500\n",
       "Total_Net_Worth    333\n",
       "LastChange         402\n",
       "YTDChange          412\n",
       "Country             49\n",
       "Industry            16\n",
       "dtype: int64"
      ]
     },
     "execution_count": 13,
     "metadata": {},
     "output_type": "execute_result"
    }
   ],
   "source": [
    "#no.of.unique values are\n",
    "df.nunique()"
   ]
  },
  {
   "cell_type": "code",
   "execution_count": 14,
   "id": "eb4f6b8c",
   "metadata": {},
   "outputs": [
    {
     "data": {
      "text/plain": [
       "array(['Elon Musk ', 'Jeff Bezos ', 'Bernard Arnault ', 'Bill Gates ',\n",
       "       'Larry Page ', 'Sergey Brin ', 'Mark Zuckerberg ',\n",
       "       'Steve Ballmer ', 'Larry Ellison ', 'Warren Buffett ',\n",
       "       'Mukesh Ambani ', 'Francoise Bettencourt Meyers', 'Gautam Adani ',\n",
       "       'Amancio Ortega ', 'Jim Walton ', 'Rob Walton ', 'Zhong Shanshan ',\n",
       "       'Alice Walton ', 'Carlos Slim ', 'Phil Knight&family ',\n",
       "       'Charles Koch ', 'Julia Flesher Koch&family', 'Zeng Yuqun ',\n",
       "       'MacKenzie Scott ', 'Michael Dell ', 'Francois Pinault ',\n",
       "       'Ma Huateng ', 'Jacqueline Badger Mars', 'John Mars ',\n",
       "       'Len Blavatnik ', 'Zhang Yiming ', 'Jack Ma ',\n",
       "       'Stephen Schwarzman ', 'Azim Premji ', 'Klaus-Michael Kuehne ',\n",
       "       'Giovanni Ferrero&family ', 'Tadashi Yanai ',\n",
       "       'Takemitsu Takizaki ', 'Leonard Lauder ', 'Leonid Mikhelson ',\n",
       "       'Leonardo Del Vecchio', 'Vladimir Potanin ', 'Pallonji Mistry ',\n",
       "       'William Ding ', 'Colin Huang ', 'Li Ka-shing ', 'Li Shu Fu',\n",
       "       'Alain Wertheimer ', 'Gerard Wertheimer ', 'He Xiangjian ',\n",
       "       'Dieter Schwarz ', 'Dan Gilbert ', 'Alexey Mordashov ',\n",
       "       'Vladimir Lisin ', 'Shiv Nadar ', 'Eric Schmidt ',\n",
       "       'Dustin Moskovitz ', 'Scott Farquhar ', 'Mike Cannon-Brookes ',\n",
       "       'Wei Jianjun ', 'Abigail Johnson ', 'Miriam Adelson ',\n",
       "       'Yang Huiyan ', 'James Simons ', 'Wang Chuan-Fu ', 'James Dyson ',\n",
       "       'Henry Cheng ', 'Pang Kang ', 'Vagit Alekperov ', 'Huang Shilin ',\n",
       "       'Radhakishan Damani ', 'Jensen Huang ', 'Gennady Timchenko ',\n",
       "       'Lukas Walton ', 'Susanne Klatten ', 'Lee Shau Kee',\n",
       "       'Masayoshi Son ', 'Carl Icahn ', 'Thomas Peterffy ',\n",
       "       'Thomas Frist ', 'John Menard ', 'Qin Yinglin ', 'Ken Griffin ',\n",
       "       'Lakshmi Mittal ', 'Alisher Usmanov ', 'Thomas Struengmann ',\n",
       "       'Andreas Struengmann ', 'Jorge Paulo Lemann', 'Stefan Quandt ',\n",
       "       'Ernesto Bertarelli&family ', 'Iris Fontbona&family ',\n",
       "       'Li Xiting ', 'Zhang Zhidong ', 'Elaine Marshall ', 'Forrest Li ',\n",
       "       'Peter Woo ', 'Wang Xing ', 'Jiang Rensheng ', 'Stefan Persson ',\n",
       "       'Gustaf Douglas&family ', 'Donald Newhouse ', 'Aliko Dangote ',\n",
       "       'Robert Kuok ', 'Laurene Powell Jobs', 'Lei Jun ',\n",
       "       'Roman Abramovich ', 'Budi Hartono ', 'Xu Hang ', 'Jay Chaudhry ',\n",
       "       'Viktor Vekselberg ', 'Wang Wei ', 'Andrey Melnichenko ',\n",
       "       'Ernie Garcia ', 'Sara Mota de Larrea&family', 'Gina Rinehart ',\n",
       "       'Michael Hartono ', 'Richard Liu ', 'Alwaleed Bin Talal',\n",
       "       'Dave Duffield ', 'Eduardo Saverin ', 'Chen Bang ', 'Donald Bren ',\n",
       "       'Andrew Forrest ', 'Uday Kotak ', 'Charlene de Carvalho-Heineken',\n",
       "       'Cyrus Poonawalla ', 'Hasso Plattner ', 'Ned Johnson III',\n",
       "       'Vicky Safra ', 'Jim Goodnight ', 'Karl Albrecht Jr',\n",
       "       'Beate Heister ', 'Ray Dalio ', 'Pei Zhenhua ',\n",
       "       'Charoen Sirivadhanabhakdi ', 'Dietrich Mateschitz ',\n",
       "       'Mikhail Fridman ', 'Li Zhenguo ', 'Ricardo Salinas ',\n",
       "       'David Tepper ', 'Jim Ratcliffe ', 'Harold Hamm ',\n",
       "       'Goh Cheng Liang', 'Philip Anschutz ', 'Sherry Brydson ',\n",
       "       'Wang Wenyin ', 'Ma Jianrong ', 'Lv Xiang-yang ', 'Jack Dorsey ',\n",
       "       'Brian Chesky ', 'Victor Rashnikov ', 'Lui Che-Woo ',\n",
       "       'Lin Jianhua ', 'Mikhail Prokhorov ', 'Sam Bankman-Fried ',\n",
       "       'Charles Schwab ', 'Reinhold Wuerth ', 'Dilip Shanghvi ',\n",
       "       'Jan Koum ', 'Wu Yajun ', 'Melker Schorling ', 'Zhang Bo ',\n",
       "       'Eric Yuan ', 'Zhang Congyuan ', 'Robert Pera ', 'Charles Ergen ',\n",
       "       'Leon Black ', 'Gong Hongjia ', 'Savitri Jindal ',\n",
       "       'Hugh Grosvenor ', 'Tobi Lutke ', 'George Roberts ',\n",
       "       'Fan Hongwei ', 'Brian Armstrong ', 'David Geffen ', 'Ugur Sahin ',\n",
       "       'Dang Yanbao ', 'Liu Hanyuan ', 'Sun Piaoyang ', 'Kumar Birla ',\n",
       "       'Henry Kravis ', 'Marijke Mars ', 'Victoria Mars ',\n",
       "       'Pamela Mars-Wright ', 'Valerie Mars ', 'Jorge Moll&family ',\n",
       "       'Joe Gebbia ', 'Melinda French Gates', 'Robin Li ',\n",
       "       'Nathan Blecharczyk ', 'Liu Jincheng ', 'Eyal Ofer ',\n",
       "       'Alejandro Santo Domingo&family', 'Steven Rales ',\n",
       "       'Sarath Ratanavadi ', 'Raymond Kwok ', 'Jim Davis ',\n",
       "       'Marc Benioff ', 'Sunil Mittal ', 'Paolo Rocca&family ',\n",
       "       'Patrick Collison ', 'John Collison ', 'Suleiman Kerimov ',\n",
       "       'Dmitry Rybolovlev ', 'Qi Shi ', 'Stan Kroenke ', 'Jin Baofang ',\n",
       "       'Micky Arison ', 'Gang Ye ', 'Brian Kim ', 'Pierre Omidyar ',\n",
       "       'Thomas Kwok ', 'Steve Cohen ', 'Rinat Akhmetov ', 'Carl Bennet ',\n",
       "       'Anders Holch Povlsen&family', 'John Grayken ', 'Zhou Qunfei ',\n",
       "       'Antonia Axson Johnson', 'Bobby Murphy ',\n",
       "       'Heinrich Deichmann&family ', 'Harry Triguboff ', 'Michael Platt ',\n",
       "       'Stephane Bancel ', 'Dietmar Hopp ', 'Gordon Moore ',\n",
       "       'Christy Walton ', 'Cao Renxian ', 'Patrick Soon-Shiong ',\n",
       "       'Carl Cook ', 'Michael Kadoorie ', 'Stan Druckenmiller ',\n",
       "       'Qian Dongqi ', 'Stefano Pessina ', 'German Khan ',\n",
       "       'Laurent Dassault ', 'Marie-Helene Habert-Dassault ',\n",
       "       'Thierry Dassault ', 'Johann Rupert&family ', 'Emmanuel Besnier ',\n",
       "       'Marcel Telles ', 'Evan Spiegel ', 'John Albert Sobrato',\n",
       "       'Gianluigi Aponte ', 'Li Ge ', 'Les Wexner ', 'Chen Zhiping ',\n",
       "       'Jay Y. Lee', 'Liu Yongxing ', 'John Fredriksen ', 'Li Ping ',\n",
       "       'Izzy Englander ', 'Graeme Hart ', 'Liu Yonghao ',\n",
       "       'Ding Shizhong ', 'Zhong Huijuan ', 'KP Singh  ', 'Leonid Fedun ',\n",
       "       'Jerry Jones ', 'Wee Cho Yaw', 'Andy Beal ', 'John Malone ',\n",
       "       'Georg Schaeffler ', 'August von Finck', 'Ding Shijia ',\n",
       "       'Patrick Drahi ', 'Tim Sweeney ', 'Niels Louis-Hansen ',\n",
       "       'Alexander Abramov ', 'Theo Albrecht Jr', 'Mitchell Rales ',\n",
       "       'Rocco Commisso ', 'Rupert Murdoch ', 'Silvio Berlusconi ',\n",
       "       'Luis Sarmiento ', 'Taylor Thomson ', 'Alberto Bailleres ',\n",
       "       'George Lucas ', 'David Thomson ', 'Peter Thomson ',\n",
       "       'Anthony Pratt ', 'Giorgio Armani ', 'Blair Parry-Okeden ',\n",
       "       'Jim Kennedy ', 'Samuel Yin ', 'Magdalena Martullo ',\n",
       "       'Hansjoerg Wyss ', 'Anthony von Mandl', 'Benu Bangur ',\n",
       "       'Joseph Tsai ', 'Reinhold Schmieding ', 'Wang Laisheng ',\n",
       "       'Carlos Sicupira ', 'Andy Bechtolsheim ', 'Ernest Garcia III',\n",
       "       'Nusli Wadia ', 'Rahel Blocher ', 'Robert Smith ',\n",
       "       'Pham Nhat Vuong', 'Tammy Gustavson ', 'David Sun ', 'John Tu ',\n",
       "       'Shigenobu Nagamori ', 'Jude Reyes ', 'Chris Reyes ',\n",
       "       'Rahul Bajaj ', 'Michael Otto ', 'Sandra Ortega Mera',\n",
       "       'John Doerr ', 'Yu Yong ', 'Iskandar Makhmudov ', 'Stephen Ross ',\n",
       "       'James Pattison ', 'Xavier Niel ', 'Ned Johnson IV',\n",
       "       'Elizabeth Johnson ', 'Oleg Tinkov ', 'Martin Viessmann&family ',\n",
       "       'Chase Coleman ', 'Johann Graf ', 'Mat Ishbia ', 'Wu Shaoxun ',\n",
       "       'Jian Jun ', 'Wang Jianlin ', 'Vincent Bollore ', 'Cen Junda ',\n",
       "       'Michael Rubin ', 'Richard Kinder ', 'Cai Kui ', 'Yao Liangsong ',\n",
       "       'Li Shuirong ', 'Nicky Oppenheimer ', 'Ronda Stryker ',\n",
       "       'Gabe Newell ', 'He Xiaopeng ', 'Ralph Lauren ', 'Cheng Xue ',\n",
       "       'Natie Kirsh ', 'Xu Shihui ', 'Josh Harris ', 'Dennis Washington ',\n",
       "       'Wang Laichun ', 'Frederik Paulsen ', 'Zhao Yan ',\n",
       "       'Laurence Graff ', 'John Sall ', 'Andrey Guryev ', 'Liz Mohn ',\n",
       "       'Leng You-Bin ', 'Tatyana Bakalchuk ', 'Steven Spielberg ',\n",
       "       'Charles Butt&family ', 'Frank Lowy ',\n",
       "       'Juan Beckmann Vidal&family', 'Takahisa Takahara ', 'Shahid Khan ',\n",
       "       'Alexey Kuzmichev ', 'Shari Arison ', 'Lin Bin ', 'Chen Jianhua ',\n",
       "       'Guillaume Pousaz ', 'Horst Pudwill ', 'Wang Yusuo ',\n",
       "       'Tito Beveridge ', 'Yu Renrong ', 'Andre Hoffmann ',\n",
       "       'Alain Merieux ', 'George Soros ', 'Terry Pegula ',\n",
       "       'Nancy Laurie ', 'Anthony Bamford&family ', 'Jorn Rausing ',\n",
       "       'Axel Oberwelland ', 'Sergey Gordeev ', 'Chip Wilson ',\n",
       "       'Stef Wertheimer ', 'Manuel Villar ', 'David Shaw ', 'Dan Cathy ',\n",
       "       'Bubba Cathy ', 'Hui Ka Yan', 'Teh Hong Piow', 'Ludwig Merckle ',\n",
       "       'Vyacheslav Kantor ', 'Reed Hastings ', 'Peter Thiel ',\n",
       "       'Tom Gores ', 'Bob Rich ', 'Mohammed Al Amoudi', 'Mark Shoen ',\n",
       "       'Vyacheslav Kim ', 'German Larrea ', 'Denis Sverdlov ',\n",
       "       'Gwendolyn Sontheim Meyer', 'Pauline Keinath ', 'Chris Hohn ',\n",
       "       'Patrick Ryan ', 'Linda Campbell ', 'Gaye Farncombe ', 'Jon Gray ',\n",
       "       'Mike Novogratz ', 'Peter-Alexander Wacker&family ',\n",
       "       'Vera Michalski-Hoffmann ', 'Maja Hoffmann ', 'Lynn Schusterman ',\n",
       "       'Yeung Kin-Man ', 'Lu Weiding ', 'Geoffrey Kwok ',\n",
       "       'Randa Williams ', 'Dannine Avara ', 'Scott Duncan ',\n",
       "       'Alexander Otto ', 'Matthew Prince ', 'Milane Frantz ',\n",
       "       'Jane Lauder ', 'Steve Feinberg ', 'Ruan Liping ',\n",
       "       'Mikheil Lomtadze ', 'Ashwin Dani&family ', 'Nassef Sawiris ',\n",
       "       'Ruan Xueping ', 'Fredrik Lundberg ', 'Joseph Lau ',\n",
       "       'Seo Jung-Jin ', 'Ivan Glasenberg ', 'Edward Roski ',\n",
       "       'Simon Reuben ', 'David Reuben ', 'Gao Dekang ', 'Henry Samueli ',\n",
       "       'Ronald McAulay ', 'Nik Storonsky ', 'Petr Aven ', 'J K Irving',\n",
       "       'Marc Rowan ', 'Hiroshi Mikitani ', 'Idan Ofer ', 'Frank Wang ',\n",
       "       'Zhang Lei ', 'Tony Ressler ', 'David Bonderman ', 'Olav Thon ',\n",
       "       'Mahendra Choksi&family ', 'Joe Lewis ', 'Charles Cadogan ',\n",
       "       'Su Hua ', 'Martin Lorentzon ', 'Jean-Pierre Cayard ',\n",
       "       'Marcos Galperin ', 'Bin Li ', 'Tsai Eng-Meng ', 'Ann Kroenke ',\n",
       "       'Kjeld Kirk Kristiansen', 'Lai Meisong ', 'Ken Fisher ',\n",
       "       'Abhay Vakil&family ', 'Tom Morris ', 'Leonard Stern ',\n",
       "       'Kenneth Dart ', 'Jean-Michel Besnier ', 'Pat Stryker ',\n",
       "       'Sam Zell ', 'Jeffery Hildebrand ', 'Joe Mansueto ',\n",
       "       'Wang Yanqing ', 'Arthur Irving ', 'Sofie Kirk Kristiansen',\n",
       "       'Agnete Kirk Thinggaard', 'Thomas Kirk Kristiansen', 'Ray Hunt ',\n",
       "       'Terry Gou ', 'Hui Wing Mau', 'Henry Laufer ', 'M A Yusuff Ali',\n",
       "       'Johan Johannson&family ', 'Richard Branson ', 'Tony James ',\n",
       "       'Jiang Bin ', 'Denise Coates ', 'Andreas Halvorsen ', 'Lin Muqin ',\n",
       "       'Wang Wenjing ', 'Barry Lam ', 'Kim Jung-Ju ', 'Kei Hoi Pang',\n",
       "       'Antti Herlin ', 'Bidzina Ivanishvili ', 'Richard Li ',\n",
       "       'Robert Kraft ', 'Katharine Rayner ', 'Margaretta Taylor ',\n",
       "       'James Cox Chambers', 'Mark Cuban ', 'Eric Smidt ',\n",
       "       'Majid Al Futtaim', 'Barry Diller ', 'Cliff Obrecht ',\n",
       "       'Melanie Perkins ', 'Trevor Rees-Jones ', 'Frits Goldschmeding '],\n",
       "      dtype=object)"
      ]
     },
     "execution_count": 14,
     "metadata": {},
     "output_type": "execute_result"
    }
   ],
   "source": [
    "#list of top 500 billionaires\n",
    "df['Name'].unique()"
   ]
  },
  {
   "cell_type": "code",
   "execution_count": 15,
   "id": "b26de881",
   "metadata": {},
   "outputs": [
    {
     "data": {
      "text/plain": [
       "array(['Technology', 'Consumer', 'Diversified', 'Energy', 'Industrial',\n",
       "       'Retail', 'Food&Beverage', 'Finance', 'Commodities', 'Real Estate',\n",
       "       'Entertainment', 'Health Care', 'Media&Telecom', ' Media&Telecom',\n",
       "       'Services', 'Islands'], dtype=object)"
      ]
     },
     "execution_count": 15,
     "metadata": {},
     "output_type": "execute_result"
    }
   ],
   "source": [
    "#list of industries taken part\n",
    "df['Industry'].unique()"
   ]
  },
  {
   "cell_type": "code",
   "execution_count": 16,
   "id": "4421039f",
   "metadata": {},
   "outputs": [
    {
     "data": {
      "text/plain": [
       "array(['UnitedStates', 'France', 'India', 'Spain', 'China', 'Mexico',\n",
       "       'HongKong', 'Germany', 'Italy', 'Japan', 'RussianFederation',\n",
       "       'Ireland', 'Australia', 'UnitedKingdom', 'Brazil', 'Switzerland',\n",
       "       'Chile', 'Singapore', 'Sweden', 'Nigeria', 'Malaysia', 'Indonesia',\n",
       "       'SaudiArabia', 'Netherlands', 'Greece', 'Thailand', 'Austria',\n",
       "       'Canada', 'Taiwan', 'Israel', 'Colombia', 'Korea', 'Ukraine',\n",
       "       'Denmark', 'Monaco', 'SouthAfrica', 'Cyprus', 'New Zealand',\n",
       "       'VietNam', 'Philippines', 'Kazakhstan', 'Georgia', 'Egypt',\n",
       "       'Norway', 'Argentina', 'Cayman', 'UAE', 'SouthKorea', 'Finland'],\n",
       "      dtype=object)"
      ]
     },
     "execution_count": 16,
     "metadata": {},
     "output_type": "execute_result"
    }
   ],
   "source": [
    "\n",
    "#total countries involved in the dataset\n",
    "df['Country'].unique()"
   ]
  },
  {
   "cell_type": "code",
   "execution_count": 17,
   "id": "bbd3ee8d",
   "metadata": {},
   "outputs": [
    {
     "data": {
      "text/html": [
       "<div>\n",
       "<style scoped>\n",
       "    .dataframe tbody tr th:only-of-type {\n",
       "        vertical-align: middle;\n",
       "    }\n",
       "\n",
       "    .dataframe tbody tr th {\n",
       "        vertical-align: top;\n",
       "    }\n",
       "\n",
       "    .dataframe thead th {\n",
       "        text-align: right;\n",
       "    }\n",
       "</style>\n",
       "<table border=\"1\" class=\"dataframe\">\n",
       "  <thead>\n",
       "    <tr style=\"text-align: right;\">\n",
       "      <th></th>\n",
       "      <th>Rank</th>\n",
       "      <th>Name</th>\n",
       "      <th>Total_Net_Worth</th>\n",
       "      <th>LastChange</th>\n",
       "      <th>YTDChange</th>\n",
       "      <th>Country</th>\n",
       "      <th>Industry</th>\n",
       "    </tr>\n",
       "  </thead>\n",
       "  <tbody>\n",
       "    <tr>\n",
       "      <th>0</th>\n",
       "      <td>1</td>\n",
       "      <td>Elon Musk</td>\n",
       "      <td>$311B</td>\n",
       "      <td>+$9.32B</td>\n",
       "      <td>+$141B</td>\n",
       "      <td>UnitedStates</td>\n",
       "      <td>Technology</td>\n",
       "    </tr>\n",
       "    <tr>\n",
       "      <th>1</th>\n",
       "      <td>2</td>\n",
       "      <td>Jeff Bezos</td>\n",
       "      <td>$195B</td>\n",
       "      <td>-$3.79B</td>\n",
       "      <td>+$5.06B</td>\n",
       "      <td>UnitedStates</td>\n",
       "      <td>Technology</td>\n",
       "    </tr>\n",
       "    <tr>\n",
       "      <th>3</th>\n",
       "      <td>4</td>\n",
       "      <td>Bill Gates</td>\n",
       "      <td>$136B</td>\n",
       "      <td>+$906M</td>\n",
       "      <td>+$4.40B</td>\n",
       "      <td>UnitedStates</td>\n",
       "      <td>Technology</td>\n",
       "    </tr>\n",
       "    <tr>\n",
       "      <th>4</th>\n",
       "      <td>5</td>\n",
       "      <td>Larry Page</td>\n",
       "      <td>$131B</td>\n",
       "      <td>+$1.71B</td>\n",
       "      <td>+$48.7B</td>\n",
       "      <td>UnitedStates</td>\n",
       "      <td>Technology</td>\n",
       "    </tr>\n",
       "    <tr>\n",
       "      <th>5</th>\n",
       "      <td>6</td>\n",
       "      <td>Sergey Brin</td>\n",
       "      <td>$126B</td>\n",
       "      <td>+$1.64B</td>\n",
       "      <td>+$46.7B</td>\n",
       "      <td>UnitedStates</td>\n",
       "      <td>Technology</td>\n",
       "    </tr>\n",
       "    <tr>\n",
       "      <th>...</th>\n",
       "      <td>...</td>\n",
       "      <td>...</td>\n",
       "      <td>...</td>\n",
       "      <td>...</td>\n",
       "      <td>...</td>\n",
       "      <td>...</td>\n",
       "      <td>...</td>\n",
       "    </tr>\n",
       "    <tr>\n",
       "      <th>491</th>\n",
       "      <td>492</td>\n",
       "      <td>James Cox Chambers</td>\n",
       "      <td>$5.95B</td>\n",
       "      <td>-$36.2M</td>\n",
       "      <td>-$166M</td>\n",
       "      <td>UnitedStates</td>\n",
       "      <td>Media&amp;Telecom</td>\n",
       "    </tr>\n",
       "    <tr>\n",
       "      <th>492</th>\n",
       "      <td>493</td>\n",
       "      <td>Mark Cuban</td>\n",
       "      <td>$5.95B</td>\n",
       "      <td>$0</td>\n",
       "      <td>+$1.03B</td>\n",
       "      <td>UnitedStates</td>\n",
       "      <td>Technology</td>\n",
       "    </tr>\n",
       "    <tr>\n",
       "      <th>493</th>\n",
       "      <td>494</td>\n",
       "      <td>Eric Smidt</td>\n",
       "      <td>$5.94B</td>\n",
       "      <td>+$42.1M</td>\n",
       "      <td>+$354M</td>\n",
       "      <td>UnitedStates</td>\n",
       "      <td>Retail</td>\n",
       "    </tr>\n",
       "    <tr>\n",
       "      <th>495</th>\n",
       "      <td>496</td>\n",
       "      <td>Barry Diller</td>\n",
       "      <td>$5.92B</td>\n",
       "      <td>-$73.5M</td>\n",
       "      <td>+$366M</td>\n",
       "      <td>UnitedStates</td>\n",
       "      <td>Technology</td>\n",
       "    </tr>\n",
       "    <tr>\n",
       "      <th>498</th>\n",
       "      <td>499</td>\n",
       "      <td>Trevor Rees-Jones</td>\n",
       "      <td>$5.89B</td>\n",
       "      <td>-$106M</td>\n",
       "      <td>+$898M</td>\n",
       "      <td>UnitedStates</td>\n",
       "      <td>Energy</td>\n",
       "    </tr>\n",
       "  </tbody>\n",
       "</table>\n",
       "<p>170 rows × 7 columns</p>\n",
       "</div>"
      ],
      "text/plain": [
       "     Rank                Name Total_Net_Worth LastChange YTDChange  \\\n",
       "0       1          Elon Musk            $311B    +$9.32B    +$141B   \n",
       "1       2         Jeff Bezos            $195B    -$3.79B   +$5.06B   \n",
       "3       4         Bill Gates            $136B     +$906M   +$4.40B   \n",
       "4       5         Larry Page            $131B    +$1.71B   +$48.7B   \n",
       "5       6        Sergey Brin            $126B    +$1.64B   +$46.7B   \n",
       "..    ...                 ...             ...        ...       ...   \n",
       "491   492  James Cox Chambers          $5.95B    -$36.2M    -$166M   \n",
       "492   493         Mark Cuban           $5.95B        $0    +$1.03B   \n",
       "493   494         Eric Smidt           $5.94B    +$42.1M    +$354M   \n",
       "495   496       Barry Diller           $5.92B    -$73.5M    +$366M   \n",
       "498   499  Trevor Rees-Jones           $5.89B     -$106M    +$898M   \n",
       "\n",
       "          Country       Industry  \n",
       "0    UnitedStates     Technology  \n",
       "1    UnitedStates     Technology  \n",
       "3    UnitedStates     Technology  \n",
       "4    UnitedStates     Technology  \n",
       "5    UnitedStates     Technology  \n",
       "..            ...            ...  \n",
       "491  UnitedStates  Media&Telecom  \n",
       "492  UnitedStates     Technology  \n",
       "493  UnitedStates         Retail  \n",
       "495  UnitedStates     Technology  \n",
       "498  UnitedStates         Energy  \n",
       "\n",
       "[170 rows x 7 columns]"
      ]
     },
     "execution_count": 17,
     "metadata": {},
     "output_type": "execute_result"
    }
   ],
   "source": [
    "#no.of.billionaires from UnitedStates\n",
    "a=df[df['Country']=='UnitedStates']\n",
    "a"
   ]
  },
  {
   "cell_type": "code",
   "execution_count": 18,
   "id": "e6a95f93",
   "metadata": {},
   "outputs": [
    {
     "data": {
      "text/plain": [
       "170"
      ]
     },
     "execution_count": 18,
     "metadata": {},
     "output_type": "execute_result"
    }
   ],
   "source": [
    "#no.of.billionaires from US are (i,e)170\n",
    "a.shape[0] #df.index"
   ]
  },
  {
   "cell_type": "code",
   "execution_count": 19,
   "id": "79ba032f",
   "metadata": {},
   "outputs": [
    {
     "data": {
      "text/plain": [
       "0    Technology\n",
       "1    Technology\n",
       "2      Consumer\n",
       "3    Technology\n",
       "4    Technology\n",
       "Name: Industry, dtype: object"
      ]
     },
     "execution_count": 19,
     "metadata": {},
     "output_type": "execute_result"
    }
   ],
   "source": [
    "#printing the industries of top 5 billionaires\n",
    "b=df.head()\n",
    "b['Industry']\n"
   ]
  },
  {
   "cell_type": "code",
   "execution_count": 20,
   "id": "7093247e",
   "metadata": {},
   "outputs": [
    {
     "data": {
      "text/plain": [
       "'$95.8B'"
      ]
     },
     "execution_count": 20,
     "metadata": {},
     "output_type": "execute_result"
    }
   ],
   "source": [
    "#why it returns this though high values exist. on what basis it does it ? \n",
    "df['Total_Net_Worth'].max() \n",
    "#how to find the accurate value"
   ]
  },
  {
   "cell_type": "code",
   "execution_count": 21,
   "id": "c3cd61f2",
   "metadata": {},
   "outputs": [
    {
     "name": "stdout",
     "output_type": "stream",
     "text": [
      "Finland\n",
      "Chile\n",
      "Nigeria\n",
      "Ukraine\n",
      "Monaco\n"
     ]
    }
   ],
   "source": [
    "#the country with least participation(last 5)\n",
    "d=df['Country'].value_counts().to_dict() #it gives the counts of the countries\n",
    "e=list(d.keys())\n",
    "e.reverse()\n",
    "for i in range(0,5):\n",
    "    print(e[i])\n"
   ]
  },
  {
   "cell_type": "code",
   "execution_count": 22,
   "id": "b5b73cee",
   "metadata": {},
   "outputs": [
    {
     "data": {
      "text/plain": [
       "[<matplotlib.lines.Line2D at 0x12bbfe1ef40>]"
      ]
     },
     "execution_count": 22,
     "metadata": {},
     "output_type": "execute_result"
    },
    {
     "data": {
      "image/png": "[encoded data removed]",
      "text/plain": [
       "<Figure size 432x288 with 1 Axes>"
      ]
     },
     "metadata": {
      "needs_background": "light"
     },
     "output_type": "display_data"
    }
   ],
   "source": [
    "plt.plot(df['Total_Net_Worth']) #on what basis is this graph produced"
   ]
  },
  {
   "cell_type": "code",
   "execution_count": 23,
   "id": "4f70aa54",
   "metadata": {},
   "outputs": [
    {
     "data": {
      "text/plain": [
       "15"
      ]
     },
     "execution_count": 23,
     "metadata": {},
     "output_type": "execute_result"
    }
   ],
   "source": [
    "#no.of.industries from UnitedStates\n",
    "f=df[df['Country']=='UnitedStates']\n",
    "f['Industry'].nunique() #those are"
   ]
  },
  {
   "cell_type": "code",
   "execution_count": 24,
   "id": "0467d725",
   "metadata": {},
   "outputs": [
    {
     "data": {
      "text/plain": [
       "array(['Technology', 'Diversified', 'Retail', 'Consumer', 'Industrial',\n",
       "       'Food&Beverage', 'Finance', 'Real Estate', 'Entertainment',\n",
       "       'Health Care', 'Media&Telecom', ' Media&Telecom', 'Energy',\n",
       "       'Services', 'Commodities'], dtype=object)"
      ]
     },
     "execution_count": 24,
     "metadata": {},
     "output_type": "execute_result"
    }
   ],
   "source": [
    "#industries from US are\n",
    "\n",
    "f['Industry'].unique()"
   ]
  },
  {
   "cell_type": "code",
   "execution_count": 25,
   "id": "c8d3d8ed",
   "metadata": {},
   "outputs": [
    {
     "data": {
      "text/plain": [
       "Technology        87\n",
       "Industrial        57\n",
       "Finance           55\n",
       "Diversified       45\n",
       "Consumer          39\n",
       "Real Estate       33\n",
       "Retail            32\n",
       "Food&Beverage     30\n",
       "Health Care       30\n",
       "Energy            27\n",
       "Media&Telecom     22\n",
       "Commodities       18\n",
       "Services          13\n",
       "Entertainment     10\n",
       " Media&Telecom     1\n",
       "Islands            1\n",
       "Name: Industry, dtype: int64"
      ]
     },
     "execution_count": 25,
     "metadata": {},
     "output_type": "execute_result"
    },
    {
     "data": {
      "image/png": "[encoded data removed]",
      "text/plain": [
       "<Figure size 1440x720 with 1 Axes>"
      ]
     },
     "metadata": {
      "needs_background": "light"
     },
     "output_type": "display_data"
    }
   ],
   "source": [
    "#showing the participation of each industries\n",
    "df['Industry'].value_counts().plot(kind = 'bar', rot = 45, sort_columns = True, figsize = (20,10), fontsize = 15)\n",
    "df['Industry'].value_counts()"
   ]
  },
  {
   "cell_type": "code",
   "execution_count": 26,
   "id": "0cd9d064",
   "metadata": {},
   "outputs": [
    {
     "data": {
      "text/plain": [
       "UnitedStates         170\n",
       "China                 81\n",
       "RussianFederation     27\n",
       "Germany               25\n",
       "India                 19\n",
       "France                16\n",
       "HongKong              16\n",
       "UnitedKingdom         15\n",
       "Canada                13\n",
       "Australia             10\n",
       "Sweden                 9\n",
       "Switzerland            9\n",
       "Japan                  6\n",
       "Mexico                 6\n",
       "Denmark                6\n",
       "Taiwan                 5\n",
       "Italy                  5\n",
       "Brazil                 5\n",
       "Singapore              5\n",
       "Israel                 4\n",
       "Ireland                4\n",
       "SouthAfrica            3\n",
       "Korea                  3\n",
       "Norway                 3\n",
       "Austria                2\n",
       "Colombia               2\n",
       "UAE                    2\n",
       "Thailand               2\n",
       "Netherlands            2\n",
       "SaudiArabia            2\n",
       "Indonesia              2\n",
       "Malaysia               2\n",
       "Spain                  2\n",
       "Georgia                2\n",
       "Cayman                 1\n",
       "Kazakhstan             1\n",
       "Argentina              1\n",
       "SouthKorea             1\n",
       "Egypt                  1\n",
       "Greece                 1\n",
       "Philippines            1\n",
       "VietNam                1\n",
       "New Zealand            1\n",
       "Cyprus                 1\n",
       "Monaco                 1\n",
       "Ukraine                1\n",
       "Nigeria                1\n",
       "Chile                  1\n",
       "Finland                1\n",
       "Name: Country, dtype: int64"
      ]
     },
     "execution_count": 26,
     "metadata": {},
     "output_type": "execute_result"
    },
    {
     "data": {
      "image/png": "[encoded data removed]",
      "text/plain": [
       "<Figure size 2160x720 with 1 Axes>"
      ]
     },
     "metadata": {
      "needs_background": "light"
     },
     "output_type": "display_data"
    }
   ],
   "source": [
    "#countires participation in the dataset\n",
    "df['Country'].value_counts().plot(kind = 'bar', rot = 45, sort_columns = True, figsize = (30,10), fontsize = 15)\n",
    "df['Country'].value_counts()"
   ]
  },
  {
   "cell_type": "code",
   "execution_count": 27,
   "id": "3848e1a1",
   "metadata": {},
   "outputs": [
    {
     "name": "stdout",
     "output_type": "stream",
     "text": [
      "float64\n"
     ]
    }
   ],
   "source": [
    "#converting Total_Net_Worth to integer\n",
    "\n",
    "'''for i in df['Total_Net_Worth']:\n",
    "    print(i,end='')\n",
    "    df['Total_Net_Worth'][i]=df['Total_Net_Worth'][i].str.split('$')\n",
    "    print(i,'\\n')'''\n",
    "\n",
    " #df['Total_Net_Worth'] = pd.eval(df['Total_Net_Worth'])\n",
    " #df.eval(df.Total_Net_Worth)\n",
    "\n",
    "#to check whether any Million values are present\n",
    "'''df['Total_Net_Worth'] = df['Total_Net_Worth'].map(lambda x: x.lstrip('$').rstrip('B'))\n",
    "df\n",
    "for i in df['Total_Net_Worth']:\n",
    "    print(i,end='\\t')'''\n",
    "\n",
    "\n",
    "df['Total_Net_Worth'] = df['Total_Net_Worth'].map(lambda x: x.lstrip('$').rstrip('B'))\n",
    "df['Total_Net_Worth']=pd.to_numeric(df['Total_Net_Worth'])\n",
    "print(df['Total_Net_Worth'].dtype)"
   ]
  },
  {
   "cell_type": "code",
   "execution_count": 28,
   "id": "3c3d0316",
   "metadata": {},
   "outputs": [
    {
     "data": {
      "text/plain": [
       "'Stephen Ross '"
      ]
     },
     "execution_count": 28,
     "metadata": {},
     "output_type": "execute_result"
    }
   ],
   "source": [
    "#man with highest 'Total_Net_Worth'\n",
    "df.loc[df['Total_Net_Worth'].max()] #df.values[312]\n",
    "df['Name'][311]\n",
    "\n",
    "#why this is not working ? \n",
    "#g=df.loc[df['Total_Net_Worth'].max()] #df.values[312]\n",
    "#df['Name'][g]"
   ]
  },
  {
   "cell_type": "code",
   "execution_count": 29,
   "id": "74f48156",
   "metadata": {},
   "outputs": [
    {
     "data": {
      "text/html": [
       "<div>\n",
       "<style scoped>\n",
       "    .dataframe tbody tr th:only-of-type {\n",
       "        vertical-align: middle;\n",
       "    }\n",
       "\n",
       "    .dataframe tbody tr th {\n",
       "        vertical-align: top;\n",
       "    }\n",
       "\n",
       "    .dataframe thead th {\n",
       "        text-align: right;\n",
       "    }\n",
       "</style>\n",
       "<table border=\"1\" class=\"dataframe\">\n",
       "  <thead>\n",
       "    <tr style=\"text-align: right;\">\n",
       "      <th></th>\n",
       "      <th>Rank</th>\n",
       "      <th>Name</th>\n",
       "      <th>Total_Net_Worth</th>\n",
       "      <th>LastChange</th>\n",
       "      <th>YTDChange</th>\n",
       "      <th>Country</th>\n",
       "      <th>Industry</th>\n",
       "    </tr>\n",
       "  </thead>\n",
       "  <tbody>\n",
       "    <tr>\n",
       "      <th>0</th>\n",
       "      <td>1</td>\n",
       "      <td>Elon Musk</td>\n",
       "      <td>311.00</td>\n",
       "      <td>+$9.32B</td>\n",
       "      <td>+$141B</td>\n",
       "      <td>UnitedStates</td>\n",
       "      <td>Technology</td>\n",
       "    </tr>\n",
       "    <tr>\n",
       "      <th>1</th>\n",
       "      <td>2</td>\n",
       "      <td>Jeff Bezos</td>\n",
       "      <td>195.00</td>\n",
       "      <td>-$3.79B</td>\n",
       "      <td>+$5.06B</td>\n",
       "      <td>UnitedStates</td>\n",
       "      <td>Technology</td>\n",
       "    </tr>\n",
       "    <tr>\n",
       "      <th>2</th>\n",
       "      <td>3</td>\n",
       "      <td>Bernard Arnault</td>\n",
       "      <td>167.00</td>\n",
       "      <td>-$544M</td>\n",
       "      <td>+$52.7B</td>\n",
       "      <td>France</td>\n",
       "      <td>Consumer</td>\n",
       "    </tr>\n",
       "    <tr>\n",
       "      <th>3</th>\n",
       "      <td>4</td>\n",
       "      <td>Bill Gates</td>\n",
       "      <td>136.00</td>\n",
       "      <td>+$906M</td>\n",
       "      <td>+$4.40B</td>\n",
       "      <td>UnitedStates</td>\n",
       "      <td>Technology</td>\n",
       "    </tr>\n",
       "    <tr>\n",
       "      <th>4</th>\n",
       "      <td>5</td>\n",
       "      <td>Larry Page</td>\n",
       "      <td>131.00</td>\n",
       "      <td>+$1.71B</td>\n",
       "      <td>+$48.7B</td>\n",
       "      <td>UnitedStates</td>\n",
       "      <td>Technology</td>\n",
       "    </tr>\n",
       "    <tr>\n",
       "      <th>...</th>\n",
       "      <td>...</td>\n",
       "      <td>...</td>\n",
       "      <td>...</td>\n",
       "      <td>...</td>\n",
       "      <td>...</td>\n",
       "      <td>...</td>\n",
       "      <td>...</td>\n",
       "    </tr>\n",
       "    <tr>\n",
       "      <th>495</th>\n",
       "      <td>496</td>\n",
       "      <td>Barry Diller</td>\n",
       "      <td>5.92</td>\n",
       "      <td>-$73.5M</td>\n",
       "      <td>+$366M</td>\n",
       "      <td>UnitedStates</td>\n",
       "      <td>Technology</td>\n",
       "    </tr>\n",
       "    <tr>\n",
       "      <th>496</th>\n",
       "      <td>497</td>\n",
       "      <td>Cliff Obrecht</td>\n",
       "      <td>5.89</td>\n",
       "      <td>$0</td>\n",
       "      <td>+$4.99B</td>\n",
       "      <td>Australia</td>\n",
       "      <td>Services</td>\n",
       "    </tr>\n",
       "    <tr>\n",
       "      <th>497</th>\n",
       "      <td>498</td>\n",
       "      <td>Melanie Perkins</td>\n",
       "      <td>5.89</td>\n",
       "      <td>$0</td>\n",
       "      <td>+$4.99B</td>\n",
       "      <td>Australia</td>\n",
       "      <td>Services</td>\n",
       "    </tr>\n",
       "    <tr>\n",
       "      <th>498</th>\n",
       "      <td>499</td>\n",
       "      <td>Trevor Rees-Jones</td>\n",
       "      <td>5.89</td>\n",
       "      <td>-$106M</td>\n",
       "      <td>+$898M</td>\n",
       "      <td>UnitedStates</td>\n",
       "      <td>Energy</td>\n",
       "    </tr>\n",
       "    <tr>\n",
       "      <th>499</th>\n",
       "      <td>500</td>\n",
       "      <td>Frits Goldschmeding</td>\n",
       "      <td>5.88</td>\n",
       "      <td>-$90.7M</td>\n",
       "      <td>+$621M</td>\n",
       "      <td>Netherlands</td>\n",
       "      <td>Retail</td>\n",
       "    </tr>\n",
       "  </tbody>\n",
       "</table>\n",
       "<p>500 rows × 7 columns</p>\n",
       "</div>"
      ],
      "text/plain": [
       "     Rank                  Name  Total_Net_Worth LastChange YTDChange  \\\n",
       "0       1            Elon Musk            311.00    +$9.32B    +$141B   \n",
       "1       2           Jeff Bezos            195.00    -$3.79B   +$5.06B   \n",
       "2       3      Bernard Arnault            167.00     -$544M   +$52.7B   \n",
       "3       4           Bill Gates            136.00     +$906M   +$4.40B   \n",
       "4       5           Larry Page            131.00    +$1.71B   +$48.7B   \n",
       "..    ...                   ...              ...        ...       ...   \n",
       "495   496         Barry Diller              5.92    -$73.5M    +$366M   \n",
       "496   497        Cliff Obrecht              5.89        $0    +$4.99B   \n",
       "497   498      Melanie Perkins              5.89        $0    +$4.99B   \n",
       "498   499    Trevor Rees-Jones              5.89     -$106M    +$898M   \n",
       "499   500  Frits Goldschmeding              5.88    -$90.7M    +$621M   \n",
       "\n",
       "          Country    Industry  \n",
       "0    UnitedStates  Technology  \n",
       "1    UnitedStates  Technology  \n",
       "2          France    Consumer  \n",
       "3    UnitedStates  Technology  \n",
       "4    UnitedStates  Technology  \n",
       "..            ...         ...  \n",
       "495  UnitedStates  Technology  \n",
       "496     Australia    Services  \n",
       "497     Australia    Services  \n",
       "498  UnitedStates      Energy  \n",
       "499   Netherlands      Retail  \n",
       "\n",
       "[500 rows x 7 columns]"
      ]
     },
     "execution_count": 29,
     "metadata": {},
     "output_type": "execute_result"
    }
   ],
   "source": [
    "df"
   ]
  },
  {
   "cell_type": "code",
   "execution_count": 69,
   "id": "1035f492",
   "metadata": {},
   "outputs": [
    {
     "name": "stdout",
     "output_type": "stream",
     "text": [
      "     Rank                  Name Total_Net_Worth LastChange YTDChange  \\\n",
      "0       1            Elon Musk            $311B       9.32    +$141B   \n",
      "1       2           Jeff Bezos            $195B       3.79   +$5.06B   \n",
      "2       3      Bernard Arnault            $167B       544M   +$52.7B   \n",
      "3       4           Bill Gates            $136B       906M   +$4.40B   \n",
      "4       5           Larry Page            $131B       1.71   +$48.7B   \n",
      "..    ...                   ...             ...        ...       ...   \n",
      "495   496         Barry Diller           $5.92B      73.5M    +$366M   \n",
      "496   497        Cliff Obrecht           $5.89B         0    +$4.99B   \n",
      "497   498      Melanie Perkins           $5.89B         0    +$4.99B   \n",
      "498   499    Trevor Rees-Jones           $5.89B       106M    +$898M   \n",
      "499   500  Frits Goldschmeding           $5.88B      90.7M    +$621M   \n",
      "\n",
      "          Country    Industry  \n",
      "0    UnitedStates  Technology  \n",
      "1    UnitedStates  Technology  \n",
      "2          France    Consumer  \n",
      "3    UnitedStates  Technology  \n",
      "4    UnitedStates  Technology  \n",
      "..            ...         ...  \n",
      "495  UnitedStates  Technology  \n",
      "496     Australia    Services  \n",
      "497     Australia    Services  \n",
      "498  UnitedStates      Energy  \n",
      "499   Netherlands      Retail  \n",
      "\n",
      "[500 rows x 7 columns]\n",
      "     Rank                  Name Total_Net_Worth LastChange YTDChange  \\\n",
      "0       1            Elon Musk            $311B       9.32    +$141B   \n",
      "1       2           Jeff Bezos            $195B       3.79   +$5.06B   \n",
      "2       3      Bernard Arnault            $167B       544M   +$52.7B   \n",
      "3       4           Bill Gates            $136B       906M   +$4.40B   \n",
      "4       5           Larry Page            $131B       1.71   +$48.7B   \n",
      "..    ...                   ...             ...        ...       ...   \n",
      "495   496         Barry Diller           $5.92B      73.5M    +$366M   \n",
      "496   497        Cliff Obrecht           $5.89B         0    +$4.99B   \n",
      "497   498      Melanie Perkins           $5.89B         0    +$4.99B   \n",
      "498   499    Trevor Rees-Jones           $5.89B       106M    +$898M   \n",
      "499   500  Frits Goldschmeding           $5.88B      90.7M    +$621M   \n",
      "\n",
      "          Country    Industry  \n",
      "0    UnitedStates  Technology  \n",
      "1    UnitedStates  Technology  \n",
      "2          France    Consumer  \n",
      "3    UnitedStates  Technology  \n",
      "4    UnitedStates  Technology  \n",
      "..            ...         ...  \n",
      "495  UnitedStates  Technology  \n",
      "496     Australia    Services  \n",
      "497     Australia    Services  \n",
      "498  UnitedStates      Energy  \n",
      "499   Netherlands      Retail  \n",
      "\n",
      "[500 rows x 7 columns]\n"
     ]
    },
    {
     "ename": "ValueError",
     "evalue": "Unable to parse string \"544M\" at position 2",
     "output_type": "error",
     "traceback": [
      "\u001b[1;31m---------------------------------------------------------------------------\u001b[0m",
      "\u001b[1;31mValueError\u001b[0m                                Traceback (most recent call last)",
      "\u001b[1;32m~\\anaconda3\\lib\\site-packages\\pandas\\_libs\\lib.pyx\u001b[0m in \u001b[0;36mpandas._libs.lib.maybe_convert_numeric\u001b[1;34m()\u001b[0m\n",
      "\u001b[1;31mValueError\u001b[0m: Unable to parse string \"544M\"",
      "\nDuring handling of the above exception, another exception occurred:\n",
      "\u001b[1;31mValueError\u001b[0m                                Traceback (most recent call last)",
      "\u001b[1;32m~\\AppData\\Local\\Temp/ipykernel_11068/1026493146.py\u001b[0m in \u001b[0;36m<module>\u001b[1;34m\u001b[0m\n\u001b[0;32m      5\u001b[0m \u001b[0mi\u001b[0m\u001b[1;33m[\u001b[0m\u001b[1;34m'LastChange'\u001b[0m\u001b[1;33m]\u001b[0m \u001b[1;33m=\u001b[0m \u001b[0mi\u001b[0m\u001b[1;33m[\u001b[0m\u001b[1;34m'LastChange'\u001b[0m\u001b[1;33m]\u001b[0m\u001b[1;33m.\u001b[0m\u001b[0mmap\u001b[0m\u001b[1;33m(\u001b[0m\u001b[1;32mlambda\u001b[0m \u001b[0mx\u001b[0m\u001b[1;33m:\u001b[0m \u001b[0mx\u001b[0m\u001b[1;33m.\u001b[0m\u001b[0mlstrip\u001b[0m\u001b[1;33m(\u001b[0m\u001b[1;34m'-$'\u001b[0m\u001b[1;33m)\u001b[0m\u001b[1;33m.\u001b[0m\u001b[0mrstrip\u001b[0m\u001b[1;33m(\u001b[0m\u001b[1;34m'B'\u001b[0m\u001b[1;33m)\u001b[0m\u001b[1;33m)\u001b[0m\u001b[1;33m\u001b[0m\u001b[1;33m\u001b[0m\u001b[0m\n\u001b[0;32m      6\u001b[0m \u001b[0mprint\u001b[0m\u001b[1;33m(\u001b[0m\u001b[0mi\u001b[0m\u001b[1;33m)\u001b[0m\u001b[1;33m\u001b[0m\u001b[1;33m\u001b[0m\u001b[0m\n\u001b[1;32m----> 7\u001b[1;33m \u001b[0mh\u001b[0m\u001b[1;33m[\u001b[0m\u001b[1;34m'LastChange'\u001b[0m\u001b[1;33m]\u001b[0m\u001b[1;33m=\u001b[0m\u001b[0mpd\u001b[0m\u001b[1;33m.\u001b[0m\u001b[0mto_numeric\u001b[0m\u001b[1;33m(\u001b[0m\u001b[0mh\u001b[0m\u001b[1;33m[\u001b[0m\u001b[1;34m'LastChange'\u001b[0m\u001b[1;33m]\u001b[0m\u001b[1;33m)\u001b[0m\u001b[1;33m\u001b[0m\u001b[1;33m\u001b[0m\u001b[0m\n\u001b[0m\u001b[0;32m      8\u001b[0m \u001b[0mi\u001b[0m\u001b[1;33m[\u001b[0m\u001b[1;34m'LastChange'\u001b[0m\u001b[1;33m]\u001b[0m\u001b[1;33m=\u001b[0m\u001b[0mpd\u001b[0m\u001b[1;33m.\u001b[0m\u001b[0mto_numeric\u001b[0m\u001b[1;33m(\u001b[0m\u001b[0mi\u001b[0m\u001b[1;33m[\u001b[0m\u001b[1;34m'LastChange'\u001b[0m\u001b[1;33m]\u001b[0m\u001b[1;33m)\u001b[0m\u001b[1;33m\u001b[0m\u001b[1;33m\u001b[0m\u001b[0m\n\u001b[0;32m      9\u001b[0m \u001b[1;33m\u001b[0m\u001b[0m\n",
      "\u001b[1;32m~\\anaconda3\\lib\\site-packages\\pandas\\core\\tools\\numeric.py\u001b[0m in \u001b[0;36mto_numeric\u001b[1;34m(arg, errors, downcast)\u001b[0m\n\u001b[0;32m    182\u001b[0m         \u001b[0mcoerce_numeric\u001b[0m \u001b[1;33m=\u001b[0m \u001b[0merrors\u001b[0m \u001b[1;32mnot\u001b[0m \u001b[1;32min\u001b[0m \u001b[1;33m(\u001b[0m\u001b[1;34m\"ignore\"\u001b[0m\u001b[1;33m,\u001b[0m \u001b[1;34m\"raise\"\u001b[0m\u001b[1;33m)\u001b[0m\u001b[1;33m\u001b[0m\u001b[1;33m\u001b[0m\u001b[0m\n\u001b[0;32m    183\u001b[0m         \u001b[1;32mtry\u001b[0m\u001b[1;33m:\u001b[0m\u001b[1;33m\u001b[0m\u001b[1;33m\u001b[0m\u001b[0m\n\u001b[1;32m--> 184\u001b[1;33m             values, _ = lib.maybe_convert_numeric(\n\u001b[0m\u001b[0;32m    185\u001b[0m                 \u001b[0mvalues\u001b[0m\u001b[1;33m,\u001b[0m \u001b[0mset\u001b[0m\u001b[1;33m(\u001b[0m\u001b[1;33m)\u001b[0m\u001b[1;33m,\u001b[0m \u001b[0mcoerce_numeric\u001b[0m\u001b[1;33m=\u001b[0m\u001b[0mcoerce_numeric\u001b[0m\u001b[1;33m\u001b[0m\u001b[1;33m\u001b[0m\u001b[0m\n\u001b[0;32m    186\u001b[0m             )\n",
      "\u001b[1;32m~\\anaconda3\\lib\\site-packages\\pandas\\_libs\\lib.pyx\u001b[0m in \u001b[0;36mpandas._libs.lib.maybe_convert_numeric\u001b[1;34m()\u001b[0m\n",
      "\u001b[1;31mValueError\u001b[0m: Unable to parse string \"544M\" at position 2"
     ]
    }
   ],
   "source": [
    "h=df\n",
    "h['LastChange'] = h['LastChange'].map(lambda x: x.lstrip('+$').rstrip('B'))\n",
    "i=df\n",
    "i['LastChange'] = i['LastChange'].map(lambda x: x.lstrip('-$').rstrip('B'))\n",
    "j=df\n",
    "j['LastChange'] = j['LastChange'].map(lambda x: x.rstrip('M'))\n",
    "k=df\n",
    "k['LastChange'] = k['LastChange'].map(lambda x: x.rstrip('k'))\n",
    "k\n",
    "\n",
    "h['LastChange']=pd.to_numeric(h['LastChange'])\n",
    "i['LastChange']=pd.to_numeric(i['LastChange'])\n",
    "j['LastChange']=pd.to_numeric(j['LastChange'])\n",
    "k['LastChange']=pd.to_numeric(k['LastChange'])\n",
    "\n",
    "\n",
    "\n",
    "#checking whether any characters are present\n",
    "'''for i in df['LastChange']:\n",
    "    print(i,'\\t',i*10)'''"
   ]
  },
  {
   "cell_type": "code",
   "execution_count": null,
   "id": "14558269",
   "metadata": {},
   "outputs": [],
   "source": [
    "h['LastChange']=h['LastChange'].mul(100)\n",
    "i['LastChange']=i['LastChange'].mul(100)\n",
    "j['LastChange']=j['LastChange'].mul(10)"
   ]
  },
  {
   "cell_type": "code",
   "execution_count": null,
   "id": "05000584",
   "metadata": {},
   "outputs": [],
   "source": []
  }
 ],
 "metadata": {
  "kernelspec": {
   "display_name": "Python 3 (ipykernel)",
   "language": "python",
   "name": "python3"
  },
  "language_info": {
   "codemirror_mode": {
    "name": "ipython",
    "version": 3
   },
   "file_extension": ".py",
   "mimetype": "text/x-python",
   "name": "python",
   "nbconvert_exporter": "python",
   "pygments_lexer": "ipython3",
   "version": "3.8.11"
  }
 },
 "nbformat": 4,
 "nbformat_minor": 5
}
