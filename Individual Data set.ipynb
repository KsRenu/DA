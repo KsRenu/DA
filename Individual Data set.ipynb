{
 "cells": [
  {
   "cell_type": "markdown",
   "id": "31761ce8",
   "metadata": {},
   "source": [
    "# Deriving maximum insights from the BillionairesIndex where it thas the details of top billionaires "
   ]
  },
  {
   "cell_type": "code",
   "execution_count": 17,
   "id": "774d4b07",
   "metadata": {},
   "outputs": [],
   "source": [
    "#https://www.kaggle.com/kkhandekar/billionaires-index"
   ]
  },
  {
   "cell_type": "code",
   "execution_count": 18,
   "id": "16a0f421",
   "metadata": {},
   "outputs": [],
   "source": [
    "import pandas as pd\n",
    "pd.plotting.register_matplotlib_converters()\n"
   ]
  },
  {
   "cell_type": "code",
   "execution_count": 19,
   "id": "a64c0c27",
   "metadata": {},
   "outputs": [],
   "source": [
    "import numpy as np\n"
   ]
  },
  {
   "cell_type": "code",
   "execution_count": 20,
   "id": "ecffd6a1",
   "metadata": {},
   "outputs": [
    {
     "data": {
      "text/plain": [
       "<Figure size 1152x432 with 0 Axes>"
      ]
     },
     "execution_count": 20,
     "metadata": {},
     "output_type": "execute_result"
    },
    {
     "data": {
      "text/plain": [
       "<Figure size 1152x432 with 0 Axes>"
      ]
     },
     "metadata": {},
     "output_type": "display_data"
    }
   ],
   "source": [
    "import matplotlib.pyplot as plt\n",
    "%matplotlib inline\n",
    "plt.figure(figsize=(16,6))"
   ]
  },
  {
   "cell_type": "code",
   "execution_count": 21,
   "id": "b8dc6f0a",
   "metadata": {},
   "outputs": [],
   "source": [
    "import seaborn as sns"
   ]
  },
  {
   "cell_type": "markdown",
   "id": "6cb9cefd",
   "metadata": {},
   "source": [
    "# Perform data preparation and cleaning using pandas and numpy"
   ]
  },
  {
   "cell_type": "code",
   "execution_count": 22,
   "id": "bd8a4ae3",
   "metadata": {},
   "outputs": [
    {
     "data": {
      "text/html": [
       "<div>\n",
       "<style scoped>\n",
       "    .dataframe tbody tr th:only-of-type {\n",
       "        vertical-align: middle;\n",
       "    }\n",
       "\n",
       "    .dataframe tbody tr th {\n",
       "        vertical-align: top;\n",
       "    }\n",
       "\n",
       "    .dataframe thead th {\n",
       "        text-align: right;\n",
       "    }\n",
       "</style>\n",
       "<table border=\"1\" class=\"dataframe\">\n",
       "  <thead>\n",
       "    <tr style=\"text-align: right;\">\n",
       "      <th></th>\n",
       "      <th>Name</th>\n",
       "      <th>Total_Net_Worth</th>\n",
       "      <th>LastChange</th>\n",
       "      <th>YTDChange</th>\n",
       "      <th>Country</th>\n",
       "      <th>Industry</th>\n",
       "    </tr>\n",
       "    <tr>\n",
       "      <th>Rank</th>\n",
       "      <th></th>\n",
       "      <th></th>\n",
       "      <th></th>\n",
       "      <th></th>\n",
       "      <th></th>\n",
       "      <th></th>\n",
       "    </tr>\n",
       "  </thead>\n",
       "  <tbody>\n",
       "    <tr>\n",
       "      <th>1</th>\n",
       "      <td>Elon Musk</td>\n",
       "      <td>$311B</td>\n",
       "      <td>+$9.32B</td>\n",
       "      <td>+$141B</td>\n",
       "      <td>UnitedStates</td>\n",
       "      <td>Technology</td>\n",
       "    </tr>\n",
       "    <tr>\n",
       "      <th>2</th>\n",
       "      <td>Jeff Bezos</td>\n",
       "      <td>$195B</td>\n",
       "      <td>-$3.79B</td>\n",
       "      <td>+$5.06B</td>\n",
       "      <td>UnitedStates</td>\n",
       "      <td>Technology</td>\n",
       "    </tr>\n",
       "    <tr>\n",
       "      <th>3</th>\n",
       "      <td>Bernard Arnault</td>\n",
       "      <td>$167B</td>\n",
       "      <td>-$544M</td>\n",
       "      <td>+$52.7B</td>\n",
       "      <td>France</td>\n",
       "      <td>Consumer</td>\n",
       "    </tr>\n",
       "    <tr>\n",
       "      <th>4</th>\n",
       "      <td>Bill Gates</td>\n",
       "      <td>$136B</td>\n",
       "      <td>+$906M</td>\n",
       "      <td>+$4.40B</td>\n",
       "      <td>UnitedStates</td>\n",
       "      <td>Technology</td>\n",
       "    </tr>\n",
       "    <tr>\n",
       "      <th>5</th>\n",
       "      <td>Larry Page</td>\n",
       "      <td>$131B</td>\n",
       "      <td>+$1.71B</td>\n",
       "      <td>+$48.7B</td>\n",
       "      <td>UnitedStates</td>\n",
       "      <td>Technology</td>\n",
       "    </tr>\n",
       "    <tr>\n",
       "      <th>...</th>\n",
       "      <td>...</td>\n",
       "      <td>...</td>\n",
       "      <td>...</td>\n",
       "      <td>...</td>\n",
       "      <td>...</td>\n",
       "      <td>...</td>\n",
       "    </tr>\n",
       "    <tr>\n",
       "      <th>496</th>\n",
       "      <td>Barry Diller</td>\n",
       "      <td>$5.92B</td>\n",
       "      <td>-$73.5M</td>\n",
       "      <td>+$366M</td>\n",
       "      <td>UnitedStates</td>\n",
       "      <td>Technology</td>\n",
       "    </tr>\n",
       "    <tr>\n",
       "      <th>497</th>\n",
       "      <td>Cliff Obrecht</td>\n",
       "      <td>$5.89B</td>\n",
       "      <td>$0</td>\n",
       "      <td>+$4.99B</td>\n",
       "      <td>Australia</td>\n",
       "      <td>Services</td>\n",
       "    </tr>\n",
       "    <tr>\n",
       "      <th>498</th>\n",
       "      <td>Melanie Perkins</td>\n",
       "      <td>$5.89B</td>\n",
       "      <td>$0</td>\n",
       "      <td>+$4.99B</td>\n",
       "      <td>Australia</td>\n",
       "      <td>Services</td>\n",
       "    </tr>\n",
       "    <tr>\n",
       "      <th>499</th>\n",
       "      <td>Trevor Rees-Jones</td>\n",
       "      <td>$5.89B</td>\n",
       "      <td>-$106M</td>\n",
       "      <td>+$898M</td>\n",
       "      <td>UnitedStates</td>\n",
       "      <td>Energy</td>\n",
       "    </tr>\n",
       "    <tr>\n",
       "      <th>500</th>\n",
       "      <td>Frits Goldschmeding</td>\n",
       "      <td>$5.88B</td>\n",
       "      <td>-$90.7M</td>\n",
       "      <td>+$621M</td>\n",
       "      <td>Netherlands</td>\n",
       "      <td>Retail</td>\n",
       "    </tr>\n",
       "  </tbody>\n",
       "</table>\n",
       "<p>500 rows × 6 columns</p>\n",
       "</div>"
      ],
      "text/plain": [
       "                      Name Total_Net_Worth LastChange YTDChange       Country  \\\n",
       "Rank                                                                            \n",
       "1               Elon Musk            $311B    +$9.32B    +$141B  UnitedStates   \n",
       "2              Jeff Bezos            $195B    -$3.79B   +$5.06B  UnitedStates   \n",
       "3         Bernard Arnault            $167B     -$544M   +$52.7B        France   \n",
       "4              Bill Gates            $136B     +$906M   +$4.40B  UnitedStates   \n",
       "5              Larry Page            $131B    +$1.71B   +$48.7B  UnitedStates   \n",
       "...                    ...             ...        ...       ...           ...   \n",
       "496          Barry Diller           $5.92B    -$73.5M    +$366M  UnitedStates   \n",
       "497         Cliff Obrecht           $5.89B        $0    +$4.99B     Australia   \n",
       "498       Melanie Perkins           $5.89B        $0    +$4.99B     Australia   \n",
       "499     Trevor Rees-Jones           $5.89B     -$106M    +$898M  UnitedStates   \n",
       "500   Frits Goldschmeding           $5.88B    -$90.7M    +$621M   Netherlands   \n",
       "\n",
       "        Industry  \n",
       "Rank              \n",
       "1     Technology  \n",
       "2     Technology  \n",
       "3       Consumer  \n",
       "4     Technology  \n",
       "5     Technology  \n",
       "...          ...  \n",
       "496   Technology  \n",
       "497     Services  \n",
       "498     Services  \n",
       "499       Energy  \n",
       "500       Retail  \n",
       "\n",
       "[500 rows x 6 columns]"
      ]
     },
     "execution_count": 22,
     "metadata": {},
     "output_type": "execute_result"
    }
   ],
   "source": [
    "df=pd.read_csv(\"BillionairesIndex.csv\",index_col='Rank')\n",
    "df"
   ]
  },
  {
   "cell_type": "markdown",
   "id": "c367b476",
   "metadata": {},
   "source": [
    "# Basic informations from the given dataset"
   ]
  },
  {
   "cell_type": "code",
   "execution_count": 23,
   "id": "6a4cece6",
   "metadata": {},
   "outputs": [
    {
     "data": {
      "text/plain": [
       "(500, 6)"
      ]
     },
     "execution_count": 23,
     "metadata": {},
     "output_type": "execute_result"
    }
   ],
   "source": [
    "df.shape"
   ]
  },
  {
   "cell_type": "code",
   "execution_count": 24,
   "id": "2c5cd7b5",
   "metadata": {},
   "outputs": [
    {
     "name": "stdout",
     "output_type": "stream",
     "text": [
      "<class 'pandas.core.frame.DataFrame'>\n",
      "Int64Index: 500 entries, 1 to 500\n",
      "Data columns (total 6 columns):\n",
      " #   Column           Non-Null Count  Dtype \n",
      "---  ------           --------------  ----- \n",
      " 0   Name             500 non-null    object\n",
      " 1   Total_Net_Worth  500 non-null    object\n",
      " 2   LastChange       500 non-null    object\n",
      " 3   YTDChange        500 non-null    object\n",
      " 4   Country          500 non-null    object\n",
      " 5   Industry         500 non-null    object\n",
      "dtypes: object(6)\n",
      "memory usage: 27.3+ KB\n"
     ]
    }
   ],
   "source": [
    "#helps to know number of null values and the clumns dtype\n",
    "df.info()"
   ]
  },
  {
   "cell_type": "code",
   "execution_count": 25,
   "id": "b4e2a558",
   "metadata": {},
   "outputs": [
    {
     "data": {
      "text/plain": [
       "['Name', 'Total_Net_Worth', 'LastChange', 'YTDChange', 'Country', 'Industry']"
      ]
     },
     "execution_count": 25,
     "metadata": {},
     "output_type": "execute_result"
    }
   ],
   "source": [
    "#to know all the column names as a list\n",
    "df.columns.tolist()"
   ]
  },
  {
   "cell_type": "code",
   "execution_count": 26,
   "id": "bce697c8",
   "metadata": {},
   "outputs": [
    {
     "data": {
      "text/html": [
       "<div>\n",
       "<style scoped>\n",
       "    .dataframe tbody tr th:only-of-type {\n",
       "        vertical-align: middle;\n",
       "    }\n",
       "\n",
       "    .dataframe tbody tr th {\n",
       "        vertical-align: top;\n",
       "    }\n",
       "\n",
       "    .dataframe thead th {\n",
       "        text-align: right;\n",
       "    }\n",
       "</style>\n",
       "<table border=\"1\" class=\"dataframe\">\n",
       "  <thead>\n",
       "    <tr style=\"text-align: right;\">\n",
       "      <th></th>\n",
       "      <th>Name</th>\n",
       "      <th>Total_Net_Worth</th>\n",
       "      <th>LastChange</th>\n",
       "      <th>YTDChange</th>\n",
       "      <th>Country</th>\n",
       "      <th>Industry</th>\n",
       "    </tr>\n",
       "    <tr>\n",
       "      <th>Rank</th>\n",
       "      <th></th>\n",
       "      <th></th>\n",
       "      <th></th>\n",
       "      <th></th>\n",
       "      <th></th>\n",
       "      <th></th>\n",
       "    </tr>\n",
       "  </thead>\n",
       "  <tbody>\n",
       "    <tr>\n",
       "      <th>1</th>\n",
       "      <td>Elon Musk</td>\n",
       "      <td>$311B</td>\n",
       "      <td>+$9.32B</td>\n",
       "      <td>+$141B</td>\n",
       "      <td>UnitedStates</td>\n",
       "      <td>Technology</td>\n",
       "    </tr>\n",
       "    <tr>\n",
       "      <th>2</th>\n",
       "      <td>Jeff Bezos</td>\n",
       "      <td>$195B</td>\n",
       "      <td>-$3.79B</td>\n",
       "      <td>+$5.06B</td>\n",
       "      <td>UnitedStates</td>\n",
       "      <td>Technology</td>\n",
       "    </tr>\n",
       "    <tr>\n",
       "      <th>3</th>\n",
       "      <td>Bernard Arnault</td>\n",
       "      <td>$167B</td>\n",
       "      <td>-$544M</td>\n",
       "      <td>+$52.7B</td>\n",
       "      <td>France</td>\n",
       "      <td>Consumer</td>\n",
       "    </tr>\n",
       "    <tr>\n",
       "      <th>4</th>\n",
       "      <td>Bill Gates</td>\n",
       "      <td>$136B</td>\n",
       "      <td>+$906M</td>\n",
       "      <td>+$4.40B</td>\n",
       "      <td>UnitedStates</td>\n",
       "      <td>Technology</td>\n",
       "    </tr>\n",
       "    <tr>\n",
       "      <th>5</th>\n",
       "      <td>Larry Page</td>\n",
       "      <td>$131B</td>\n",
       "      <td>+$1.71B</td>\n",
       "      <td>+$48.7B</td>\n",
       "      <td>UnitedStates</td>\n",
       "      <td>Technology</td>\n",
       "    </tr>\n",
       "  </tbody>\n",
       "</table>\n",
       "</div>"
      ],
      "text/plain": [
       "                  Name Total_Net_Worth LastChange YTDChange       Country  \\\n",
       "Rank                                                                        \n",
       "1           Elon Musk            $311B    +$9.32B    +$141B  UnitedStates   \n",
       "2          Jeff Bezos            $195B    -$3.79B   +$5.06B  UnitedStates   \n",
       "3     Bernard Arnault            $167B     -$544M   +$52.7B        France   \n",
       "4          Bill Gates            $136B     +$906M   +$4.40B  UnitedStates   \n",
       "5          Larry Page            $131B    +$1.71B   +$48.7B  UnitedStates   \n",
       "\n",
       "        Industry  \n",
       "Rank              \n",
       "1     Technology  \n",
       "2     Technology  \n",
       "3       Consumer  \n",
       "4     Technology  \n",
       "5     Technology  "
      ]
     },
     "execution_count": 26,
     "metadata": {},
     "output_type": "execute_result"
    }
   ],
   "source": [
    "#top 5 billionaires are\n",
    "df.head()"
   ]
  },
  {
   "cell_type": "code",
   "execution_count": 27,
   "id": "b75df03c",
   "metadata": {},
   "outputs": [
    {
     "data": {
      "text/html": [
       "<div>\n",
       "<style scoped>\n",
       "    .dataframe tbody tr th:only-of-type {\n",
       "        vertical-align: middle;\n",
       "    }\n",
       "\n",
       "    .dataframe tbody tr th {\n",
       "        vertical-align: top;\n",
       "    }\n",
       "\n",
       "    .dataframe thead th {\n",
       "        text-align: right;\n",
       "    }\n",
       "</style>\n",
       "<table border=\"1\" class=\"dataframe\">\n",
       "  <thead>\n",
       "    <tr style=\"text-align: right;\">\n",
       "      <th></th>\n",
       "      <th>Name</th>\n",
       "      <th>Total_Net_Worth</th>\n",
       "      <th>LastChange</th>\n",
       "      <th>YTDChange</th>\n",
       "      <th>Country</th>\n",
       "      <th>Industry</th>\n",
       "    </tr>\n",
       "    <tr>\n",
       "      <th>Rank</th>\n",
       "      <th></th>\n",
       "      <th></th>\n",
       "      <th></th>\n",
       "      <th></th>\n",
       "      <th></th>\n",
       "      <th></th>\n",
       "    </tr>\n",
       "  </thead>\n",
       "  <tbody>\n",
       "    <tr>\n",
       "      <th>496</th>\n",
       "      <td>Barry Diller</td>\n",
       "      <td>$5.92B</td>\n",
       "      <td>-$73.5M</td>\n",
       "      <td>+$366M</td>\n",
       "      <td>UnitedStates</td>\n",
       "      <td>Technology</td>\n",
       "    </tr>\n",
       "    <tr>\n",
       "      <th>497</th>\n",
       "      <td>Cliff Obrecht</td>\n",
       "      <td>$5.89B</td>\n",
       "      <td>$0</td>\n",
       "      <td>+$4.99B</td>\n",
       "      <td>Australia</td>\n",
       "      <td>Services</td>\n",
       "    </tr>\n",
       "    <tr>\n",
       "      <th>498</th>\n",
       "      <td>Melanie Perkins</td>\n",
       "      <td>$5.89B</td>\n",
       "      <td>$0</td>\n",
       "      <td>+$4.99B</td>\n",
       "      <td>Australia</td>\n",
       "      <td>Services</td>\n",
       "    </tr>\n",
       "    <tr>\n",
       "      <th>499</th>\n",
       "      <td>Trevor Rees-Jones</td>\n",
       "      <td>$5.89B</td>\n",
       "      <td>-$106M</td>\n",
       "      <td>+$898M</td>\n",
       "      <td>UnitedStates</td>\n",
       "      <td>Energy</td>\n",
       "    </tr>\n",
       "    <tr>\n",
       "      <th>500</th>\n",
       "      <td>Frits Goldschmeding</td>\n",
       "      <td>$5.88B</td>\n",
       "      <td>-$90.7M</td>\n",
       "      <td>+$621M</td>\n",
       "      <td>Netherlands</td>\n",
       "      <td>Retail</td>\n",
       "    </tr>\n",
       "  </tbody>\n",
       "</table>\n",
       "</div>"
      ],
      "text/plain": [
       "                      Name Total_Net_Worth LastChange YTDChange       Country  \\\n",
       "Rank                                                                            \n",
       "496          Barry Diller           $5.92B    -$73.5M    +$366M  UnitedStates   \n",
       "497         Cliff Obrecht           $5.89B        $0    +$4.99B     Australia   \n",
       "498       Melanie Perkins           $5.89B        $0    +$4.99B     Australia   \n",
       "499     Trevor Rees-Jones           $5.89B     -$106M    +$898M  UnitedStates   \n",
       "500   Frits Goldschmeding           $5.88B    -$90.7M    +$621M   Netherlands   \n",
       "\n",
       "        Industry  \n",
       "Rank              \n",
       "496   Technology  \n",
       "497     Services  \n",
       "498     Services  \n",
       "499       Energy  \n",
       "500       Retail  "
      ]
     },
     "execution_count": 27,
     "metadata": {},
     "output_type": "execute_result"
    }
   ],
   "source": [
    "#bottom 5 billionaires of 500 people\n",
    "df.tail()"
   ]
  },
  {
   "cell_type": "code",
   "execution_count": 28,
   "id": "69824cf1",
   "metadata": {},
   "outputs": [
    {
     "data": {
      "text/html": [
       "<div>\n",
       "<style scoped>\n",
       "    .dataframe tbody tr th:only-of-type {\n",
       "        vertical-align: middle;\n",
       "    }\n",
       "\n",
       "    .dataframe tbody tr th {\n",
       "        vertical-align: top;\n",
       "    }\n",
       "\n",
       "    .dataframe thead th {\n",
       "        text-align: right;\n",
       "    }\n",
       "</style>\n",
       "<table border=\"1\" class=\"dataframe\">\n",
       "  <thead>\n",
       "    <tr style=\"text-align: right;\">\n",
       "      <th></th>\n",
       "      <th>Name</th>\n",
       "      <th>Total_Net_Worth</th>\n",
       "      <th>LastChange</th>\n",
       "      <th>YTDChange</th>\n",
       "      <th>Country</th>\n",
       "      <th>Industry</th>\n",
       "    </tr>\n",
       "  </thead>\n",
       "  <tbody>\n",
       "    <tr>\n",
       "      <th>count</th>\n",
       "      <td>500</td>\n",
       "      <td>500</td>\n",
       "      <td>500</td>\n",
       "      <td>500</td>\n",
       "      <td>500</td>\n",
       "      <td>500</td>\n",
       "    </tr>\n",
       "    <tr>\n",
       "      <th>unique</th>\n",
       "      <td>500</td>\n",
       "      <td>333</td>\n",
       "      <td>402</td>\n",
       "      <td>412</td>\n",
       "      <td>49</td>\n",
       "      <td>16</td>\n",
       "    </tr>\n",
       "    <tr>\n",
       "      <th>top</th>\n",
       "      <td>Elon Musk</td>\n",
       "      <td>$11.2B</td>\n",
       "      <td>$0</td>\n",
       "      <td>+$1.10B</td>\n",
       "      <td>UnitedStates</td>\n",
       "      <td>Technology</td>\n",
       "    </tr>\n",
       "    <tr>\n",
       "      <th>freq</th>\n",
       "      <td>1</td>\n",
       "      <td>6</td>\n",
       "      <td>46</td>\n",
       "      <td>4</td>\n",
       "      <td>170</td>\n",
       "      <td>87</td>\n",
       "    </tr>\n",
       "  </tbody>\n",
       "</table>\n",
       "</div>"
      ],
      "text/plain": [
       "              Name Total_Net_Worth LastChange YTDChange       Country  \\\n",
       "count          500             500        500       500           500   \n",
       "unique         500             333        402       412            49   \n",
       "top     Elon Musk           $11.2B        $0    +$1.10B  UnitedStates   \n",
       "freq             1               6         46         4           170   \n",
       "\n",
       "          Industry  \n",
       "count          500  \n",
       "unique          16  \n",
       "top     Technology  \n",
       "freq            87  "
      ]
     },
     "execution_count": 28,
     "metadata": {},
     "output_type": "execute_result"
    }
   ],
   "source": [
    "#statistical analysis of the dataset\n",
    "df.describe(include=['object', 'int64', 'float64'])"
   ]
  },
  {
   "cell_type": "code",
   "execution_count": 29,
   "id": "c430af87",
   "metadata": {},
   "outputs": [
    {
     "data": {
      "text/plain": [
       "array([['Elon Musk ', '$311B', '+$9.32B', '+$141B', 'UnitedStates',\n",
       "        'Technology'],\n",
       "       ['Jeff Bezos ', '$195B', '-$3.79B', '+$5.06B', 'UnitedStates',\n",
       "        'Technology'],\n",
       "       ['Bernard Arnault ', '$167B', '-$544M', '+$52.7B', 'France',\n",
       "        'Consumer'],\n",
       "       ...,\n",
       "       ['Melanie Perkins ', '$5.89B', '$0 ', '+$4.99B', 'Australia',\n",
       "        'Services'],\n",
       "       ['Trevor Rees-Jones ', '$5.89B', '-$106M', '+$898M',\n",
       "        'UnitedStates', 'Energy'],\n",
       "       ['Frits Goldschmeding ', '$5.88B', '-$90.7M', '+$621M',\n",
       "        'Netherlands', 'Retail']], dtype=object)"
      ]
     },
     "execution_count": 29,
     "metadata": {},
     "output_type": "execute_result"
    }
   ],
   "source": [
    "#printing row wise values\n",
    "df.values"
   ]
  },
  {
   "cell_type": "code",
   "execution_count": 30,
   "id": "1b024230",
   "metadata": {},
   "outputs": [
    {
     "data": {
      "text/plain": [
       "'$311B'"
      ]
     },
     "execution_count": 30,
     "metadata": {},
     "output_type": "execute_result"
    }
   ],
   "source": [
    "#printing single single values\n",
    "df.values[0][1]"
   ]
  },
  {
   "cell_type": "code",
   "execution_count": 31,
   "id": "efe5812e",
   "metadata": {},
   "outputs": [
    {
     "data": {
      "text/plain": [
       "Index(['Name', 'Total_Net_Worth', 'LastChange', 'YTDChange', 'Country',\n",
       "       'Industry'],\n",
       "      dtype='object')"
      ]
     },
     "execution_count": 31,
     "metadata": {},
     "output_type": "execute_result"
    }
   ],
   "source": [
    "df.columns"
   ]
  },
  {
   "cell_type": "markdown",
   "id": "147aa3fa",
   "metadata": {},
   "source": [
    "# DETAILS : \n",
    "        -There are 500 rows and 6 columns\n",
    "        -All columns are in object datatype\n",
    "        -Data arranged based on the ascending order of richest person "
   ]
  },
  {
   "cell_type": "markdown",
   "id": "47902325",
   "metadata": {},
   "source": [
    "# Deriving simple insights "
   ]
  },
  {
   "cell_type": "markdown",
   "id": "9e1e2a16",
   "metadata": {},
   "source": [
    "# Single Column Wise\n"
   ]
  },
  {
   "cell_type": "markdown",
   "id": "1b0e4149",
   "metadata": {},
   "source": [
    "##### Columns's we'll analyze : \n",
    "                        1.Name\n",
    "                        2.Total_Net_Worth\n",
    "                        3.Country\n",
    "                        4.Industry"
   ]
  },
  {
   "cell_type": "markdown",
   "id": "61f5be80",
   "metadata": {},
   "source": [
    "##### Removing the unwanted columns"
   ]
  },
  {
   "cell_type": "code",
   "execution_count": 32,
   "id": "70c63861",
   "metadata": {},
   "outputs": [],
   "source": [
    "#deleting the useless columns\n",
    "df.drop(['LastChange','YTDChange'], inplace=True, axis=1)"
   ]
  },
  {
   "cell_type": "code",
   "execution_count": 33,
   "id": "95e09bf5",
   "metadata": {},
   "outputs": [
    {
     "data": {
      "text/plain": [
       "4"
      ]
     },
     "execution_count": 33,
     "metadata": {},
     "output_type": "execute_result"
    }
   ],
   "source": [
    "#checking whether the columns has been removed\n",
    "df.shape[1]"
   ]
  },
  {
   "cell_type": "markdown",
   "id": "bd5a12d5",
   "metadata": {},
   "source": [
    "##### Name"
   ]
  },
  {
   "cell_type": "code",
   "execution_count": 34,
   "id": "1772afaf",
   "metadata": {},
   "outputs": [
    {
     "data": {
      "text/plain": [
       "array(['Elon Musk ', 'Jeff Bezos ', 'Bernard Arnault ', 'Bill Gates ',\n",
       "       'Larry Page ', 'Sergey Brin ', 'Mark Zuckerberg ',\n",
       "       'Steve Ballmer ', 'Larry Ellison ', 'Warren Buffett ',\n",
       "       'Mukesh Ambani ', 'Francoise Bettencourt Meyers', 'Gautam Adani ',\n",
       "       'Amancio Ortega ', 'Jim Walton ', 'Rob Walton ', 'Zhong Shanshan ',\n",
       "       'Alice Walton ', 'Carlos Slim ', 'Phil Knight&family ',\n",
       "       'Charles Koch ', 'Julia Flesher Koch&family', 'Zeng Yuqun ',\n",
       "       'MacKenzie Scott ', 'Michael Dell ', 'Francois Pinault ',\n",
       "       'Ma Huateng ', 'Jacqueline Badger Mars', 'John Mars ',\n",
       "       'Len Blavatnik ', 'Zhang Yiming ', 'Jack Ma ',\n",
       "       'Stephen Schwarzman ', 'Azim Premji ', 'Klaus-Michael Kuehne ',\n",
       "       'Giovanni Ferrero&family ', 'Tadashi Yanai ',\n",
       "       'Takemitsu Takizaki ', 'Leonard Lauder ', 'Leonid Mikhelson ',\n",
       "       'Leonardo Del Vecchio', 'Vladimir Potanin ', 'Pallonji Mistry ',\n",
       "       'William Ding ', 'Colin Huang ', 'Li Ka-shing ', 'Li Shu Fu',\n",
       "       'Alain Wertheimer ', 'Gerard Wertheimer ', 'He Xiangjian ',\n",
       "       'Dieter Schwarz ', 'Dan Gilbert ', 'Alexey Mordashov ',\n",
       "       'Vladimir Lisin ', 'Shiv Nadar ', 'Eric Schmidt ',\n",
       "       'Dustin Moskovitz ', 'Scott Farquhar ', 'Mike Cannon-Brookes ',\n",
       "       'Wei Jianjun ', 'Abigail Johnson ', 'Miriam Adelson ',\n",
       "       'Yang Huiyan ', 'James Simons ', 'Wang Chuan-Fu ', 'James Dyson ',\n",
       "       'Henry Cheng ', 'Pang Kang ', 'Vagit Alekperov ', 'Huang Shilin ',\n",
       "       'Radhakishan Damani ', 'Jensen Huang ', 'Gennady Timchenko ',\n",
       "       'Lukas Walton ', 'Susanne Klatten ', 'Lee Shau Kee',\n",
       "       'Masayoshi Son ', 'Carl Icahn ', 'Thomas Peterffy ',\n",
       "       'Thomas Frist ', 'John Menard ', 'Qin Yinglin ', 'Ken Griffin ',\n",
       "       'Lakshmi Mittal ', 'Alisher Usmanov ', 'Thomas Struengmann ',\n",
       "       'Andreas Struengmann ', 'Jorge Paulo Lemann', 'Stefan Quandt ',\n",
       "       'Ernesto Bertarelli&family ', 'Iris Fontbona&family ',\n",
       "       'Li Xiting ', 'Zhang Zhidong ', 'Elaine Marshall ', 'Forrest Li ',\n",
       "       'Peter Woo ', 'Wang Xing ', 'Jiang Rensheng ', 'Stefan Persson ',\n",
       "       'Gustaf Douglas&family ', 'Donald Newhouse ', 'Aliko Dangote ',\n",
       "       'Robert Kuok ', 'Laurene Powell Jobs', 'Lei Jun ',\n",
       "       'Roman Abramovich ', 'Budi Hartono ', 'Xu Hang ', 'Jay Chaudhry ',\n",
       "       'Viktor Vekselberg ', 'Wang Wei ', 'Andrey Melnichenko ',\n",
       "       'Ernie Garcia ', 'Sara Mota de Larrea&family', 'Gina Rinehart ',\n",
       "       'Michael Hartono ', 'Richard Liu ', 'Alwaleed Bin Talal',\n",
       "       'Dave Duffield ', 'Eduardo Saverin ', 'Chen Bang ', 'Donald Bren ',\n",
       "       'Andrew Forrest ', 'Uday Kotak ', 'Charlene de Carvalho-Heineken',\n",
       "       'Cyrus Poonawalla ', 'Hasso Plattner ', 'Ned Johnson III',\n",
       "       'Vicky Safra ', 'Jim Goodnight ', 'Karl Albrecht Jr',\n",
       "       'Beate Heister ', 'Ray Dalio ', 'Pei Zhenhua ',\n",
       "       'Charoen Sirivadhanabhakdi ', 'Dietrich Mateschitz ',\n",
       "       'Mikhail Fridman ', 'Li Zhenguo ', 'Ricardo Salinas ',\n",
       "       'David Tepper ', 'Jim Ratcliffe ', 'Harold Hamm ',\n",
       "       'Goh Cheng Liang', 'Philip Anschutz ', 'Sherry Brydson ',\n",
       "       'Wang Wenyin ', 'Ma Jianrong ', 'Lv Xiang-yang ', 'Jack Dorsey ',\n",
       "       'Brian Chesky ', 'Victor Rashnikov ', 'Lui Che-Woo ',\n",
       "       'Lin Jianhua ', 'Mikhail Prokhorov ', 'Sam Bankman-Fried ',\n",
       "       'Charles Schwab ', 'Reinhold Wuerth ', 'Dilip Shanghvi ',\n",
       "       'Jan Koum ', 'Wu Yajun ', 'Melker Schorling ', 'Zhang Bo ',\n",
       "       'Eric Yuan ', 'Zhang Congyuan ', 'Robert Pera ', 'Charles Ergen ',\n",
       "       'Leon Black ', 'Gong Hongjia ', 'Savitri Jindal ',\n",
       "       'Hugh Grosvenor ', 'Tobi Lutke ', 'George Roberts ',\n",
       "       'Fan Hongwei ', 'Brian Armstrong ', 'David Geffen ', 'Ugur Sahin ',\n",
       "       'Dang Yanbao ', 'Liu Hanyuan ', 'Sun Piaoyang ', 'Kumar Birla ',\n",
       "       'Henry Kravis ', 'Marijke Mars ', 'Victoria Mars ',\n",
       "       'Pamela Mars-Wright ', 'Valerie Mars ', 'Jorge Moll&family ',\n",
       "       'Joe Gebbia ', 'Melinda French Gates', 'Robin Li ',\n",
       "       'Nathan Blecharczyk ', 'Liu Jincheng ', 'Eyal Ofer ',\n",
       "       'Alejandro Santo Domingo&family', 'Steven Rales ',\n",
       "       'Sarath Ratanavadi ', 'Raymond Kwok ', 'Jim Davis ',\n",
       "       'Marc Benioff ', 'Sunil Mittal ', 'Paolo Rocca&family ',\n",
       "       'Patrick Collison ', 'John Collison ', 'Suleiman Kerimov ',\n",
       "       'Dmitry Rybolovlev ', 'Qi Shi ', 'Stan Kroenke ', 'Jin Baofang ',\n",
       "       'Micky Arison ', 'Gang Ye ', 'Brian Kim ', 'Pierre Omidyar ',\n",
       "       'Thomas Kwok ', 'Steve Cohen ', 'Rinat Akhmetov ', 'Carl Bennet ',\n",
       "       'Anders Holch Povlsen&family', 'John Grayken ', 'Zhou Qunfei ',\n",
       "       'Antonia Axson Johnson', 'Bobby Murphy ',\n",
       "       'Heinrich Deichmann&family ', 'Harry Triguboff ', 'Michael Platt ',\n",
       "       'Stephane Bancel ', 'Dietmar Hopp ', 'Gordon Moore ',\n",
       "       'Christy Walton ', 'Cao Renxian ', 'Patrick Soon-Shiong ',\n",
       "       'Carl Cook ', 'Michael Kadoorie ', 'Stan Druckenmiller ',\n",
       "       'Qian Dongqi ', 'Stefano Pessina ', 'German Khan ',\n",
       "       'Laurent Dassault ', 'Marie-Helene Habert-Dassault ',\n",
       "       'Thierry Dassault ', 'Johann Rupert&family ', 'Emmanuel Besnier ',\n",
       "       'Marcel Telles ', 'Evan Spiegel ', 'John Albert Sobrato',\n",
       "       'Gianluigi Aponte ', 'Li Ge ', 'Les Wexner ', 'Chen Zhiping ',\n",
       "       'Jay Y. Lee', 'Liu Yongxing ', 'John Fredriksen ', 'Li Ping ',\n",
       "       'Izzy Englander ', 'Graeme Hart ', 'Liu Yonghao ',\n",
       "       'Ding Shizhong ', 'Zhong Huijuan ', 'KP Singh  ', 'Leonid Fedun ',\n",
       "       'Jerry Jones ', 'Wee Cho Yaw', 'Andy Beal ', 'John Malone ',\n",
       "       'Georg Schaeffler ', 'August von Finck', 'Ding Shijia ',\n",
       "       'Patrick Drahi ', 'Tim Sweeney ', 'Niels Louis-Hansen ',\n",
       "       'Alexander Abramov ', 'Theo Albrecht Jr', 'Mitchell Rales ',\n",
       "       'Rocco Commisso ', 'Rupert Murdoch ', 'Silvio Berlusconi ',\n",
       "       'Luis Sarmiento ', 'Taylor Thomson ', 'Alberto Bailleres ',\n",
       "       'George Lucas ', 'David Thomson ', 'Peter Thomson ',\n",
       "       'Anthony Pratt ', 'Giorgio Armani ', 'Blair Parry-Okeden ',\n",
       "       'Jim Kennedy ', 'Samuel Yin ', 'Magdalena Martullo ',\n",
       "       'Hansjoerg Wyss ', 'Anthony von Mandl', 'Benu Bangur ',\n",
       "       'Joseph Tsai ', 'Reinhold Schmieding ', 'Wang Laisheng ',\n",
       "       'Carlos Sicupira ', 'Andy Bechtolsheim ', 'Ernest Garcia III',\n",
       "       'Nusli Wadia ', 'Rahel Blocher ', 'Robert Smith ',\n",
       "       'Pham Nhat Vuong', 'Tammy Gustavson ', 'David Sun ', 'John Tu ',\n",
       "       'Shigenobu Nagamori ', 'Jude Reyes ', 'Chris Reyes ',\n",
       "       'Rahul Bajaj ', 'Michael Otto ', 'Sandra Ortega Mera',\n",
       "       'John Doerr ', 'Yu Yong ', 'Iskandar Makhmudov ', 'Stephen Ross ',\n",
       "       'James Pattison ', 'Xavier Niel ', 'Ned Johnson IV',\n",
       "       'Elizabeth Johnson ', 'Oleg Tinkov ', 'Martin Viessmann&family ',\n",
       "       'Chase Coleman ', 'Johann Graf ', 'Mat Ishbia ', 'Wu Shaoxun ',\n",
       "       'Jian Jun ', 'Wang Jianlin ', 'Vincent Bollore ', 'Cen Junda ',\n",
       "       'Michael Rubin ', 'Richard Kinder ', 'Cai Kui ', 'Yao Liangsong ',\n",
       "       'Li Shuirong ', 'Nicky Oppenheimer ', 'Ronda Stryker ',\n",
       "       'Gabe Newell ', 'He Xiaopeng ', 'Ralph Lauren ', 'Cheng Xue ',\n",
       "       'Natie Kirsh ', 'Xu Shihui ', 'Josh Harris ', 'Dennis Washington ',\n",
       "       'Wang Laichun ', 'Frederik Paulsen ', 'Zhao Yan ',\n",
       "       'Laurence Graff ', 'John Sall ', 'Andrey Guryev ', 'Liz Mohn ',\n",
       "       'Leng You-Bin ', 'Tatyana Bakalchuk ', 'Steven Spielberg ',\n",
       "       'Charles Butt&family ', 'Frank Lowy ',\n",
       "       'Juan Beckmann Vidal&family', 'Takahisa Takahara ', 'Shahid Khan ',\n",
       "       'Alexey Kuzmichev ', 'Shari Arison ', 'Lin Bin ', 'Chen Jianhua ',\n",
       "       'Guillaume Pousaz ', 'Horst Pudwill ', 'Wang Yusuo ',\n",
       "       'Tito Beveridge ', 'Yu Renrong ', 'Andre Hoffmann ',\n",
       "       'Alain Merieux ', 'George Soros ', 'Terry Pegula ',\n",
       "       'Nancy Laurie ', 'Anthony Bamford&family ', 'Jorn Rausing ',\n",
       "       'Axel Oberwelland ', 'Sergey Gordeev ', 'Chip Wilson ',\n",
       "       'Stef Wertheimer ', 'Manuel Villar ', 'David Shaw ', 'Dan Cathy ',\n",
       "       'Bubba Cathy ', 'Hui Ka Yan', 'Teh Hong Piow', 'Ludwig Merckle ',\n",
       "       'Vyacheslav Kantor ', 'Reed Hastings ', 'Peter Thiel ',\n",
       "       'Tom Gores ', 'Bob Rich ', 'Mohammed Al Amoudi', 'Mark Shoen ',\n",
       "       'Vyacheslav Kim ', 'German Larrea ', 'Denis Sverdlov ',\n",
       "       'Gwendolyn Sontheim Meyer', 'Pauline Keinath ', 'Chris Hohn ',\n",
       "       'Patrick Ryan ', 'Linda Campbell ', 'Gaye Farncombe ', 'Jon Gray ',\n",
       "       'Mike Novogratz ', 'Peter-Alexander Wacker&family ',\n",
       "       'Vera Michalski-Hoffmann ', 'Maja Hoffmann ', 'Lynn Schusterman ',\n",
       "       'Yeung Kin-Man ', 'Lu Weiding ', 'Geoffrey Kwok ',\n",
       "       'Randa Williams ', 'Dannine Avara ', 'Scott Duncan ',\n",
       "       'Alexander Otto ', 'Matthew Prince ', 'Milane Frantz ',\n",
       "       'Jane Lauder ', 'Steve Feinberg ', 'Ruan Liping ',\n",
       "       'Mikheil Lomtadze ', 'Ashwin Dani&family ', 'Nassef Sawiris ',\n",
       "       'Ruan Xueping ', 'Fredrik Lundberg ', 'Joseph Lau ',\n",
       "       'Seo Jung-Jin ', 'Ivan Glasenberg ', 'Edward Roski ',\n",
       "       'Simon Reuben ', 'David Reuben ', 'Gao Dekang ', 'Henry Samueli ',\n",
       "       'Ronald McAulay ', 'Nik Storonsky ', 'Petr Aven ', 'J K Irving',\n",
       "       'Marc Rowan ', 'Hiroshi Mikitani ', 'Idan Ofer ', 'Frank Wang ',\n",
       "       'Zhang Lei ', 'Tony Ressler ', 'David Bonderman ', 'Olav Thon ',\n",
       "       'Mahendra Choksi&family ', 'Joe Lewis ', 'Charles Cadogan ',\n",
       "       'Su Hua ', 'Martin Lorentzon ', 'Jean-Pierre Cayard ',\n",
       "       'Marcos Galperin ', 'Bin Li ', 'Tsai Eng-Meng ', 'Ann Kroenke ',\n",
       "       'Kjeld Kirk Kristiansen', 'Lai Meisong ', 'Ken Fisher ',\n",
       "       'Abhay Vakil&family ', 'Tom Morris ', 'Leonard Stern ',\n",
       "       'Kenneth Dart ', 'Jean-Michel Besnier ', 'Pat Stryker ',\n",
       "       'Sam Zell ', 'Jeffery Hildebrand ', 'Joe Mansueto ',\n",
       "       'Wang Yanqing ', 'Arthur Irving ', 'Sofie Kirk Kristiansen',\n",
       "       'Agnete Kirk Thinggaard', 'Thomas Kirk Kristiansen', 'Ray Hunt ',\n",
       "       'Terry Gou ', 'Hui Wing Mau', 'Henry Laufer ', 'M A Yusuff Ali',\n",
       "       'Johan Johannson&family ', 'Richard Branson ', 'Tony James ',\n",
       "       'Jiang Bin ', 'Denise Coates ', 'Andreas Halvorsen ', 'Lin Muqin ',\n",
       "       'Wang Wenjing ', 'Barry Lam ', 'Kim Jung-Ju ', 'Kei Hoi Pang',\n",
       "       'Antti Herlin ', 'Bidzina Ivanishvili ', 'Richard Li ',\n",
       "       'Robert Kraft ', 'Katharine Rayner ', 'Margaretta Taylor ',\n",
       "       'James Cox Chambers', 'Mark Cuban ', 'Eric Smidt ',\n",
       "       'Majid Al Futtaim', 'Barry Diller ', 'Cliff Obrecht ',\n",
       "       'Melanie Perkins ', 'Trevor Rees-Jones ', 'Frits Goldschmeding '],\n",
       "      dtype=object)"
      ]
     },
     "execution_count": 34,
     "metadata": {},
     "output_type": "execute_result"
    }
   ],
   "source": [
    "#listing the billionaires name\n",
    "df['Name'].unique()"
   ]
  },
  {
   "cell_type": "code",
   "execution_count": 35,
   "id": "d37bcfc8",
   "metadata": {},
   "outputs": [
    {
     "data": {
      "text/html": [
       "<div>\n",
       "<style scoped>\n",
       "    .dataframe tbody tr th:only-of-type {\n",
       "        vertical-align: middle;\n",
       "    }\n",
       "\n",
       "    .dataframe tbody tr th {\n",
       "        vertical-align: top;\n",
       "    }\n",
       "\n",
       "    .dataframe thead th {\n",
       "        text-align: right;\n",
       "    }\n",
       "</style>\n",
       "<table border=\"1\" class=\"dataframe\">\n",
       "  <thead>\n",
       "    <tr style=\"text-align: right;\">\n",
       "      <th></th>\n",
       "      <th>Name</th>\n",
       "      <th>Total_Net_Worth</th>\n",
       "      <th>Country</th>\n",
       "      <th>Industry</th>\n",
       "    </tr>\n",
       "    <tr>\n",
       "      <th>Rank</th>\n",
       "      <th></th>\n",
       "      <th></th>\n",
       "      <th></th>\n",
       "      <th></th>\n",
       "    </tr>\n",
       "  </thead>\n",
       "  <tbody>\n",
       "    <tr>\n",
       "      <th>5</th>\n",
       "      <td>Larry Page</td>\n",
       "      <td>$131B</td>\n",
       "      <td>UnitedStates</td>\n",
       "      <td>Technology</td>\n",
       "    </tr>\n",
       "  </tbody>\n",
       "</table>\n",
       "</div>"
      ],
      "text/plain": [
       "             Name Total_Net_Worth       Country    Industry\n",
       "Rank                                                       \n",
       "5     Larry Page            $131B  UnitedStates  Technology"
      ]
     },
     "execution_count": 35,
     "metadata": {},
     "output_type": "execute_result"
    }
   ],
   "source": [
    "#deriving particular person's data\n",
    "df[df['Name']=='Larry Page ']\n"
   ]
  },
  {
   "cell_type": "code",
   "execution_count": 74,
   "id": "f55841f1",
   "metadata": {},
   "outputs": [
    {
     "ename": "KeyError",
     "evalue": "False",
     "output_type": "error",
     "traceback": [
      "\u001b[0;31m---------------------------------------------------------------------------\u001b[0m",
      "\u001b[0;31mKeyError\u001b[0m                                  Traceback (most recent call last)",
      "\u001b[0;32m/var/folders/gg/g5t0k9gd405_2k5b98s3qdkm0000gp/T/ipykernel_2464/3618720843.py\u001b[0m in \u001b[0;36m<module>\u001b[0;34m\u001b[0m\n\u001b[1;32m      2\u001b[0m \u001b[0ml\u001b[0m\u001b[0;34m=\u001b[0m\u001b[0;34m[\u001b[0m\u001b[0;34m'A'\u001b[0m\u001b[0;34m,\u001b[0m\u001b[0;34m'B'\u001b[0m\u001b[0;34m,\u001b[0m\u001b[0;34m'C'\u001b[0m\u001b[0;34m,\u001b[0m\u001b[0;34m'D'\u001b[0m\u001b[0;34m,\u001b[0m\u001b[0;34m'E'\u001b[0m\u001b[0;34m,\u001b[0m\u001b[0;34m'F'\u001b[0m\u001b[0;34m,\u001b[0m\u001b[0;34m'G'\u001b[0m\u001b[0;34m,\u001b[0m\u001b[0;34m'H'\u001b[0m\u001b[0;34m,\u001b[0m\u001b[0;34m'I'\u001b[0m\u001b[0;34m,\u001b[0m\u001b[0;34m'J'\u001b[0m\u001b[0;34m,\u001b[0m\u001b[0;34m'K'\u001b[0m\u001b[0;34m,\u001b[0m\u001b[0;34m'L'\u001b[0m\u001b[0;34m,\u001b[0m\u001b[0;34m'M'\u001b[0m\u001b[0;34m,\u001b[0m\u001b[0;34m'N'\u001b[0m\u001b[0;34m,\u001b[0m\u001b[0;34m'O'\u001b[0m\u001b[0;34m,\u001b[0m\u001b[0;34m'P'\u001b[0m\u001b[0;34m,\u001b[0m\u001b[0;34m'Q'\u001b[0m\u001b[0;34m,\u001b[0m\u001b[0;34m'R'\u001b[0m\u001b[0;34m,\u001b[0m\u001b[0;34m'S'\u001b[0m\u001b[0;34m,\u001b[0m\u001b[0;34m'T'\u001b[0m\u001b[0;34m,\u001b[0m\u001b[0;34m'U'\u001b[0m\u001b[0;34m,\u001b[0m\u001b[0;34m'V'\u001b[0m\u001b[0;34m,\u001b[0m\u001b[0;34m'W'\u001b[0m\u001b[0;34m,\u001b[0m\u001b[0;34m'X'\u001b[0m\u001b[0;34m,\u001b[0m\u001b[0;34m'Y'\u001b[0m\u001b[0;34m,\u001b[0m\u001b[0;34m'Z'\u001b[0m\u001b[0;34m]\u001b[0m\u001b[0;34m\u001b[0m\u001b[0;34m\u001b[0m\u001b[0m\n\u001b[1;32m      3\u001b[0m \u001b[0;32mfor\u001b[0m \u001b[0mi\u001b[0m \u001b[0;32min\u001b[0m \u001b[0ml\u001b[0m\u001b[0;34m:\u001b[0m\u001b[0;34m\u001b[0m\u001b[0;34m\u001b[0m\u001b[0m\n\u001b[0;32m----> 4\u001b[0;31m     \u001b[0mtab_ind\u001b[0m \u001b[0;34m=\u001b[0m \u001b[0mpd\u001b[0m\u001b[0;34m.\u001b[0m\u001b[0mpivot_table\u001b[0m\u001b[0;34m(\u001b[0m\u001b[0mdf\u001b[0m\u001b[0;34m,\u001b[0m \u001b[0mindex\u001b[0m\u001b[0;34m=\u001b[0m\u001b[0;34m'Industry'\u001b[0m\u001b[0;34m,\u001b[0m \u001b[0mvalues\u001b[0m\u001b[0;34m=\u001b[0m\u001b[0mdf\u001b[0m\u001b[0;34m[\u001b[0m\u001b[0;34m'Name'\u001b[0m\u001b[0;34m]\u001b[0m\u001b[0;34m.\u001b[0m\u001b[0mstr\u001b[0m\u001b[0;34m.\u001b[0m\u001b[0mstartswith\u001b[0m\u001b[0;34m(\u001b[0m\u001b[0mi\u001b[0m\u001b[0;34m,\u001b[0m\u001b[0;36m0\u001b[0m\u001b[0;34m)\u001b[0m\u001b[0;34m,\u001b[0m \u001b[0maggfunc\u001b[0m\u001b[0;34m=\u001b[0m\u001b[0mnp\u001b[0m\u001b[0;34m.\u001b[0m\u001b[0msize\u001b[0m\u001b[0;34m)\u001b[0m\u001b[0;34m\u001b[0m\u001b[0;34m\u001b[0m\u001b[0m\n\u001b[0m\u001b[1;32m      5\u001b[0m     \u001b[0mtab_ind\u001b[0m\u001b[0;34m\u001b[0m\u001b[0;34m\u001b[0m\u001b[0m\n",
      "\u001b[0;32m~/opt/anaconda3/lib/python3.9/site-packages/pandas/core/reshape/pivot.py\u001b[0m in \u001b[0;36mpivot_table\u001b[0;34m(data, values, index, columns, aggfunc, fill_value, margins, dropna, margins_name, observed, sort)\u001b[0m\n\u001b[1;32m     93\u001b[0m         \u001b[0;32mreturn\u001b[0m \u001b[0mtable\u001b[0m\u001b[0;34m.\u001b[0m\u001b[0m__finalize__\u001b[0m\u001b[0;34m(\u001b[0m\u001b[0mdata\u001b[0m\u001b[0;34m,\u001b[0m \u001b[0mmethod\u001b[0m\u001b[0;34m=\u001b[0m\u001b[0;34m\"pivot_table\"\u001b[0m\u001b[0;34m)\u001b[0m\u001b[0;34m\u001b[0m\u001b[0;34m\u001b[0m\u001b[0m\n\u001b[1;32m     94\u001b[0m \u001b[0;34m\u001b[0m\u001b[0m\n\u001b[0;32m---> 95\u001b[0;31m     table = __internal_pivot_table(\n\u001b[0m\u001b[1;32m     96\u001b[0m         \u001b[0mdata\u001b[0m\u001b[0;34m,\u001b[0m\u001b[0;34m\u001b[0m\u001b[0;34m\u001b[0m\u001b[0m\n\u001b[1;32m     97\u001b[0m         \u001b[0mvalues\u001b[0m\u001b[0;34m,\u001b[0m\u001b[0;34m\u001b[0m\u001b[0;34m\u001b[0m\u001b[0m\n",
      "\u001b[0;32m~/opt/anaconda3/lib/python3.9/site-packages/pandas/core/reshape/pivot.py\u001b[0m in \u001b[0;36m__internal_pivot_table\u001b[0;34m(data, values, index, columns, aggfunc, fill_value, margins, dropna, margins_name, observed, sort)\u001b[0m\n\u001b[1;32m    139\u001b[0m         \u001b[0;32mfor\u001b[0m \u001b[0mi\u001b[0m \u001b[0;32min\u001b[0m \u001b[0mvalues\u001b[0m\u001b[0;34m:\u001b[0m\u001b[0;34m\u001b[0m\u001b[0;34m\u001b[0m\u001b[0m\n\u001b[1;32m    140\u001b[0m             \u001b[0;32mif\u001b[0m \u001b[0mi\u001b[0m \u001b[0;32mnot\u001b[0m \u001b[0;32min\u001b[0m \u001b[0mdata\u001b[0m\u001b[0;34m:\u001b[0m\u001b[0;34m\u001b[0m\u001b[0;34m\u001b[0m\u001b[0m\n\u001b[0;32m--> 141\u001b[0;31m                 \u001b[0;32mraise\u001b[0m \u001b[0mKeyError\u001b[0m\u001b[0;34m(\u001b[0m\u001b[0mi\u001b[0m\u001b[0;34m)\u001b[0m\u001b[0;34m\u001b[0m\u001b[0;34m\u001b[0m\u001b[0m\n\u001b[0m\u001b[1;32m    142\u001b[0m \u001b[0;34m\u001b[0m\u001b[0m\n\u001b[1;32m    143\u001b[0m         \u001b[0mto_filter\u001b[0m \u001b[0;34m=\u001b[0m \u001b[0;34m[\u001b[0m\u001b[0;34m]\u001b[0m\u001b[0;34m\u001b[0m\u001b[0;34m\u001b[0m\u001b[0m\n",
      "\u001b[0;31mKeyError\u001b[0m: False"
     ]
    }
   ],
   "source": [
    "#need to form a pivot table based on the alphabets orde# referred Pivot Table for Billionaires per Industries\n",
    "l=['A','B','C','D','E','F','G','H','I','J','K','L','M','N','O','P','Q','R','S','T','U','V','W','X','Y','Z']\n",
    "for i in l:\n",
    "    tab_ind = pd.pivot_table(df, index='Industry', values=df['Name'].str.startswith(i,0), aggfunc=np.size)\n",
    "    tab_ind"
   ]
  },
  {
   "cell_type": "code",
   "execution_count": 36,
   "id": "9ad7255b",
   "metadata": {},
   "outputs": [
    {
     "data": {
      "text/html": [
       "<div>\n",
       "<style scoped>\n",
       "    .dataframe tbody tr th:only-of-type {\n",
       "        vertical-align: middle;\n",
       "    }\n",
       "\n",
       "    .dataframe tbody tr th {\n",
       "        vertical-align: top;\n",
       "    }\n",
       "\n",
       "    .dataframe thead th {\n",
       "        text-align: right;\n",
       "    }\n",
       "</style>\n",
       "<table border=\"1\" class=\"dataframe\">\n",
       "  <thead>\n",
       "    <tr style=\"text-align: right;\">\n",
       "      <th></th>\n",
       "      <th>Name</th>\n",
       "      <th>Total_Net_Worth</th>\n",
       "      <th>Country</th>\n",
       "      <th>Industry</th>\n",
       "    </tr>\n",
       "    <tr>\n",
       "      <th>Rank</th>\n",
       "      <th></th>\n",
       "      <th></th>\n",
       "      <th></th>\n",
       "      <th></th>\n",
       "    </tr>\n",
       "  </thead>\n",
       "  <tbody>\n",
       "    <tr>\n",
       "      <th>456</th>\n",
       "      <td>Abhay Vakil&amp;family</td>\n",
       "      <td>$6.32B</td>\n",
       "      <td>India</td>\n",
       "      <td>Industrial</td>\n",
       "    </tr>\n",
       "    <tr>\n",
       "      <th>61</th>\n",
       "      <td>Abigail Johnson</td>\n",
       "      <td>$27.4B</td>\n",
       "      <td>UnitedStates</td>\n",
       "      <td>Finance</td>\n",
       "    </tr>\n",
       "    <tr>\n",
       "      <th>468</th>\n",
       "      <td>Agnete Kirk Thinggaard</td>\n",
       "      <td>$6.19B</td>\n",
       "      <td>Denmark</td>\n",
       "      <td>Consumer</td>\n",
       "    </tr>\n",
       "    <tr>\n",
       "      <th>367</th>\n",
       "      <td>Alain Merieux</td>\n",
       "      <td>$7.55B</td>\n",
       "      <td>France</td>\n",
       "      <td>Health Care</td>\n",
       "    </tr>\n",
       "    <tr>\n",
       "      <th>48</th>\n",
       "      <td>Alain Wertheimer</td>\n",
       "      <td>$30.6B</td>\n",
       "      <td>France</td>\n",
       "      <td>Consumer</td>\n",
       "    </tr>\n",
       "    <tr>\n",
       "      <th>...</th>\n",
       "      <td>...</td>\n",
       "      <td>...</td>\n",
       "      <td>...</td>\n",
       "      <td>...</td>\n",
       "    </tr>\n",
       "    <tr>\n",
       "      <th>93</th>\n",
       "      <td>Zhang Zhidong</td>\n",
       "      <td>$20.8B</td>\n",
       "      <td>China</td>\n",
       "      <td>Technology</td>\n",
       "    </tr>\n",
       "    <tr>\n",
       "      <th>344</th>\n",
       "      <td>Zhao Yan</td>\n",
       "      <td>$8.03B</td>\n",
       "      <td>China</td>\n",
       "      <td>Health Care</td>\n",
       "    </tr>\n",
       "    <tr>\n",
       "      <th>256</th>\n",
       "      <td>Zhong Huijuan</td>\n",
       "      <td>$9.74B</td>\n",
       "      <td>China</td>\n",
       "      <td>Health Care</td>\n",
       "    </tr>\n",
       "    <tr>\n",
       "      <th>17</th>\n",
       "      <td>Zhong Shanshan</td>\n",
       "      <td>$65.2B</td>\n",
       "      <td>China</td>\n",
       "      <td>Diversified</td>\n",
       "    </tr>\n",
       "    <tr>\n",
       "      <th>218</th>\n",
       "      <td>Zhou Qunfei</td>\n",
       "      <td>$11.0B</td>\n",
       "      <td>China</td>\n",
       "      <td>Technology</td>\n",
       "    </tr>\n",
       "  </tbody>\n",
       "</table>\n",
       "<p>500 rows × 4 columns</p>\n",
       "</div>"
      ],
      "text/plain": [
       "                        Name Total_Net_Worth       Country     Industry\n",
       "Rank                                                                   \n",
       "456      Abhay Vakil&family           $6.32B         India   Industrial\n",
       "61          Abigail Johnson           $27.4B  UnitedStates      Finance\n",
       "468   Agnete Kirk Thinggaard          $6.19B       Denmark     Consumer\n",
       "367           Alain Merieux           $7.55B        France  Health Care\n",
       "48         Alain Wertheimer           $30.6B        France     Consumer\n",
       "...                      ...             ...           ...          ...\n",
       "93            Zhang Zhidong           $20.8B         China   Technology\n",
       "344                Zhao Yan           $8.03B         China  Health Care\n",
       "256           Zhong Huijuan           $9.74B         China  Health Care\n",
       "17           Zhong Shanshan           $65.2B         China  Diversified\n",
       "218             Zhou Qunfei           $11.0B         China   Technology\n",
       "\n",
       "[500 rows x 4 columns]"
      ]
     },
     "execution_count": 36,
     "metadata": {},
     "output_type": "execute_result"
    }
   ],
   "source": [
    "#sorting the df by name of the bilionaires\n",
    "df.sort_values('Name')"
   ]
  },
  {
   "cell_type": "code",
   "execution_count": 37,
   "id": "8be1a14d",
   "metadata": {},
   "outputs": [
    {
     "name": "stdout",
     "output_type": "stream",
     "text": [
      " No.of.billionaires with R as first letter of their name  :  30\n"
     ]
    },
    {
     "data": {
      "text/html": [
       "<div>\n",
       "<style scoped>\n",
       "    .dataframe tbody tr th:only-of-type {\n",
       "        vertical-align: middle;\n",
       "    }\n",
       "\n",
       "    .dataframe tbody tr th {\n",
       "        vertical-align: top;\n",
       "    }\n",
       "\n",
       "    .dataframe thead th {\n",
       "        text-align: right;\n",
       "    }\n",
       "</style>\n",
       "<table border=\"1\" class=\"dataframe\">\n",
       "  <thead>\n",
       "    <tr style=\"text-align: right;\">\n",
       "      <th></th>\n",
       "      <th>Name</th>\n",
       "      <th>Total_Net_Worth</th>\n",
       "      <th>Country</th>\n",
       "      <th>Industry</th>\n",
       "    </tr>\n",
       "    <tr>\n",
       "      <th>Rank</th>\n",
       "      <th></th>\n",
       "      <th></th>\n",
       "      <th></th>\n",
       "      <th></th>\n",
       "    </tr>\n",
       "  </thead>\n",
       "  <tbody>\n",
       "    <tr>\n",
       "      <th>16</th>\n",
       "      <td>Rob Walton</td>\n",
       "      <td>$66.0B</td>\n",
       "      <td>UnitedStates</td>\n",
       "      <td>Retail</td>\n",
       "    </tr>\n",
       "    <tr>\n",
       "      <th>71</th>\n",
       "      <td>Radhakishan Damani</td>\n",
       "      <td>$24.3B</td>\n",
       "      <td>India</td>\n",
       "      <td>Retail</td>\n",
       "    </tr>\n",
       "    <tr>\n",
       "      <th>103</th>\n",
       "      <td>Robert Kuok</td>\n",
       "      <td>$19.0B</td>\n",
       "      <td>Malaysia</td>\n",
       "      <td>Diversified</td>\n",
       "    </tr>\n",
       "    <tr>\n",
       "      <th>106</th>\n",
       "      <td>Roman Abramovich</td>\n",
       "      <td>$18.9B</td>\n",
       "      <td>RussianFederation</td>\n",
       "      <td>Diversified</td>\n",
       "    </tr>\n",
       "    <tr>\n",
       "      <th>117</th>\n",
       "      <td>Richard Liu</td>\n",
       "      <td>$17.7B</td>\n",
       "      <td>China</td>\n",
       "      <td>Technology</td>\n",
       "    </tr>\n",
       "    <tr>\n",
       "      <th>133</th>\n",
       "      <td>Ray Dalio</td>\n",
       "      <td>$15.6B</td>\n",
       "      <td>UnitedStates</td>\n",
       "      <td>Finance</td>\n",
       "    </tr>\n",
       "    <tr>\n",
       "      <th>139</th>\n",
       "      <td>Ricardo Salinas</td>\n",
       "      <td>$15.0B</td>\n",
       "      <td>Mexico</td>\n",
       "      <td>Diversified</td>\n",
       "    </tr>\n",
       "    <tr>\n",
       "      <th>157</th>\n",
       "      <td>Reinhold Wuerth</td>\n",
       "      <td>$13.8B</td>\n",
       "      <td>Germany</td>\n",
       "      <td>Industrial</td>\n",
       "    </tr>\n",
       "    <tr>\n",
       "      <th>165</th>\n",
       "      <td>Robert Pera</td>\n",
       "      <td>$13.4B</td>\n",
       "      <td>UnitedStates</td>\n",
       "      <td>Technology</td>\n",
       "    </tr>\n",
       "    <tr>\n",
       "      <th>189</th>\n",
       "      <td>Robin Li</td>\n",
       "      <td>$11.8B</td>\n",
       "      <td>China</td>\n",
       "      <td>Technology</td>\n",
       "    </tr>\n",
       "    <tr>\n",
       "      <th>196</th>\n",
       "      <td>Raymond Kwok</td>\n",
       "      <td>$11.5B</td>\n",
       "      <td>HongKong</td>\n",
       "      <td>Real Estate</td>\n",
       "    </tr>\n",
       "    <tr>\n",
       "      <th>214</th>\n",
       "      <td>Rinat Akhmetov</td>\n",
       "      <td>$11.1B</td>\n",
       "      <td>Ukraine</td>\n",
       "      <td>Industrial</td>\n",
       "    </tr>\n",
       "    <tr>\n",
       "      <th>272</th>\n",
       "      <td>Rocco Commisso</td>\n",
       "      <td>$9.15B</td>\n",
       "      <td>UnitedStates</td>\n",
       "      <td>Media&amp;Telecom</td>\n",
       "    </tr>\n",
       "    <tr>\n",
       "      <th>273</th>\n",
       "      <td>Rupert Murdoch</td>\n",
       "      <td>$9.14B</td>\n",
       "      <td>UnitedStates</td>\n",
       "      <td>Media&amp;Telecom</td>\n",
       "    </tr>\n",
       "    <tr>\n",
       "      <th>291</th>\n",
       "      <td>Reinhold Schmieding</td>\n",
       "      <td>$8.72B</td>\n",
       "      <td>UnitedStates</td>\n",
       "      <td>Health Care</td>\n",
       "    </tr>\n",
       "    <tr>\n",
       "      <th>297</th>\n",
       "      <td>Rahel Blocher</td>\n",
       "      <td>$8.65B</td>\n",
       "      <td>Switzerland</td>\n",
       "      <td>Industrial</td>\n",
       "    </tr>\n",
       "    <tr>\n",
       "      <th>298</th>\n",
       "      <td>Robert Smith</td>\n",
       "      <td>$8.65B</td>\n",
       "      <td>UnitedStates</td>\n",
       "      <td>Finance</td>\n",
       "    </tr>\n",
       "    <tr>\n",
       "      <th>306</th>\n",
       "      <td>Rahul Bajaj</td>\n",
       "      <td>$8.49B</td>\n",
       "      <td>India</td>\n",
       "      <td>Diversified</td>\n",
       "    </tr>\n",
       "    <tr>\n",
       "      <th>328</th>\n",
       "      <td>Richard Kinder</td>\n",
       "      <td>$8.18B</td>\n",
       "      <td>UnitedStates</td>\n",
       "      <td>Energy</td>\n",
       "    </tr>\n",
       "    <tr>\n",
       "      <th>333</th>\n",
       "      <td>Ronda Stryker</td>\n",
       "      <td>$8.13B</td>\n",
       "      <td>UnitedStates</td>\n",
       "      <td>Health Care</td>\n",
       "    </tr>\n",
       "    <tr>\n",
       "      <th>336</th>\n",
       "      <td>Ralph Lauren</td>\n",
       "      <td>$8.13B</td>\n",
       "      <td>UnitedStates</td>\n",
       "      <td>Consumer</td>\n",
       "    </tr>\n",
       "    <tr>\n",
       "      <th>385</th>\n",
       "      <td>Reed Hastings</td>\n",
       "      <td>$7.23B</td>\n",
       "      <td>UnitedStates</td>\n",
       "      <td>Technology</td>\n",
       "    </tr>\n",
       "    <tr>\n",
       "      <th>409</th>\n",
       "      <td>Randa Williams</td>\n",
       "      <td>$6.98B</td>\n",
       "      <td>UnitedStates</td>\n",
       "      <td>Energy</td>\n",
       "    </tr>\n",
       "    <tr>\n",
       "      <th>417</th>\n",
       "      <td>Ruan Liping</td>\n",
       "      <td>$6.89B</td>\n",
       "      <td>China</td>\n",
       "      <td>Industrial</td>\n",
       "    </tr>\n",
       "    <tr>\n",
       "      <th>421</th>\n",
       "      <td>Ruan Xueping</td>\n",
       "      <td>$6.87B</td>\n",
       "      <td>China</td>\n",
       "      <td>Industrial</td>\n",
       "    </tr>\n",
       "    <tr>\n",
       "      <th>431</th>\n",
       "      <td>Ronald McAulay</td>\n",
       "      <td>$6.74B</td>\n",
       "      <td>HongKong</td>\n",
       "      <td>Energy</td>\n",
       "    </tr>\n",
       "    <tr>\n",
       "      <th>470</th>\n",
       "      <td>Ray Hunt</td>\n",
       "      <td>$6.18B</td>\n",
       "      <td>UnitedStates</td>\n",
       "      <td>Energy</td>\n",
       "    </tr>\n",
       "    <tr>\n",
       "      <th>476</th>\n",
       "      <td>Richard Branson</td>\n",
       "      <td>$6.12B</td>\n",
       "      <td>UnitedKingdom</td>\n",
       "      <td>Diversified</td>\n",
       "    </tr>\n",
       "    <tr>\n",
       "      <th>488</th>\n",
       "      <td>Richard Li</td>\n",
       "      <td>$5.99B</td>\n",
       "      <td>HongKong</td>\n",
       "      <td>Media&amp;Telecom</td>\n",
       "    </tr>\n",
       "    <tr>\n",
       "      <th>489</th>\n",
       "      <td>Robert Kraft</td>\n",
       "      <td>$5.99B</td>\n",
       "      <td>UnitedStates</td>\n",
       "      <td>Entertainment</td>\n",
       "    </tr>\n",
       "  </tbody>\n",
       "</table>\n",
       "</div>"
      ],
      "text/plain": [
       "                      Name Total_Net_Worth            Country       Industry\n",
       "Rank                                                                        \n",
       "16             Rob Walton           $66.0B       UnitedStates         Retail\n",
       "71     Radhakishan Damani           $24.3B              India         Retail\n",
       "103           Robert Kuok           $19.0B           Malaysia    Diversified\n",
       "106      Roman Abramovich           $18.9B  RussianFederation    Diversified\n",
       "117           Richard Liu           $17.7B              China     Technology\n",
       "133             Ray Dalio           $15.6B       UnitedStates        Finance\n",
       "139       Ricardo Salinas           $15.0B             Mexico    Diversified\n",
       "157       Reinhold Wuerth           $13.8B            Germany     Industrial\n",
       "165           Robert Pera           $13.4B       UnitedStates     Technology\n",
       "189              Robin Li           $11.8B              China     Technology\n",
       "196          Raymond Kwok           $11.5B           HongKong    Real Estate\n",
       "214        Rinat Akhmetov           $11.1B            Ukraine     Industrial\n",
       "272        Rocco Commisso           $9.15B       UnitedStates  Media&Telecom\n",
       "273        Rupert Murdoch           $9.14B       UnitedStates  Media&Telecom\n",
       "291   Reinhold Schmieding           $8.72B       UnitedStates    Health Care\n",
       "297         Rahel Blocher           $8.65B        Switzerland     Industrial\n",
       "298          Robert Smith           $8.65B       UnitedStates        Finance\n",
       "306           Rahul Bajaj           $8.49B              India    Diversified\n",
       "328        Richard Kinder           $8.18B       UnitedStates         Energy\n",
       "333         Ronda Stryker           $8.13B       UnitedStates    Health Care\n",
       "336          Ralph Lauren           $8.13B       UnitedStates       Consumer\n",
       "385         Reed Hastings           $7.23B       UnitedStates     Technology\n",
       "409        Randa Williams           $6.98B       UnitedStates         Energy\n",
       "417           Ruan Liping           $6.89B              China     Industrial\n",
       "421          Ruan Xueping           $6.87B              China     Industrial\n",
       "431        Ronald McAulay           $6.74B           HongKong         Energy\n",
       "470              Ray Hunt           $6.18B       UnitedStates         Energy\n",
       "476       Richard Branson           $6.12B      UnitedKingdom    Diversified\n",
       "488            Richard Li           $5.99B           HongKong  Media&Telecom\n",
       "489          Robert Kraft           $5.99B       UnitedStates  Entertainment"
      ]
     },
     "execution_count": 37,
     "metadata": {},
     "output_type": "execute_result"
    }
   ],
   "source": [
    "#to find no.of.billionaires with starting letter as R\n",
    "search =\"R\"\n",
    "  \n",
    "# boolean series returned with False at place of NaN\n",
    "bool_series = df[\"Name\"].str.startswith(search,0)\n",
    "  \n",
    "# displaying filtered dataframe\n",
    "print(\" No.of.billionaires with R as first letter of their name  : \",df[bool_series].shape[0])\n",
    "df[bool_series]"
   ]
  },
  {
   "cell_type": "markdown",
   "id": "900eeb7c",
   "metadata": {},
   "source": [
    "##### Total_Net_Worth"
   ]
  },
  {
   "cell_type": "code",
   "execution_count": 38,
   "id": "450f720e",
   "metadata": {},
   "outputs": [
    {
     "data": {
      "text/plain": [
       "Name               object\n",
       "Total_Net_Worth    object\n",
       "Country            object\n",
       "Industry           object\n",
       "dtype: object"
      ]
     },
     "execution_count": 38,
     "metadata": {},
     "output_type": "execute_result"
    }
   ],
   "source": [
    "df.dtypes"
   ]
  },
  {
   "cell_type": "code",
   "execution_count": 39,
   "id": "977332a4",
   "metadata": {},
   "outputs": [
    {
     "name": "stderr",
     "output_type": "stream",
     "text": [
      "/var/folders/gg/g5t0k9gd405_2k5b98s3qdkm0000gp/T/ipykernel_2464/466760261.py:2: FutureWarning: The default value of regex will change from True to False in a future version.\n",
      "  df['Total_Net_Worth']=df['Total_Net_Worth'].str.replace('[$,B]', '')\n"
     ]
    },
    {
     "data": {
      "text/html": [
       "<div>\n",
       "<style scoped>\n",
       "    .dataframe tbody tr th:only-of-type {\n",
       "        vertical-align: middle;\n",
       "    }\n",
       "\n",
       "    .dataframe tbody tr th {\n",
       "        vertical-align: top;\n",
       "    }\n",
       "\n",
       "    .dataframe thead th {\n",
       "        text-align: right;\n",
       "    }\n",
       "</style>\n",
       "<table border=\"1\" class=\"dataframe\">\n",
       "  <thead>\n",
       "    <tr style=\"text-align: right;\">\n",
       "      <th></th>\n",
       "      <th>Name</th>\n",
       "      <th>Total_Net_Worth</th>\n",
       "      <th>Country</th>\n",
       "      <th>Industry</th>\n",
       "    </tr>\n",
       "    <tr>\n",
       "      <th>Rank</th>\n",
       "      <th></th>\n",
       "      <th></th>\n",
       "      <th></th>\n",
       "      <th></th>\n",
       "    </tr>\n",
       "  </thead>\n",
       "  <tbody>\n",
       "    <tr>\n",
       "      <th>1</th>\n",
       "      <td>Elon Musk</td>\n",
       "      <td>311</td>\n",
       "      <td>UnitedStates</td>\n",
       "      <td>Technology</td>\n",
       "    </tr>\n",
       "    <tr>\n",
       "      <th>2</th>\n",
       "      <td>Jeff Bezos</td>\n",
       "      <td>195</td>\n",
       "      <td>UnitedStates</td>\n",
       "      <td>Technology</td>\n",
       "    </tr>\n",
       "    <tr>\n",
       "      <th>3</th>\n",
       "      <td>Bernard Arnault</td>\n",
       "      <td>167</td>\n",
       "      <td>France</td>\n",
       "      <td>Consumer</td>\n",
       "    </tr>\n",
       "    <tr>\n",
       "      <th>4</th>\n",
       "      <td>Bill Gates</td>\n",
       "      <td>136</td>\n",
       "      <td>UnitedStates</td>\n",
       "      <td>Technology</td>\n",
       "    </tr>\n",
       "    <tr>\n",
       "      <th>5</th>\n",
       "      <td>Larry Page</td>\n",
       "      <td>131</td>\n",
       "      <td>UnitedStates</td>\n",
       "      <td>Technology</td>\n",
       "    </tr>\n",
       "    <tr>\n",
       "      <th>...</th>\n",
       "      <td>...</td>\n",
       "      <td>...</td>\n",
       "      <td>...</td>\n",
       "      <td>...</td>\n",
       "    </tr>\n",
       "    <tr>\n",
       "      <th>496</th>\n",
       "      <td>Barry Diller</td>\n",
       "      <td>5.92</td>\n",
       "      <td>UnitedStates</td>\n",
       "      <td>Technology</td>\n",
       "    </tr>\n",
       "    <tr>\n",
       "      <th>497</th>\n",
       "      <td>Cliff Obrecht</td>\n",
       "      <td>5.89</td>\n",
       "      <td>Australia</td>\n",
       "      <td>Services</td>\n",
       "    </tr>\n",
       "    <tr>\n",
       "      <th>498</th>\n",
       "      <td>Melanie Perkins</td>\n",
       "      <td>5.89</td>\n",
       "      <td>Australia</td>\n",
       "      <td>Services</td>\n",
       "    </tr>\n",
       "    <tr>\n",
       "      <th>499</th>\n",
       "      <td>Trevor Rees-Jones</td>\n",
       "      <td>5.89</td>\n",
       "      <td>UnitedStates</td>\n",
       "      <td>Energy</td>\n",
       "    </tr>\n",
       "    <tr>\n",
       "      <th>500</th>\n",
       "      <td>Frits Goldschmeding</td>\n",
       "      <td>5.88</td>\n",
       "      <td>Netherlands</td>\n",
       "      <td>Retail</td>\n",
       "    </tr>\n",
       "  </tbody>\n",
       "</table>\n",
       "<p>500 rows × 4 columns</p>\n",
       "</div>"
      ],
      "text/plain": [
       "                      Name Total_Net_Worth       Country    Industry\n",
       "Rank                                                                \n",
       "1               Elon Musk              311  UnitedStates  Technology\n",
       "2              Jeff Bezos              195  UnitedStates  Technology\n",
       "3         Bernard Arnault              167        France    Consumer\n",
       "4              Bill Gates              136  UnitedStates  Technology\n",
       "5              Larry Page              131  UnitedStates  Technology\n",
       "...                    ...             ...           ...         ...\n",
       "496          Barry Diller             5.92  UnitedStates  Technology\n",
       "497         Cliff Obrecht             5.89     Australia    Services\n",
       "498       Melanie Perkins             5.89     Australia    Services\n",
       "499     Trevor Rees-Jones             5.89  UnitedStates      Energy\n",
       "500   Frits Goldschmeding             5.88   Netherlands      Retail\n",
       "\n",
       "[500 rows x 4 columns]"
      ]
     },
     "execution_count": 39,
     "metadata": {},
     "output_type": "execute_result"
    }
   ],
   "source": [
    "#deleting the extra symbols and alphabets from the column\n",
    "df['Total_Net_Worth']=df['Total_Net_Worth'].str.replace('[$,B]', '')\n",
    "df"
   ]
  },
  {
   "cell_type": "code",
   "execution_count": 40,
   "id": "3ff80e5f",
   "metadata": {},
   "outputs": [],
   "source": [
    "#converting the dtype from object to integer for further analysis\n",
    "df['Total_Net_Worth']=pd.to_numeric(df['Total_Net_Worth'])\n"
   ]
  },
  {
   "cell_type": "code",
   "execution_count": 41,
   "id": "63b62e07",
   "metadata": {},
   "outputs": [
    {
     "data": {
      "text/plain": [
       "Name                object\n",
       "Total_Net_Worth    float64\n",
       "Country             object\n",
       "Industry            object\n",
       "dtype: object"
      ]
     },
     "execution_count": 41,
     "metadata": {},
     "output_type": "execute_result"
    }
   ],
   "source": [
    "#checking whether its been changed\n",
    "df.dtypes"
   ]
  },
  {
   "cell_type": "code",
   "execution_count": 42,
   "id": "8b892723",
   "metadata": {},
   "outputs": [
    {
     "data": {
      "text/plain": [
       "Rank\n",
       "1    Elon Musk \n",
       "Name: Name, dtype: object"
      ]
     },
     "execution_count": 42,
     "metadata": {},
     "output_type": "execute_result"
    }
   ],
   "source": [
    "#man with highest Total_Net_Worth \n",
    "df.iloc[[df['Total_Net_Worth'].argmax()]]['Name']"
   ]
  },
  {
   "cell_type": "code",
   "execution_count": 43,
   "id": "2feacff9",
   "metadata": {},
   "outputs": [
    {
     "data": {
      "text/html": [
       "<div>\n",
       "<style scoped>\n",
       "    .dataframe tbody tr th:only-of-type {\n",
       "        vertical-align: middle;\n",
       "    }\n",
       "\n",
       "    .dataframe tbody tr th {\n",
       "        vertical-align: top;\n",
       "    }\n",
       "\n",
       "    .dataframe thead th {\n",
       "        text-align: right;\n",
       "    }\n",
       "</style>\n",
       "<table border=\"1\" class=\"dataframe\">\n",
       "  <thead>\n",
       "    <tr style=\"text-align: right;\">\n",
       "      <th></th>\n",
       "      <th>Name</th>\n",
       "      <th>Total_Net_Worth</th>\n",
       "      <th>Country</th>\n",
       "      <th>Industry</th>\n",
       "    </tr>\n",
       "    <tr>\n",
       "      <th>Rank</th>\n",
       "      <th></th>\n",
       "      <th></th>\n",
       "      <th></th>\n",
       "      <th></th>\n",
       "    </tr>\n",
       "  </thead>\n",
       "  <tbody>\n",
       "    <tr>\n",
       "      <th>466</th>\n",
       "      <td>Arthur Irving</td>\n",
       "      <td>4.34</td>\n",
       "      <td>Canada</td>\n",
       "      <td>Energy</td>\n",
       "    </tr>\n",
       "  </tbody>\n",
       "</table>\n",
       "</div>"
      ],
      "text/plain": [
       "                Name  Total_Net_Worth Country Industry\n",
       "Rank                                                  \n",
       "466   Arthur Irving              4.34  Canada   Energy"
      ]
     },
     "execution_count": 43,
     "metadata": {},
     "output_type": "execute_result"
    }
   ],
   "source": [
    "##man with lowest Total_Net_Worth \n",
    "df[df['Total_Net_Worth']==df['Total_Net_Worth'].min()]"
   ]
  },
  {
   "cell_type": "markdown",
   "id": "51bd7160",
   "metadata": {},
   "source": [
    "##### Country"
   ]
  },
  {
   "cell_type": "code",
   "execution_count": 44,
   "id": "fc51456d",
   "metadata": {},
   "outputs": [
    {
     "name": "stdout",
     "output_type": "stream",
     "text": [
      "No.of.different countries are :  49\n",
      "They are\n"
     ]
    },
    {
     "data": {
      "text/plain": [
       "array(['UnitedStates', 'France', 'India', 'Spain', 'China', 'Mexico',\n",
       "       'HongKong', 'Germany', 'Italy', 'Japan', 'RussianFederation',\n",
       "       'Ireland', 'Australia', 'UnitedKingdom', 'Brazil', 'Switzerland',\n",
       "       'Chile', 'Singapore', 'Sweden', 'Nigeria', 'Malaysia', 'Indonesia',\n",
       "       'SaudiArabia', 'Netherlands', 'Greece', 'Thailand', 'Austria',\n",
       "       'Canada', 'Taiwan', 'Israel', 'Colombia', 'Korea', 'Ukraine',\n",
       "       'Denmark', 'Monaco', 'SouthAfrica', 'Cyprus', 'New Zealand',\n",
       "       'VietNam', 'Philippines', 'Kazakhstan', 'Georgia', 'Egypt',\n",
       "       'Norway', 'Argentina', 'Cayman', 'UAE', 'SouthKorea', 'Finland'],\n",
       "      dtype=object)"
      ]
     },
     "execution_count": 44,
     "metadata": {},
     "output_type": "execute_result"
    }
   ],
   "source": [
    "#different countries that took place in this list are \n",
    "print(\"No.of.different countries are : \",df['Country'].nunique())\n",
    "print(\"They are\")\n",
    "df['Country'].unique()"
   ]
  },
  {
   "cell_type": "code",
   "execution_count": 45,
   "id": "ef7864e3",
   "metadata": {},
   "outputs": [
    {
     "data": {
      "text/plain": [
       "UnitedStates         170\n",
       "China                 81\n",
       "RussianFederation     27\n",
       "Germany               25\n",
       "India                 19\n",
       "Name: Country, dtype: int64"
      ]
     },
     "execution_count": 45,
     "metadata": {},
     "output_type": "execute_result"
    }
   ],
   "source": [
    "#top 5 country with highest participation\n",
    "df['Country'].value_counts().head(5)"
   ]
  },
  {
   "cell_type": "code",
   "execution_count": 46,
   "id": "0d1f9b7b",
   "metadata": {},
   "outputs": [
    {
     "data": {
      "text/plain": [
       "Monaco     1\n",
       "Ukraine    1\n",
       "Nigeria    1\n",
       "Chile      1\n",
       "Finland    1\n",
       "Name: Country, dtype: int64"
      ]
     },
     "execution_count": 46,
     "metadata": {},
     "output_type": "execute_result"
    }
   ],
   "source": [
    "#last 5 country with lowest participation\n",
    "df['Country'].value_counts().tail(5)"
   ]
  },
  {
   "cell_type": "code",
   "execution_count": 47,
   "id": "1bd7839b",
   "metadata": {},
   "outputs": [
    {
     "name": "stdout",
     "output_type": "stream",
     "text": [
      "No.of.billionaires from India are :  19\n"
     ]
    }
   ],
   "source": [
    "#No.of.Billionaires from India are\n",
    "print('No.of.billionaires from India are : ',df[df['Country']=='India'].shape[0])\n"
   ]
  },
  {
   "cell_type": "code",
   "execution_count": 48,
   "id": "0cd9d064",
   "metadata": {},
   "outputs": [
    {
     "data": {
      "text/plain": [
       "UnitedStates         170\n",
       "China                 81\n",
       "RussianFederation     27\n",
       "Germany               25\n",
       "India                 19\n",
       "France                16\n",
       "HongKong              16\n",
       "UnitedKingdom         15\n",
       "Canada                13\n",
       "Australia             10\n",
       "Sweden                 9\n",
       "Switzerland            9\n",
       "Japan                  6\n",
       "Mexico                 6\n",
       "Denmark                6\n",
       "Taiwan                 5\n",
       "Italy                  5\n",
       "Brazil                 5\n",
       "Singapore              5\n",
       "Israel                 4\n",
       "Ireland                4\n",
       "SouthAfrica            3\n",
       "Korea                  3\n",
       "Norway                 3\n",
       "Austria                2\n",
       "Colombia               2\n",
       "UAE                    2\n",
       "Thailand               2\n",
       "Netherlands            2\n",
       "SaudiArabia            2\n",
       "Indonesia              2\n",
       "Malaysia               2\n",
       "Spain                  2\n",
       "Georgia                2\n",
       "Cayman                 1\n",
       "Kazakhstan             1\n",
       "Argentina              1\n",
       "SouthKorea             1\n",
       "Egypt                  1\n",
       "Greece                 1\n",
       "Philippines            1\n",
       "VietNam                1\n",
       "New Zealand            1\n",
       "Cyprus                 1\n",
       "Monaco                 1\n",
       "Ukraine                1\n",
       "Nigeria                1\n",
       "Chile                  1\n",
       "Finland                1\n",
       "Name: Country, dtype: int64"
      ]
     },
     "execution_count": 48,
     "metadata": {},
     "output_type": "execute_result"
    },
    {
     "data": {
      "image/png": "[encoded data removed]",
      "text/plain": [
       "<Figure size 2160x720 with 1 Axes>"
      ]
     },
     "metadata": {
      "needs_background": "light"
     },
     "output_type": "display_data"
    }
   ],
   "source": [
    "#countires participation in the dataset\n",
    "df['Country'].value_counts().plot(kind = 'bar', rot = 45, sort_columns = True, figsize = (30,10), fontsize = 15)\n",
    "df['Country'].value_counts()"
   ]
  },
  {
   "cell_type": "code",
   "execution_count": 63,
   "id": "1c8461f6",
   "metadata": {},
   "outputs": [
    {
     "data": {
      "text/plain": [
       "Text(0, 0.5, 'Net Worth (in $B)')"
      ]
     },
     "execution_count": 63,
     "metadata": {},
     "output_type": "execute_result"
    },
    {
     "data": {
      "image/png": "[encoded data removed]",
      "text/plain": [
       "<Figure size 1152x576 with 1 Axes>"
      ]
     },
     "metadata": {
      "needs_background": "light"
     },
     "output_type": "display_data"
    }
   ],
   "source": [
    "#referred\n",
    "fig, ax = plt.subplots(figsize=(16,8))\n",
    "df.groupby(['Country']).sum()['Total_Net_Worth'].sort_values(ascending=False).plot(kind='bar')\n",
    "ax.set_ylabel('Net Worth (in $B)')"
   ]
  },
  {
   "cell_type": "markdown",
   "id": "f890bb17",
   "metadata": {},
   "source": [
    "##### Industry"
   ]
  },
  {
   "cell_type": "code",
   "execution_count": 49,
   "id": "d6f9e9a3",
   "metadata": {},
   "outputs": [
    {
     "name": "stdout",
     "output_type": "stream",
     "text": [
      "no.of.unique industries are  16\n"
     ]
    }
   ],
   "source": [
    "#no.of.unique industries are \n",
    "print(\"no.of.unique industries are \",df['Industry'].nunique())"
   ]
  },
  {
   "cell_type": "code",
   "execution_count": 50,
   "id": "ea7bc56e",
   "metadata": {},
   "outputs": [
    {
     "name": "stdout",
     "output_type": "stream",
     "text": [
      "Unique Industries are  ['Technology' 'Consumer' 'Diversified' 'Energy' 'Industrial' 'Retail'\n",
      " 'Food&Beverage' 'Finance' 'Commodities' 'Real Estate' 'Entertainment'\n",
      " 'Health Care' 'Media&Telecom' ' Media&Telecom' 'Services' 'Islands']\n"
     ]
    }
   ],
   "source": [
    "#Unique Industries are \n",
    "print(\"Unique Industries are \",df['Industry'].unique())"
   ]
  },
  {
   "cell_type": "code",
   "execution_count": 51,
   "id": "d85ccf49",
   "metadata": {},
   "outputs": [
    {
     "data": {
      "text/plain": [
       "Technology    87\n",
       "Name: Industry, dtype: int64"
      ]
     },
     "execution_count": 51,
     "metadata": {},
     "output_type": "execute_result"
    }
   ],
   "source": [
    "#Industry with highest participation\n",
    "df['Industry'].value_counts().head(1)"
   ]
  },
  {
   "cell_type": "code",
   "execution_count": 52,
   "id": "5b31d6d5",
   "metadata": {},
   "outputs": [
    {
     "data": {
      "text/plain": [
       "Islands    1\n",
       "Name: Industry, dtype: int64"
      ]
     },
     "execution_count": 52,
     "metadata": {},
     "output_type": "execute_result"
    }
   ],
   "source": [
    "#Industry with lowest participation\n",
    "df['Industry'].value_counts().tail(1)"
   ]
  },
  {
   "cell_type": "code",
   "execution_count": 53,
   "id": "d1353697",
   "metadata": {},
   "outputs": [
    {
     "data": {
      "text/plain": [
       "Rank\n",
       "1    Technology\n",
       "2    Technology\n",
       "3      Consumer\n",
       "4    Technology\n",
       "5    Technology\n",
       "Name: Industry, dtype: object"
      ]
     },
     "execution_count": 53,
     "metadata": {},
     "output_type": "execute_result"
    }
   ],
   "source": [
    "#Industries that  involved the top 5 billionaires are\n",
    "df['Industry'].head(5)"
   ]
  },
  {
   "cell_type": "code",
   "execution_count": 54,
   "id": "c8d3d8ed",
   "metadata": {},
   "outputs": [
    {
     "data": {
      "text/plain": [
       "Technology        87\n",
       "Industrial        57\n",
       "Finance           55\n",
       "Diversified       45\n",
       "Consumer          39\n",
       "Real Estate       33\n",
       "Retail            32\n",
       "Food&Beverage     30\n",
       "Health Care       30\n",
       "Energy            27\n",
       "Media&Telecom     22\n",
       "Commodities       18\n",
       "Services          13\n",
       "Entertainment     10\n",
       " Media&Telecom     1\n",
       "Islands            1\n",
       "Name: Industry, dtype: int64"
      ]
     },
     "execution_count": 54,
     "metadata": {},
     "output_type": "execute_result"
    },
    {
     "data": {
      "image/png": "[encoded data removed]",
      "text/plain": [
       "<Figure size 1440x720 with 1 Axes>"
      ]
     },
     "metadata": {},
     "output_type": "display_data"
    }
   ],
   "source": [
    "#showing the participation of each industries\n",
    "df['Industry'].value_counts().plot(kind = 'pie', rot = 45, sort_columns = True, figsize = (20,10), fontsize = 15)\n",
    "df['Industry'].value_counts()"
   ]
  },
  {
   "cell_type": "code",
   "execution_count": 64,
   "id": "b7156801",
   "metadata": {},
   "outputs": [
    {
     "data": {
      "text/plain": [
       "(array([ 0,  1,  2,  3,  4,  5,  6,  7,  8,  9, 10, 11, 12, 13, 14, 15]),\n",
       " [Text(0, 0, 'Technology'),\n",
       "  Text(1, 0, 'Industrial'),\n",
       "  Text(2, 0, 'Consumer'),\n",
       "  Text(3, 0, 'Diversified'),\n",
       "  Text(4, 0, 'Retail'),\n",
       "  Text(5, 0, 'Finance'),\n",
       "  Text(6, 0, 'Food&Beverage'),\n",
       "  Text(7, 0, 'Real Estate'),\n",
       "  Text(8, 0, 'Health Care'),\n",
       "  Text(9, 0, 'Energy'),\n",
       "  Text(10, 0, 'Commodities'),\n",
       "  Text(11, 0, 'Media&Telecom'),\n",
       "  Text(12, 0, 'Services'),\n",
       "  Text(13, 0, 'Entertainment'),\n",
       "  Text(14, 0, ' Media&Telecom'),\n",
       "  Text(15, 0, 'Islands')])"
      ]
     },
     "execution_count": 64,
     "metadata": {},
     "output_type": "execute_result"
    },
    {
     "data": {
      "image/png": "[encoded data removed]",
      "text/plain": [
       "<Figure size 1152x720 with 1 Axes>"
      ]
     },
     "metadata": {
      "needs_background": "light"
     },
     "output_type": "display_data"
    }
   ],
   "source": [
    "#referred\n",
    "fig, ax = plt.subplots(figsize=(16, 10))\n",
    "df.groupby('Industry').sum().Total_Net_Worth.sort_values(ascending=False).plot(kind='bar')\n",
    "ax.set_ylabel('Capital (in $B)')\n",
    "plt.xticks(rotation=60)"
   ]
  },
  {
   "cell_type": "markdown",
   "id": "a08bac3a",
   "metadata": {},
   "source": [
    "# DETAILS FROM SINGLE COLUMN ANALYSIS\n",
    "        -Removal of insignificant columns\n",
    "        -There are 30 names starting with R\n",
    "        -Convertion of total_net_worth cilmn dtype to object\n",
    "        -Highest TNW is Elon Musk and lowest TNW is Arthur Irving\n",
    "        -There are totally 49 countries\n",
    "        -Top 5 countires participanions : US has 170 participants , China has 81 participants , Russia has 27 participants,Germany has 25 participants and India has 19 participants\n",
    "        -There are 16 unique Industries\n",
    "        -Technology industry has the highest participants\n",
    "        -Industries in Islands has the lowest participants"
   ]
  },
  {
   "cell_type": "markdown",
   "id": "1d2369a4",
   "metadata": {},
   "source": [
    "# Two-Column analysis"
   ]
  },
  {
   "cell_type": "code",
   "execution_count": 55,
   "id": "e1580df6",
   "metadata": {},
   "outputs": [
    {
     "data": {
      "text/html": [
       "<div>\n",
       "<style scoped>\n",
       "    .dataframe tbody tr th:only-of-type {\n",
       "        vertical-align: middle;\n",
       "    }\n",
       "\n",
       "    .dataframe tbody tr th {\n",
       "        vertical-align: top;\n",
       "    }\n",
       "\n",
       "    .dataframe thead th {\n",
       "        text-align: right;\n",
       "    }\n",
       "</style>\n",
       "<table border=\"1\" class=\"dataframe\">\n",
       "  <thead>\n",
       "    <tr style=\"text-align: right;\">\n",
       "      <th></th>\n",
       "      <th>Name</th>\n",
       "      <th>Total_Net_Worth</th>\n",
       "      <th>Country</th>\n",
       "      <th>Industry</th>\n",
       "    </tr>\n",
       "    <tr>\n",
       "      <th>Rank</th>\n",
       "      <th></th>\n",
       "      <th></th>\n",
       "      <th></th>\n",
       "      <th></th>\n",
       "    </tr>\n",
       "  </thead>\n",
       "  <tbody>\n",
       "    <tr>\n",
       "      <th>1</th>\n",
       "      <td>Elon Musk</td>\n",
       "      <td>311.00</td>\n",
       "      <td>UnitedStates</td>\n",
       "      <td>Technology</td>\n",
       "    </tr>\n",
       "    <tr>\n",
       "      <th>2</th>\n",
       "      <td>Jeff Bezos</td>\n",
       "      <td>195.00</td>\n",
       "      <td>UnitedStates</td>\n",
       "      <td>Technology</td>\n",
       "    </tr>\n",
       "    <tr>\n",
       "      <th>3</th>\n",
       "      <td>Bernard Arnault</td>\n",
       "      <td>167.00</td>\n",
       "      <td>France</td>\n",
       "      <td>Consumer</td>\n",
       "    </tr>\n",
       "    <tr>\n",
       "      <th>4</th>\n",
       "      <td>Bill Gates</td>\n",
       "      <td>136.00</td>\n",
       "      <td>UnitedStates</td>\n",
       "      <td>Technology</td>\n",
       "    </tr>\n",
       "    <tr>\n",
       "      <th>5</th>\n",
       "      <td>Larry Page</td>\n",
       "      <td>131.00</td>\n",
       "      <td>UnitedStates</td>\n",
       "      <td>Technology</td>\n",
       "    </tr>\n",
       "    <tr>\n",
       "      <th>...</th>\n",
       "      <td>...</td>\n",
       "      <td>...</td>\n",
       "      <td>...</td>\n",
       "      <td>...</td>\n",
       "    </tr>\n",
       "    <tr>\n",
       "      <th>496</th>\n",
       "      <td>Barry Diller</td>\n",
       "      <td>5.92</td>\n",
       "      <td>UnitedStates</td>\n",
       "      <td>Technology</td>\n",
       "    </tr>\n",
       "    <tr>\n",
       "      <th>497</th>\n",
       "      <td>Cliff Obrecht</td>\n",
       "      <td>5.89</td>\n",
       "      <td>Australia</td>\n",
       "      <td>Services</td>\n",
       "    </tr>\n",
       "    <tr>\n",
       "      <th>498</th>\n",
       "      <td>Melanie Perkins</td>\n",
       "      <td>5.89</td>\n",
       "      <td>Australia</td>\n",
       "      <td>Services</td>\n",
       "    </tr>\n",
       "    <tr>\n",
       "      <th>499</th>\n",
       "      <td>Trevor Rees-Jones</td>\n",
       "      <td>5.89</td>\n",
       "      <td>UnitedStates</td>\n",
       "      <td>Energy</td>\n",
       "    </tr>\n",
       "    <tr>\n",
       "      <th>500</th>\n",
       "      <td>Frits Goldschmeding</td>\n",
       "      <td>5.88</td>\n",
       "      <td>Netherlands</td>\n",
       "      <td>Retail</td>\n",
       "    </tr>\n",
       "  </tbody>\n",
       "</table>\n",
       "<p>500 rows × 4 columns</p>\n",
       "</div>"
      ],
      "text/plain": [
       "                      Name  Total_Net_Worth       Country    Industry\n",
       "Rank                                                                 \n",
       "1               Elon Musk            311.00  UnitedStates  Technology\n",
       "2              Jeff Bezos            195.00  UnitedStates  Technology\n",
       "3         Bernard Arnault            167.00        France    Consumer\n",
       "4              Bill Gates            136.00  UnitedStates  Technology\n",
       "5              Larry Page            131.00  UnitedStates  Technology\n",
       "...                    ...              ...           ...         ...\n",
       "496          Barry Diller              5.92  UnitedStates  Technology\n",
       "497         Cliff Obrecht              5.89     Australia    Services\n",
       "498       Melanie Perkins              5.89     Australia    Services\n",
       "499     Trevor Rees-Jones              5.89  UnitedStates      Energy\n",
       "500   Frits Goldschmeding              5.88   Netherlands      Retail\n",
       "\n",
       "[500 rows x 4 columns]"
      ]
     },
     "execution_count": 55,
     "metadata": {},
     "output_type": "execute_result"
    }
   ],
   "source": [
    "df"
   ]
  },
  {
   "cell_type": "code",
   "execution_count": 56,
   "id": "26ada423",
   "metadata": {},
   "outputs": [
    {
     "data": {
      "text/plain": [
       "Text(0.5, 1.0, 'Billionaires data_set')"
      ]
     },
     "execution_count": 56,
     "metadata": {},
     "output_type": "execute_result"
    },
    {
     "data": {
      "image/png": "[encoded data removed]",
      "text/plain": [
       "<Figure size 432x288 with 1 Axes>"
      ]
     },
     "metadata": {
      "needs_background": "light"
     },
     "output_type": "display_data"
    }
   ],
   "source": [
    "#sns.heatmap(data=df)\n",
    "sns.lineplot(data=df)\n",
    "#sns.boxplot(data=df)\n",
    "\n",
    "plt.title(\"Billionaires data_set\")"
   ]
  },
  {
   "cell_type": "code",
   "execution_count": 57,
   "id": "ba509aad",
   "metadata": {},
   "outputs": [
    {
     "data": {
      "text/plain": [
       "Text(0.5, 0, 'Rank')"
      ]
     },
     "execution_count": 57,
     "metadata": {},
     "output_type": "execute_result"
    },
    {
     "data": {
      "image/png": "[encoded data removed]",
      "text/plain": [
       "<Figure size 432x288 with 1 Axes>"
      ]
     },
     "metadata": {
      "needs_background": "light"
     },
     "output_type": "display_data"
    }
   ],
   "source": [
    "sns.lineplot(data=df['Country'].head(5),label='Country')\n",
    "sns.lineplot(data=df['Industry'].head(5),label='Industry')\n",
    "plt.xlabel('Rank')\n",
    "\n"
   ]
  },
  {
   "cell_type": "code",
   "execution_count": 58,
   "id": "571bca30",
   "metadata": {},
   "outputs": [
    {
     "data": {
      "text/plain": [
       "Text(0.5, 0, ' Total_Net_Worth (in Billions)')"
      ]
     },
     "execution_count": 58,
     "metadata": {},
     "output_type": "execute_result"
    },
    {
     "data": {
      "image/png": "[encoded data removed]",
      "text/plain": [
       "<Figure size 432x288 with 1 Axes>"
      ]
     },
     "metadata": {
      "needs_background": "light"
     },
     "output_type": "display_data"
    }
   ],
   "source": [
    "sns.barplot(x=df.Total_Net_Worth,y=df['Industry'])\n",
    "plt.xlabel(\" Total_Net_Worth (in Billions)\")"
   ]
  },
  {
   "cell_type": "code",
   "execution_count": 69,
   "id": "88931863",
   "metadata": {},
   "outputs": [
    {
     "data": {
      "text/html": [
       "<div>\n",
       "<style scoped>\n",
       "    .dataframe tbody tr th:only-of-type {\n",
       "        vertical-align: middle;\n",
       "    }\n",
       "\n",
       "    .dataframe tbody tr th {\n",
       "        vertical-align: top;\n",
       "    }\n",
       "\n",
       "    .dataframe thead th {\n",
       "        text-align: right;\n",
       "    }\n",
       "</style>\n",
       "<table border=\"1\" class=\"dataframe\">\n",
       "  <thead>\n",
       "    <tr style=\"text-align: right;\">\n",
       "      <th></th>\n",
       "      <th>Name</th>\n",
       "    </tr>\n",
       "    <tr>\n",
       "      <th>Industry</th>\n",
       "      <th></th>\n",
       "    </tr>\n",
       "  </thead>\n",
       "  <tbody>\n",
       "    <tr>\n",
       "      <th>Media&amp;Telecom</th>\n",
       "      <td>1</td>\n",
       "    </tr>\n",
       "    <tr>\n",
       "      <th>Commodities</th>\n",
       "      <td>18</td>\n",
       "    </tr>\n",
       "    <tr>\n",
       "      <th>Consumer</th>\n",
       "      <td>39</td>\n",
       "    </tr>\n",
       "    <tr>\n",
       "      <th>Diversified</th>\n",
       "      <td>45</td>\n",
       "    </tr>\n",
       "    <tr>\n",
       "      <th>Energy</th>\n",
       "      <td>27</td>\n",
       "    </tr>\n",
       "    <tr>\n",
       "      <th>Entertainment</th>\n",
       "      <td>10</td>\n",
       "    </tr>\n",
       "    <tr>\n",
       "      <th>Finance</th>\n",
       "      <td>55</td>\n",
       "    </tr>\n",
       "    <tr>\n",
       "      <th>Food&amp;Beverage</th>\n",
       "      <td>30</td>\n",
       "    </tr>\n",
       "    <tr>\n",
       "      <th>Health Care</th>\n",
       "      <td>30</td>\n",
       "    </tr>\n",
       "    <tr>\n",
       "      <th>Industrial</th>\n",
       "      <td>57</td>\n",
       "    </tr>\n",
       "    <tr>\n",
       "      <th>Islands</th>\n",
       "      <td>1</td>\n",
       "    </tr>\n",
       "    <tr>\n",
       "      <th>Media&amp;Telecom</th>\n",
       "      <td>22</td>\n",
       "    </tr>\n",
       "    <tr>\n",
       "      <th>Real Estate</th>\n",
       "      <td>33</td>\n",
       "    </tr>\n",
       "    <tr>\n",
       "      <th>Retail</th>\n",
       "      <td>32</td>\n",
       "    </tr>\n",
       "    <tr>\n",
       "      <th>Services</th>\n",
       "      <td>13</td>\n",
       "    </tr>\n",
       "    <tr>\n",
       "      <th>Technology</th>\n",
       "      <td>87</td>\n",
       "    </tr>\n",
       "  </tbody>\n",
       "</table>\n",
       "</div>"
      ],
      "text/plain": [
       "                Name\n",
       "Industry            \n",
       " Media&Telecom     1\n",
       "Commodities       18\n",
       "Consumer          39\n",
       "Diversified       45\n",
       "Energy            27\n",
       "Entertainment     10\n",
       "Finance           55\n",
       "Food&Beverage     30\n",
       "Health Care       30\n",
       "Industrial        57\n",
       "Islands            1\n",
       "Media&Telecom     22\n",
       "Real Estate       33\n",
       "Retail            32\n",
       "Services          13\n",
       "Technology        87"
      ]
     },
     "execution_count": 69,
     "metadata": {},
     "output_type": "execute_result"
    }
   ],
   "source": [
    "# referred Pivot Table for Billionaires per Industries\n",
    "tab_ind = pd.pivot_table(df, index='Industry', values='Name', aggfunc=np.size)\n",
    "tab_ind"
   ]
  },
  {
   "cell_type": "code",
   "execution_count": 59,
   "id": "ee3e3dc6",
   "metadata": {},
   "outputs": [
    {
     "data": {
      "text/plain": [
       "<AxesSubplot:xlabel='Industry', ylabel='Name'>"
      ]
     },
     "execution_count": 59,
     "metadata": {},
     "output_type": "execute_result"
    },
    {
     "data": {
      "image/png": "[encoded data removed]",
      "text/plain": [
       "<Figure size 432x288 with 1 Axes>"
      ]
     },
     "metadata": {
      "needs_background": "light"
     },
     "output_type": "display_data"
    }
   ],
   "source": [
    "sns.scatterplot(x=df['Industry'],y=df['Name'].head())"
   ]
  },
  {
   "cell_type": "code",
   "execution_count": 68,
   "id": "14b5b4d0",
   "metadata": {},
   "outputs": [
    {
     "data": {
      "text/plain": [
       "Text(0.5, 1.0, ' Distribution of Billionaires Across Various Industries')"
      ]
     },
     "execution_count": 68,
     "metadata": {},
     "output_type": "execute_result"
    },
    {
     "data": {
      "image/png": "[encoded data removed]",
      "text/plain": [
       "<Figure size 1800x792 with 1 Axes>"
      ]
     },
     "metadata": {
      "needs_background": "light"
     },
     "output_type": "display_data"
    }
   ],
   "source": [
    "#refereed\n",
    "# Distribution of Billionaires Across Various Industries\n",
    "plt.figure(figsize=(25, 11))\n",
    "sns.set_style(\"darkgrid\")\n",
    "sns.countplot(x = df[\"Industry\"])\n",
    "plt.title(\" Distribution of Billionaires Across Various Industries\")"
   ]
  },
  {
   "cell_type": "code",
   "execution_count": 60,
   "id": "95a06913",
   "metadata": {},
   "outputs": [
    {
     "data": {
      "text/plain": [
       "<AxesSubplot:xlabel='Industry', ylabel='Name'>"
      ]
     },
     "execution_count": 60,
     "metadata": {},
     "output_type": "execute_result"
    },
    {
     "data": {
      "image/png": "[encoded data removed]",
      "text/plain": [
       "<Figure size 432x288 with 1 Axes>"
      ]
     },
     "metadata": {
      "needs_background": "light"
     },
     "output_type": "display_data"
    }
   ],
   "source": [
    "sns.scatterplot(x=df['Industry'],y=df['Name'].head(),hue=df['Total_Net_Worth'])"
   ]
  },
  {
   "cell_type": "code",
   "execution_count": 61,
   "id": "31ca3a6a",
   "metadata": {},
   "outputs": [
    {
     "data": {
      "text/plain": [
       "<AxesSubplot:xlabel='Industry', ylabel='Country'>"
      ]
     },
     "execution_count": 61,
     "metadata": {},
     "output_type": "execute_result"
    },
    {
     "data": {
      "image/png": "[encoded data removed]",
      "text/plain": [
       "<Figure size 432x288 with 1 Axes>"
      ]
     },
     "metadata": {
      "needs_background": "light"
     },
     "output_type": "display_data"
    }
   ],
   "source": [
    "sns.swarmplot(x=df['Industry'].head(20),y=df['Country'].head(20))#categorical scatter plot to plot the categorical values"
   ]
  },
  {
   "cell_type": "code",
   "execution_count": 67,
   "id": "37bac671",
   "metadata": {},
   "outputs": [
    {
     "data": {
      "text/plain": [
       "Text(0, 0.5, 'Capital (in $B)')"
      ]
     },
     "execution_count": 67,
     "metadata": {},
     "output_type": "execute_result"
    },
    {
     "data": {
      "image/png": "[encoded data removed]",
      "text/plain": [
       "<Figure size 1152x720 with 1 Axes>"
      ]
     },
     "metadata": {
      "needs_background": "light"
     },
     "output_type": "display_data"
    }
   ],
   "source": [
    "#referred Lastly, a plot showing the amount of Capital of each Industry per Country.\n",
    "country_per_industry = pd.DataFrame()\n",
    "country_per_industry['UnitedStates'] = df[df['Country'] == 'UnitedStates'].groupby(['Industry']).sum().Total_Net_Worth\n",
    "country_per_industry['China'] = df[df['Country'] == 'China'].groupby(['Industry']).sum().Total_Net_Worth\n",
    "country_per_industry['France'] = df[df['Country'] == 'France'].groupby(['Industry']).sum().Total_Net_Worth\n",
    "country_per_industry['India'] = df[df['Country'] == 'India'].groupby(['Industry']).sum().Total_Net_Worth\n",
    "country_per_industry['RussianFederation'] = df[df['Country'] == 'RussianFederation'].groupby(['Industry']).sum().Total_Net_Worth\n",
    "country_per_industry.plot(kind='bar', figsize=(16, 10))\n",
    "plt.xticks(rotation=60)\n",
    "plt.ylabel('Capital (in $B)')"
   ]
  },
  {
   "cell_type": "markdown",
   "id": "262299e3",
   "metadata": {},
   "source": [
    "# FROM REFERENCES\n",
    "--------------to remove the alphabets from the total_net_worth column \n",
    "def cust_fun(txt):\n",
    "    x = re.findall(r\"[-+]?\\d*\\.\\d+|\\d+\", txt)\n",
    "    if 'B' in txt:\n",
    "        x=(float(x[0])*100)\n",
    "        \n",
    "    return x\n",
    "data['Total_Net_Worth']=data['Total_Net_Worth'].apply(cust_fun)\n",
    "data['LastChange']=data['LastChange'].apply(cust_fun)\n",
    "data['YTDChange']=data['YTDChange'].apply(cust_fun)\n",
    "------------------------- couldn't understand : https://www.kaggle.com/code/vshishido/case-study-billionaires-index"
   ]
  }
 ],
 "metadata": {
  "kernelspec": {
   "display_name": "Python 3 (ipykernel)",
   "language": "python",
   "name": "python3"
  },
  "language_info": {
   "codemirror_mode": {
    "name": "ipython",
    "version": 3
   },
   "file_extension": ".py",
   "mimetype": "text/x-python",
   "name": "python",
   "nbconvert_exporter": "python",
   "pygments_lexer": "ipython3",
   "version": "3.9.7"
  }
 },
 "nbformat": 4,
 "nbformat_minor": 5
}
