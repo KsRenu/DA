{
 "cells": [
  {
   "cell_type": "markdown",
   "id": "3ad3b7cf",
   "metadata": {},
   "source": [
    "# BILLIONAIRES EXPLORATORY DATA ANALYSIS\n",
    "Deriving possible insights from the dataset"
   ]
  },
  {
   "cell_type": "markdown",
   "id": "088a8a7b",
   "metadata": {},
   "source": [
    "### Steps to follow : \n",
    "                   -Select a large real world dataset from kaggle\n",
    "                   -Perform data preparation and cleaning using pandas and numpy\n",
    "                   -Perform exploratory analysis and visualization using matplotlib and seaborn\n",
    "                   -Ask and answer questions about the data in a jupyter notebook\n",
    "                   -Summarize your interference and write a conclusion\n",
    "                   -Document , publish and present and your jupyter notebook online\n",
    "\n"
   ]
  },
  {
   "cell_type": "markdown",
   "id": "48b7dffa",
   "metadata": {},
   "source": [
    "### Select a large real world dataset from kaggle"
   ]
  },
  {
   "cell_type": "code",
   "execution_count": 1,
   "id": "d30dd800",
   "metadata": {},
   "outputs": [
    {
     "name": "stdout",
     "output_type": "stream",
     "text": [
      "Note: you may need to restart the kernel to use updated packages.\n"
     ]
    }
   ],
   "source": [
    "#pip install opendatasets --upgrade --quiet"
   ]
  },
  {
   "cell_type": "code",
   "execution_count": 2,
   "id": "b44be4d6",
   "metadata": {},
   "outputs": [
    {
     "name": "stdout",
     "output_type": "stream",
     "text": [
      "Please provide your Kaggle credentials to download this dataset. Learn more: http://bit.ly/kaggle-creds\n",
      "Your Kaggle username: ksrenu\n",
      "Your Kaggle Key: ········\n",
      "Downloading forbes-billionaire-2020.zip to .\\forbes-billionaire-2020\n"
     ]
    },
    {
     "name": "stderr",
     "output_type": "stream",
     "text": [
      "100%|██████████| 52.4k/52.4k [00:00<00:00, 1.92MB/s]"
     ]
    },
    {
     "name": "stdout",
     "output_type": "stream",
     "text": [
      "\n"
     ]
    },
    {
     "name": "stderr",
     "output_type": "stream",
     "text": [
      "\n"
     ]
    }
   ],
   "source": [
    "import opendatasets as od\n",
    "\n",
    "download_url = 'https://www.kaggle.com/eptehalnashnoush/forbes-billionaire-2020'\n",
    "\n",
    "od.download(download_url)"
   ]
  },
  {
   "cell_type": "code",
   "execution_count": 90,
   "id": "f8c63153",
   "metadata": {},
   "outputs": [
    {
     "name": "stdout",
     "output_type": "stream",
     "text": [
      "Note: you may need to restart the kernel to use updated packages.\n"
     ]
    }
   ],
   "source": [
    "#pip install seaborn --upgrade --quiet"
   ]
  },
  {
   "cell_type": "markdown",
   "id": "47c23c83",
   "metadata": {},
   "source": [
    "### Perform data preparation and cleaning using pandas and numpy"
   ]
  },
  {
   "cell_type": "code",
   "execution_count": 3,
   "id": "b404b09e",
   "metadata": {},
   "outputs": [
    {
     "data": {
      "text/html": [
       "<div>\n",
       "<style scoped>\n",
       "    .dataframe tbody tr th:only-of-type {\n",
       "        vertical-align: middle;\n",
       "    }\n",
       "\n",
       "    .dataframe tbody tr th {\n",
       "        vertical-align: top;\n",
       "    }\n",
       "\n",
       "    .dataframe thead th {\n",
       "        text-align: right;\n",
       "    }\n",
       "</style>\n",
       "<table border=\"1\" class=\"dataframe\">\n",
       "  <thead>\n",
       "    <tr style=\"text-align: right;\">\n",
       "      <th></th>\n",
       "      <th>Name</th>\n",
       "      <th>NetWorth in billions</th>\n",
       "      <th>Country</th>\n",
       "      <th>Source</th>\n",
       "      <th>Rank</th>\n",
       "      <th>Age</th>\n",
       "      <th>Industry</th>\n",
       "    </tr>\n",
       "  </thead>\n",
       "  <tbody>\n",
       "    <tr>\n",
       "      <th>0</th>\n",
       "      <td>Jeff Bezos</td>\n",
       "      <td>177.0</td>\n",
       "      <td>United States</td>\n",
       "      <td>Amazon</td>\n",
       "      <td>1</td>\n",
       "      <td>57</td>\n",
       "      <td>Technology</td>\n",
       "    </tr>\n",
       "    <tr>\n",
       "      <th>1</th>\n",
       "      <td>Elon Musk</td>\n",
       "      <td>151.0</td>\n",
       "      <td>United States</td>\n",
       "      <td>Tesla, SpaceX</td>\n",
       "      <td>2</td>\n",
       "      <td>49</td>\n",
       "      <td>Automotive</td>\n",
       "    </tr>\n",
       "    <tr>\n",
       "      <th>2</th>\n",
       "      <td>Bernard Arnault &amp; family</td>\n",
       "      <td>150.0</td>\n",
       "      <td>France</td>\n",
       "      <td>LVMH</td>\n",
       "      <td>3</td>\n",
       "      <td>72</td>\n",
       "      <td>Fashion &amp; Retail</td>\n",
       "    </tr>\n",
       "    <tr>\n",
       "      <th>3</th>\n",
       "      <td>Bill Gates</td>\n",
       "      <td>124.0</td>\n",
       "      <td>United States</td>\n",
       "      <td>Microsoft</td>\n",
       "      <td>4</td>\n",
       "      <td>65</td>\n",
       "      <td>Technology</td>\n",
       "    </tr>\n",
       "    <tr>\n",
       "      <th>4</th>\n",
       "      <td>Mark Zuckerberg</td>\n",
       "      <td>97.0</td>\n",
       "      <td>United States</td>\n",
       "      <td>Facebook</td>\n",
       "      <td>5</td>\n",
       "      <td>36</td>\n",
       "      <td>Technology</td>\n",
       "    </tr>\n",
       "    <tr>\n",
       "      <th>...</th>\n",
       "      <td>...</td>\n",
       "      <td>...</td>\n",
       "      <td>...</td>\n",
       "      <td>...</td>\n",
       "      <td>...</td>\n",
       "      <td>...</td>\n",
       "      <td>...</td>\n",
       "    </tr>\n",
       "    <tr>\n",
       "      <th>2750</th>\n",
       "      <td>Daniel Yong Zhang</td>\n",
       "      <td>1.0</td>\n",
       "      <td>China</td>\n",
       "      <td>e-commerce</td>\n",
       "      <td>2674</td>\n",
       "      <td>49</td>\n",
       "      <td>Technology</td>\n",
       "    </tr>\n",
       "    <tr>\n",
       "      <th>2751</th>\n",
       "      <td>Zhang Yuqiang</td>\n",
       "      <td>1.0</td>\n",
       "      <td>China</td>\n",
       "      <td>Fiberglass</td>\n",
       "      <td>2674</td>\n",
       "      <td>65</td>\n",
       "      <td>Manufacturing</td>\n",
       "    </tr>\n",
       "    <tr>\n",
       "      <th>2752</th>\n",
       "      <td>Zhao Meiguang</td>\n",
       "      <td>1.0</td>\n",
       "      <td>China</td>\n",
       "      <td>gold mining</td>\n",
       "      <td>2674</td>\n",
       "      <td>58</td>\n",
       "      <td>Metals &amp; Mining</td>\n",
       "    </tr>\n",
       "    <tr>\n",
       "      <th>2753</th>\n",
       "      <td>Zhong Naixiong</td>\n",
       "      <td>1.0</td>\n",
       "      <td>China</td>\n",
       "      <td>conglomerate</td>\n",
       "      <td>2674</td>\n",
       "      <td>58</td>\n",
       "      <td>Diversified</td>\n",
       "    </tr>\n",
       "    <tr>\n",
       "      <th>2754</th>\n",
       "      <td>Zhou Wei family</td>\n",
       "      <td>1.0</td>\n",
       "      <td>China</td>\n",
       "      <td>Software</td>\n",
       "      <td>2674</td>\n",
       "      <td>54</td>\n",
       "      <td>Technology</td>\n",
       "    </tr>\n",
       "  </tbody>\n",
       "</table>\n",
       "<p>2755 rows × 7 columns</p>\n",
       "</div>"
      ],
      "text/plain": [
       "                          Name  NetWorth in billions        Country  \\\n",
       "0                   Jeff Bezos                 177.0  United States   \n",
       "1                    Elon Musk                 151.0  United States   \n",
       "2     Bernard Arnault & family                 150.0         France   \n",
       "3                   Bill Gates                 124.0  United States   \n",
       "4              Mark Zuckerberg                  97.0  United States   \n",
       "...                        ...                   ...            ...   \n",
       "2750         Daniel Yong Zhang                   1.0          China   \n",
       "2751             Zhang Yuqiang                   1.0          China   \n",
       "2752             Zhao Meiguang                   1.0          China   \n",
       "2753            Zhong Naixiong                   1.0          China   \n",
       "2754           Zhou Wei family                   1.0          China   \n",
       "\n",
       "             Source  Rank  Age          Industry  \n",
       "0            Amazon     1   57        Technology  \n",
       "1     Tesla, SpaceX     2   49        Automotive  \n",
       "2              LVMH     3   72  Fashion & Retail  \n",
       "3         Microsoft     4   65        Technology  \n",
       "4          Facebook     5   36        Technology  \n",
       "...             ...   ...  ...               ...  \n",
       "2750     e-commerce  2674   49        Technology  \n",
       "2751     Fiberglass  2674   65     Manufacturing  \n",
       "2752    gold mining  2674   58   Metals & Mining  \n",
       "2753   conglomerate  2674   58       Diversified  \n",
       "2754       Software  2674   54        Technology  \n",
       "\n",
       "[2755 rows x 7 columns]"
      ]
     },
     "execution_count": 3,
     "metadata": {},
     "output_type": "execute_result"
    }
   ],
   "source": [
    "import pandas as pd\n",
    "df=pd.read_csv('forbes-billionaire-2020\\\\Forbes Billionaire 2020.csv')\n",
    "df"
   ]
  },
  {
   "cell_type": "code",
   "execution_count": 162,
   "id": "348298f5",
   "metadata": {},
   "outputs": [],
   "source": [
    "import matplotlib.pyplot as plt\n",
    "import seaborn as sns\n",
    "import numpy as np"
   ]
  },
  {
   "cell_type": "code",
   "execution_count": 4,
   "id": "43f839e4",
   "metadata": {},
   "outputs": [
    {
     "data": {
      "text/plain": [
       "(2755, 7)"
      ]
     },
     "execution_count": 4,
     "metadata": {},
     "output_type": "execute_result"
    }
   ],
   "source": [
    "#to know no.of.columns and rows\n",
    "df.shape"
   ]
  },
  {
   "cell_type": "code",
   "execution_count": 5,
   "id": "73961b12",
   "metadata": {},
   "outputs": [
    {
     "data": {
      "text/plain": [
       "7"
      ]
     },
     "execution_count": 5,
     "metadata": {},
     "output_type": "execute_result"
    }
   ],
   "source": [
    "len(df.columns)"
   ]
  },
  {
   "cell_type": "code",
   "execution_count": 6,
   "id": "d558e148",
   "metadata": {},
   "outputs": [
    {
     "data": {
      "text/plain": [
       "2755"
      ]
     },
     "execution_count": 6,
     "metadata": {},
     "output_type": "execute_result"
    }
   ],
   "source": [
    "len(df)"
   ]
  },
  {
   "cell_type": "code",
   "execution_count": 7,
   "id": "9771e01c",
   "metadata": {},
   "outputs": [
    {
     "name": "stdout",
     "output_type": "stream",
     "text": [
      "<class 'pandas.core.frame.DataFrame'>\n",
      "RangeIndex: 2755 entries, 0 to 2754\n",
      "Data columns (total 7 columns):\n",
      " #   Column                Non-Null Count  Dtype  \n",
      "---  ------                --------------  -----  \n",
      " 0   Name                  2755 non-null   object \n",
      " 1   NetWorth in billions  2755 non-null   float64\n",
      " 2   Country               2755 non-null   object \n",
      " 3   Source                2755 non-null   object \n",
      " 4   Rank                  2755 non-null   int64  \n",
      " 5   Age                   2755 non-null   int64  \n",
      " 6   Industry              2755 non-null   object \n",
      "dtypes: float64(1), int64(2), object(4)\n",
      "memory usage: 150.8+ KB\n"
     ]
    }
   ],
   "source": [
    "df.info() #it shows the dtype and no.of.non-null values"
   ]
  },
  {
   "cell_type": "code",
   "execution_count": 8,
   "id": "6472896f",
   "metadata": {},
   "outputs": [
    {
     "data": {
      "text/plain": [
       "Name                    0\n",
       "NetWorth in billions    0\n",
       "Country                 0\n",
       "Source                  0\n",
       "Rank                    0\n",
       "Age                     0\n",
       "Industry                0\n",
       "dtype: int64"
      ]
     },
     "execution_count": 8,
     "metadata": {},
     "output_type": "execute_result"
    }
   ],
   "source": [
    "#for conformation of no.of.null values\n",
    "df.isna().sum()"
   ]
  },
  {
   "cell_type": "code",
   "execution_count": 12,
   "id": "a80df8b5",
   "metadata": {},
   "outputs": [
    {
     "data": {
      "text/html": [
       "<div>\n",
       "<style scoped>\n",
       "    .dataframe tbody tr th:only-of-type {\n",
       "        vertical-align: middle;\n",
       "    }\n",
       "\n",
       "    .dataframe tbody tr th {\n",
       "        vertical-align: top;\n",
       "    }\n",
       "\n",
       "    .dataframe thead th {\n",
       "        text-align: right;\n",
       "    }\n",
       "</style>\n",
       "<table border=\"1\" class=\"dataframe\">\n",
       "  <thead>\n",
       "    <tr style=\"text-align: right;\">\n",
       "      <th></th>\n",
       "      <th>Name</th>\n",
       "      <th>NetWorth in billions</th>\n",
       "      <th>Country</th>\n",
       "      <th>Source</th>\n",
       "      <th>Rank</th>\n",
       "      <th>Age</th>\n",
       "      <th>Industry</th>\n",
       "    </tr>\n",
       "  </thead>\n",
       "  <tbody>\n",
       "    <tr>\n",
       "      <th>count</th>\n",
       "      <td>2755</td>\n",
       "      <td>2755.000000</td>\n",
       "      <td>2755</td>\n",
       "      <td>2755</td>\n",
       "      <td>2755.000000</td>\n",
       "      <td>2755.000000</td>\n",
       "      <td>2755</td>\n",
       "    </tr>\n",
       "    <tr>\n",
       "      <th>unique</th>\n",
       "      <td>2752</td>\n",
       "      <td>NaN</td>\n",
       "      <td>70</td>\n",
       "      <td>924</td>\n",
       "      <td>NaN</td>\n",
       "      <td>NaN</td>\n",
       "      <td>18</td>\n",
       "    </tr>\n",
       "    <tr>\n",
       "      <th>top</th>\n",
       "      <td>Robert Miller</td>\n",
       "      <td>NaN</td>\n",
       "      <td>United States</td>\n",
       "      <td>real estate</td>\n",
       "      <td>NaN</td>\n",
       "      <td>NaN</td>\n",
       "      <td>Finance &amp; Investments</td>\n",
       "    </tr>\n",
       "    <tr>\n",
       "      <th>freq</th>\n",
       "      <td>2</td>\n",
       "      <td>NaN</td>\n",
       "      <td>724</td>\n",
       "      <td>171</td>\n",
       "      <td>NaN</td>\n",
       "      <td>NaN</td>\n",
       "      <td>371</td>\n",
       "    </tr>\n",
       "    <tr>\n",
       "      <th>mean</th>\n",
       "      <td>NaN</td>\n",
       "      <td>4.749220</td>\n",
       "      <td>NaN</td>\n",
       "      <td>NaN</td>\n",
       "      <td>1345.663521</td>\n",
       "      <td>63.014519</td>\n",
       "      <td>NaN</td>\n",
       "    </tr>\n",
       "    <tr>\n",
       "      <th>std</th>\n",
       "      <td>NaN</td>\n",
       "      <td>9.615358</td>\n",
       "      <td>NaN</td>\n",
       "      <td>NaN</td>\n",
       "      <td>772.669811</td>\n",
       "      <td>13.259017</td>\n",
       "      <td>NaN</td>\n",
       "    </tr>\n",
       "    <tr>\n",
       "      <th>min</th>\n",
       "      <td>NaN</td>\n",
       "      <td>1.000000</td>\n",
       "      <td>NaN</td>\n",
       "      <td>NaN</td>\n",
       "      <td>1.000000</td>\n",
       "      <td>18.000000</td>\n",
       "      <td>NaN</td>\n",
       "    </tr>\n",
       "    <tr>\n",
       "      <th>25%</th>\n",
       "      <td>NaN</td>\n",
       "      <td>1.500000</td>\n",
       "      <td>NaN</td>\n",
       "      <td>NaN</td>\n",
       "      <td>680.000000</td>\n",
       "      <td>54.000000</td>\n",
       "      <td>NaN</td>\n",
       "    </tr>\n",
       "    <tr>\n",
       "      <th>50%</th>\n",
       "      <td>NaN</td>\n",
       "      <td>2.300000</td>\n",
       "      <td>NaN</td>\n",
       "      <td>NaN</td>\n",
       "      <td>1362.000000</td>\n",
       "      <td>62.000000</td>\n",
       "      <td>NaN</td>\n",
       "    </tr>\n",
       "    <tr>\n",
       "      <th>75%</th>\n",
       "      <td>NaN</td>\n",
       "      <td>4.200000</td>\n",
       "      <td>NaN</td>\n",
       "      <td>NaN</td>\n",
       "      <td>2035.000000</td>\n",
       "      <td>72.000000</td>\n",
       "      <td>NaN</td>\n",
       "    </tr>\n",
       "    <tr>\n",
       "      <th>max</th>\n",
       "      <td>NaN</td>\n",
       "      <td>177.000000</td>\n",
       "      <td>NaN</td>\n",
       "      <td>NaN</td>\n",
       "      <td>2674.000000</td>\n",
       "      <td>97.000000</td>\n",
       "      <td>NaN</td>\n",
       "    </tr>\n",
       "  </tbody>\n",
       "</table>\n",
       "</div>"
      ],
      "text/plain": [
       "                 Name  NetWorth in billions        Country       Source  \\\n",
       "count            2755           2755.000000           2755         2755   \n",
       "unique           2752                   NaN             70          924   \n",
       "top     Robert Miller                   NaN  United States  real estate   \n",
       "freq                2                   NaN            724          171   \n",
       "mean              NaN              4.749220            NaN          NaN   \n",
       "std               NaN              9.615358            NaN          NaN   \n",
       "min               NaN              1.000000            NaN          NaN   \n",
       "25%               NaN              1.500000            NaN          NaN   \n",
       "50%               NaN              2.300000            NaN          NaN   \n",
       "75%               NaN              4.200000            NaN          NaN   \n",
       "max               NaN            177.000000            NaN          NaN   \n",
       "\n",
       "               Rank          Age               Industry  \n",
       "count   2755.000000  2755.000000                   2755  \n",
       "unique          NaN          NaN                     18  \n",
       "top             NaN          NaN  Finance & Investments  \n",
       "freq            NaN          NaN                    371  \n",
       "mean    1345.663521    63.014519                    NaN  \n",
       "std      772.669811    13.259017                    NaN  \n",
       "min        1.000000    18.000000                    NaN  \n",
       "25%      680.000000    54.000000                    NaN  \n",
       "50%     1362.000000    62.000000                    NaN  \n",
       "75%     2035.000000    72.000000                    NaN  \n",
       "max     2674.000000    97.000000                    NaN  "
      ]
     },
     "execution_count": 12,
     "metadata": {},
     "output_type": "execute_result"
    }
   ],
   "source": [
    "#to get the statistical insight\n",
    "df.describe(include=['object','int64','float64'])"
   ]
  },
  {
   "cell_type": "code",
   "execution_count": 14,
   "id": "b807c18a",
   "metadata": {},
   "outputs": [
    {
     "data": {
      "text/plain": [
       "3"
      ]
     },
     "execution_count": 14,
     "metadata": {},
     "output_type": "execute_result"
    }
   ],
   "source": [
    "#to know no.of.numeric columns\n",
    "numerics = ['int16', 'int32', 'int64', 'float16', 'float32', 'float64']\n",
    "\n",
    "numeric_df = df.select_dtypes(include=numerics)\n",
    "len(numeric_df.columns)"
   ]
  },
  {
   "cell_type": "markdown",
   "id": "d09e1e4f",
   "metadata": {},
   "source": [
    "Remove any columns if there is no use of it."
   ]
  },
  {
   "cell_type": "markdown",
   "id": "c35a1417",
   "metadata": {},
   "source": [
    "### Exploratory Analysis and Visualization"
   ]
  },
  {
   "cell_type": "markdown",
   "id": "fbc5e723",
   "metadata": {},
   "source": [
    "###### Columns we'll analyze:\n",
    "                 1.Name\n",
    "                 2.NetWorth in billions\n",
    "                 3.Country\n",
    "                 4.Source\n",
    "                 5.Rank\n",
    "                 6.Age\n",
    "                 7.Industry"
   ]
  },
  {
   "cell_type": "code",
   "execution_count": 13,
   "id": "09fdd7cb",
   "metadata": {},
   "outputs": [
    {
     "data": {
      "text/plain": [
       "Index(['Name', 'NetWorth in billions', 'Country', 'Source', 'Rank', 'Age',\n",
       "       'Industry'],\n",
       "      dtype='object')"
      ]
     },
     "execution_count": 13,
     "metadata": {},
     "output_type": "execute_result"
    }
   ],
   "source": [
    "#to know the column names\n",
    "df.columns"
   ]
  },
  {
   "cell_type": "markdown",
   "id": "5247a6cc",
   "metadata": {},
   "source": [
    "### SINGLE COLUMN WISE ANALYSIS"
   ]
  },
  {
   "cell_type": "markdown",
   "id": "6fcc8f7c",
   "metadata": {},
   "source": [
    "##### Name"
   ]
  },
  {
   "cell_type": "code",
   "execution_count": 18,
   "id": "1546db22",
   "metadata": {},
   "outputs": [
    {
     "data": {
      "text/plain": [
       "0                  Jeff Bezos\n",
       "1                   Elon Musk\n",
       "2    Bernard Arnault & family\n",
       "3                  Bill Gates\n",
       "4             Mark Zuckerberg\n",
       "5              Warren Buffett\n",
       "6               Larry Ellison\n",
       "7                  Larry Page\n",
       "8                 Sergey Brin\n",
       "9               Mukesh Ambani\n",
       "Name: Name, dtype: object"
      ]
     },
     "execution_count": 18,
     "metadata": {},
     "output_type": "execute_result"
    }
   ],
   "source": [
    "# top 10 billiionaires are\n",
    "df['Name'].head(10)"
   ]
  },
  {
   "cell_type": "code",
   "execution_count": 19,
   "id": "29c7bd69",
   "metadata": {},
   "outputs": [
    {
     "data": {
      "text/plain": [
       "2745               Xu Jin\n",
       "2746        Vadim Yakunin\n",
       "2747    Mark Haoyong Yang\n",
       "2748       Yao Hsiao Tung\n",
       "2749           Yu De-Chao\n",
       "2750    Daniel Yong Zhang\n",
       "2751        Zhang Yuqiang\n",
       "2752        Zhao Meiguang\n",
       "2753       Zhong Naixiong\n",
       "2754      Zhou Wei family\n",
       "Name: Name, dtype: object"
      ]
     },
     "execution_count": 19,
     "metadata": {},
     "output_type": "execute_result"
    }
   ],
   "source": [
    "#last 10 billionaires from the dataset are\n",
    "df['Name'].tail(10)"
   ]
  },
  {
   "cell_type": "code",
   "execution_count": 24,
   "id": "f2a26359",
   "metadata": {},
   "outputs": [
    {
     "name": "stdout",
     "output_type": "stream",
     "text": [
      " No.of.billionaires with R as first letter of their name  :  151\n"
     ]
    },
    {
     "data": {
      "text/html": [
       "<div>\n",
       "<style scoped>\n",
       "    .dataframe tbody tr th:only-of-type {\n",
       "        vertical-align: middle;\n",
       "    }\n",
       "\n",
       "    .dataframe tbody tr th {\n",
       "        vertical-align: top;\n",
       "    }\n",
       "\n",
       "    .dataframe thead th {\n",
       "        text-align: right;\n",
       "    }\n",
       "</style>\n",
       "<table border=\"1\" class=\"dataframe\">\n",
       "  <thead>\n",
       "    <tr style=\"text-align: right;\">\n",
       "      <th></th>\n",
       "      <th>Name</th>\n",
       "      <th>NetWorth in billions</th>\n",
       "      <th>Country</th>\n",
       "      <th>Source</th>\n",
       "      <th>Rank</th>\n",
       "      <th>Age</th>\n",
       "      <th>Industry</th>\n",
       "    </tr>\n",
       "  </thead>\n",
       "  <tbody>\n",
       "    <tr>\n",
       "      <th>18</th>\n",
       "      <td>Rob Walton</td>\n",
       "      <td>59.5</td>\n",
       "      <td>United States</td>\n",
       "      <td>Walmart</td>\n",
       "      <td>19</td>\n",
       "      <td>76</td>\n",
       "      <td>Fashion &amp; Retail</td>\n",
       "    </tr>\n",
       "    <tr>\n",
       "      <th>51</th>\n",
       "      <td>Robin Zeng</td>\n",
       "      <td>28.4</td>\n",
       "      <td>Hong Kong</td>\n",
       "      <td>batteries</td>\n",
       "      <td>52</td>\n",
       "      <td>52</td>\n",
       "      <td>Energy</td>\n",
       "    </tr>\n",
       "    <tr>\n",
       "      <th>70</th>\n",
       "      <td>Rupert Murdoch &amp; family</td>\n",
       "      <td>23.5</td>\n",
       "      <td>United States</td>\n",
       "      <td>newspapers, TV network</td>\n",
       "      <td>71</td>\n",
       "      <td>90</td>\n",
       "      <td>Media &amp; Entertainment</td>\n",
       "    </tr>\n",
       "    <tr>\n",
       "      <th>76</th>\n",
       "      <td>Richard Qiangdong Liu</td>\n",
       "      <td>22.4</td>\n",
       "      <td>China</td>\n",
       "      <td>e-commerce</td>\n",
       "      <td>77</td>\n",
       "      <td>47</td>\n",
       "      <td>Technology</td>\n",
       "    </tr>\n",
       "    <tr>\n",
       "      <th>85</th>\n",
       "      <td>R. Budi Hartono</td>\n",
       "      <td>20.5</td>\n",
       "      <td>Indonesia</td>\n",
       "      <td>banking, tobacco</td>\n",
       "      <td>86</td>\n",
       "      <td>80</td>\n",
       "      <td>Finance &amp; Investments</td>\n",
       "    </tr>\n",
       "    <tr>\n",
       "      <th>...</th>\n",
       "      <td>...</td>\n",
       "      <td>...</td>\n",
       "      <td>...</td>\n",
       "      <td>...</td>\n",
       "      <td>...</td>\n",
       "      <td>...</td>\n",
       "      <td>...</td>\n",
       "    </tr>\n",
       "    <tr>\n",
       "      <th>2683</th>\n",
       "      <td>Ramesh Kumar Dua</td>\n",
       "      <td>1.0</td>\n",
       "      <td>India</td>\n",
       "      <td>footwear</td>\n",
       "      <td>2674</td>\n",
       "      <td>67</td>\n",
       "      <td>Fashion &amp; Retail</td>\n",
       "    </tr>\n",
       "    <tr>\n",
       "      <th>2691</th>\n",
       "      <td>Ronnen Harary</td>\n",
       "      <td>1.0</td>\n",
       "      <td>Canada</td>\n",
       "      <td>toys</td>\n",
       "      <td>2674</td>\n",
       "      <td>49</td>\n",
       "      <td>Manufacturing</td>\n",
       "    </tr>\n",
       "    <tr>\n",
       "      <th>2712</th>\n",
       "      <td>Rafique Malik</td>\n",
       "      <td>1.0</td>\n",
       "      <td>India</td>\n",
       "      <td>footwear</td>\n",
       "      <td>2674</td>\n",
       "      <td>70</td>\n",
       "      <td>Fashion &amp; Retail</td>\n",
       "    </tr>\n",
       "    <tr>\n",
       "      <th>2733</th>\n",
       "      <td>Rit Thirakomen</td>\n",
       "      <td>1.0</td>\n",
       "      <td>Thailand</td>\n",
       "      <td>restaurants</td>\n",
       "      <td>2674</td>\n",
       "      <td>69</td>\n",
       "      <td>Food &amp; Beverage</td>\n",
       "    </tr>\n",
       "    <tr>\n",
       "      <th>2737</th>\n",
       "      <td>Ruben Vardanyan</td>\n",
       "      <td>1.0</td>\n",
       "      <td>Russia</td>\n",
       "      <td>investment banking</td>\n",
       "      <td>2674</td>\n",
       "      <td>52</td>\n",
       "      <td>Finance &amp; Investments</td>\n",
       "    </tr>\n",
       "  </tbody>\n",
       "</table>\n",
       "<p>151 rows × 7 columns</p>\n",
       "</div>"
      ],
      "text/plain": [
       "                         Name  NetWorth in billions        Country  \\\n",
       "18                 Rob Walton                  59.5  United States   \n",
       "51                 Robin Zeng                  28.4      Hong Kong   \n",
       "70    Rupert Murdoch & family                  23.5  United States   \n",
       "76      Richard Qiangdong Liu                  22.4          China   \n",
       "85            R. Budi Hartono                  20.5      Indonesia   \n",
       "...                       ...                   ...            ...   \n",
       "2683         Ramesh Kumar Dua                   1.0          India   \n",
       "2691            Ronnen Harary                   1.0         Canada   \n",
       "2712            Rafique Malik                   1.0          India   \n",
       "2733           Rit Thirakomen                   1.0       Thailand   \n",
       "2737          Ruben Vardanyan                   1.0         Russia   \n",
       "\n",
       "                      Source  Rank  Age               Industry  \n",
       "18                   Walmart    19   76       Fashion & Retail  \n",
       "51                 batteries    52   52                 Energy  \n",
       "70    newspapers, TV network    71   90  Media & Entertainment  \n",
       "76                e-commerce    77   47             Technology  \n",
       "85          banking, tobacco    86   80  Finance & Investments  \n",
       "...                      ...   ...  ...                    ...  \n",
       "2683                footwear  2674   67       Fashion & Retail  \n",
       "2691                    toys  2674   49          Manufacturing  \n",
       "2712                footwear  2674   70       Fashion & Retail  \n",
       "2733             restaurants  2674   69        Food & Beverage  \n",
       "2737      investment banking  2674   52  Finance & Investments  \n",
       "\n",
       "[151 rows x 7 columns]"
      ]
     },
     "execution_count": 24,
     "metadata": {},
     "output_type": "execute_result"
    }
   ],
   "source": [
    "\n",
    "# String to be searched in start of string \n",
    "search =\"R\"\n",
    "  \n",
    "# boolean series returned with False at place of NaN\n",
    "bool_series = df[\"Name\"].str.startswith(search, na = False)\n",
    "  \n",
    "# displaying filtered dataframe\n",
    "print(\" No.of.billionaires with R as first letter of their name  : \",df[bool_series].shape[0])\n",
    "df[bool_series]"
   ]
  },
  {
   "cell_type": "markdown",
   "id": "a2b5d90d",
   "metadata": {},
   "source": [
    "##### NetWorth in billions"
   ]
  },
  {
   "cell_type": "code",
   "execution_count": 26,
   "id": "03ca1e7e",
   "metadata": {},
   "outputs": [
    {
     "data": {
      "text/plain": [
       "177.0"
      ]
     },
     "execution_count": 26,
     "metadata": {},
     "output_type": "execute_result"
    }
   ],
   "source": [
    "# top networth values\n",
    "df['NetWorth in billions'].max()"
   ]
  },
  {
   "cell_type": "code",
   "execution_count": 27,
   "id": "8917914a",
   "metadata": {},
   "outputs": [
    {
     "data": {
      "text/plain": [
       "1.0"
      ]
     },
     "execution_count": 27,
     "metadata": {},
     "output_type": "execute_result"
    }
   ],
   "source": [
    "#lowest networth value\n",
    "df['NetWorth in billions'].min()"
   ]
  },
  {
   "cell_type": "markdown",
   "id": "a577786d",
   "metadata": {},
   "source": [
    "##### Country"
   ]
  },
  {
   "cell_type": "code",
   "execution_count": 28,
   "id": "f91b1a41",
   "metadata": {},
   "outputs": [
    {
     "data": {
      "text/plain": [
       "70"
      ]
     },
     "execution_count": 28,
     "metadata": {},
     "output_type": "execute_result"
    }
   ],
   "source": [
    "#no.of.countries involves\n",
    "df['Country'].nunique()"
   ]
  },
  {
   "cell_type": "code",
   "execution_count": 29,
   "id": "7651f627",
   "metadata": {},
   "outputs": [
    {
     "data": {
      "text/plain": [
       "array(['United States', 'France', 'India', 'Spain', 'China', 'Mexico',\n",
       "       'Japan', 'Canada', 'Germany', 'Italy', 'Hong Kong', 'Russia',\n",
       "       'Austria', 'Australia', 'Chile', 'Singapore', 'Sweden',\n",
       "       'Indonesia', 'Thailand', 'Czechia', 'United Kingdom', 'Brazil',\n",
       "       'Netherlands', 'Ireland', 'South Korea', 'Denmark', 'Malaysia',\n",
       "       'Nigeria', 'Israel', 'Colombia', 'Switzerland', 'Cyprus',\n",
       "       'Belgium', 'New Zealand', 'Egypt', 'South Africa', 'Ukraine',\n",
       "       'Greece', 'Vietnam', 'Philippines', 'Taiwan', 'Finland', 'Norway',\n",
       "       'Turkey', 'Argentina', 'Romania', 'Liechtenstein', 'Peru',\n",
       "       'Georgia', 'Algeria', 'Portugal', 'Eswatini (Swaziland)',\n",
       "       'Kazakhstan', 'Poland', 'United Arab Emirates', 'Venezuela',\n",
       "       'Macao', 'Guernsey', 'Lebanon', 'Oman', 'Iceland', 'Monaco',\n",
       "       'Morocco', 'Slovakia', 'Qatar', 'Tanzania', 'St. Kitts and Nevis',\n",
       "       'Zimbabwe', 'Hungary', 'Nepal'], dtype=object)"
      ]
     },
     "execution_count": 29,
     "metadata": {},
     "output_type": "execute_result"
    }
   ],
   "source": [
    "#those countries are\n",
    "df['Country'].unique()"
   ]
  },
  {
   "cell_type": "code",
   "execution_count": 58,
   "id": "bfd4002d",
   "metadata": {},
   "outputs": [
    {
     "data": {
      "text/html": [
       "<div>\n",
       "<style scoped>\n",
       "    .dataframe tbody tr th:only-of-type {\n",
       "        vertical-align: middle;\n",
       "    }\n",
       "\n",
       "    .dataframe tbody tr th {\n",
       "        vertical-align: top;\n",
       "    }\n",
       "\n",
       "    .dataframe thead th {\n",
       "        text-align: right;\n",
       "    }\n",
       "</style>\n",
       "<table border=\"1\" class=\"dataframe\">\n",
       "  <thead>\n",
       "    <tr style=\"text-align: right;\">\n",
       "      <th></th>\n",
       "      <th>Country</th>\n",
       "    </tr>\n",
       "  </thead>\n",
       "  <tbody>\n",
       "    <tr>\n",
       "      <th>United States</th>\n",
       "      <td>724</td>\n",
       "    </tr>\n",
       "    <tr>\n",
       "      <th>China</th>\n",
       "      <td>626</td>\n",
       "    </tr>\n",
       "    <tr>\n",
       "      <th>India</th>\n",
       "      <td>140</td>\n",
       "    </tr>\n",
       "    <tr>\n",
       "      <th>Germany</th>\n",
       "      <td>136</td>\n",
       "    </tr>\n",
       "    <tr>\n",
       "      <th>Russia</th>\n",
       "      <td>118</td>\n",
       "    </tr>\n",
       "    <tr>\n",
       "      <th>...</th>\n",
       "      <td>...</td>\n",
       "    </tr>\n",
       "    <tr>\n",
       "      <th>Venezuela</th>\n",
       "      <td>1</td>\n",
       "    </tr>\n",
       "    <tr>\n",
       "      <th>Eswatini (Swaziland)</th>\n",
       "      <td>1</td>\n",
       "    </tr>\n",
       "    <tr>\n",
       "      <th>Algeria</th>\n",
       "      <td>1</td>\n",
       "    </tr>\n",
       "    <tr>\n",
       "      <th>Liechtenstein</th>\n",
       "      <td>1</td>\n",
       "    </tr>\n",
       "    <tr>\n",
       "      <th>Nepal</th>\n",
       "      <td>1</td>\n",
       "    </tr>\n",
       "  </tbody>\n",
       "</table>\n",
       "<p>70 rows × 1 columns</p>\n",
       "</div>"
      ],
      "text/plain": [
       "                      Country\n",
       "United States             724\n",
       "China                     626\n",
       "India                     140\n",
       "Germany                   136\n",
       "Russia                    118\n",
       "...                       ...\n",
       "Venezuela                   1\n",
       "Eswatini (Swaziland)        1\n",
       "Algeria                     1\n",
       "Liechtenstein               1\n",
       "Nepal                       1\n",
       "\n",
       "[70 rows x 1 columns]"
      ]
     },
     "execution_count": 58,
     "metadata": {},
     "output_type": "execute_result"
    }
   ],
   "source": [
    "#country and the repeatation count\n",
    "df_country=df['Country'].value_counts().to_frame()\n",
    "df_country"
   ]
  },
  {
   "cell_type": "code",
   "execution_count": 34,
   "id": "7fb1944d",
   "metadata": {},
   "outputs": [
    {
     "data": {
      "text/plain": [
       "United States    724\n",
       "Name: Country, dtype: int64"
      ]
     },
     "execution_count": 34,
     "metadata": {},
     "output_type": "execute_result"
    }
   ],
   "source": [
    "#country with many billionaires are\n",
    "df['Country'].value_counts().head(1)"
   ]
  },
  {
   "cell_type": "code",
   "execution_count": 35,
   "id": "56c56167",
   "metadata": {},
   "outputs": [
    {
     "data": {
      "text/plain": [
       "Nepal    1\n",
       "Name: Country, dtype: int64"
      ]
     },
     "execution_count": 35,
     "metadata": {},
     "output_type": "execute_result"
    }
   ],
   "source": [
    "#country with least no.of.billionaires are\n",
    "df['Country'].value_counts().tail(1)"
   ]
  },
  {
   "cell_type": "code",
   "execution_count": 107,
   "id": "61c02260",
   "metadata": {},
   "outputs": [],
   "source": [
    "#representation of countries along with no.of.billionaires"
   ]
  },
  {
   "cell_type": "markdown",
   "id": "a5f09af0",
   "metadata": {},
   "source": [
    "##### Source"
   ]
  },
  {
   "cell_type": "code",
   "execution_count": 110,
   "id": "221aace9",
   "metadata": {},
   "outputs": [
    {
     "data": {
      "text/plain": [
       "924"
      ]
     },
     "execution_count": 110,
     "metadata": {},
     "output_type": "execute_result"
    }
   ],
   "source": [
    "#no.of.unique source\n",
    "df['Source'].nunique()"
   ]
  },
  {
   "cell_type": "code",
   "execution_count": 113,
   "id": "3470ddab",
   "metadata": {},
   "outputs": [
    {
     "data": {
      "text/plain": [
       "array(['Amazon', 'Tesla, SpaceX', 'LVMH', 'Microsoft', 'Facebook',\n",
       "       'Berkshire Hathaway', 'software', 'Google', 'diversified', 'Zara',\n",
       "       'Loreal', 'beverages, pharmaceuticals', 'internet media',\n",
       "       'telecom', 'Walmart', 'Bloomberg LP', 'e-commerce',\n",
       "       'Quicken Loans', 'infrastructure, commodities', 'Nike',\n",
       "       'Koch Industries', 'internet, telecom', 'Dell computers',\n",
       "       'fashion retail', 'luxury goods', 'media', 'supermarkets',\n",
       "       'package delivery', 'casinos', 'home appliances', 'retail',\n",
       "       'TikTok', 'Nutella, chocolates', 'Chanel', 'pig breeding',\n",
       "       'online games', 'music, chemicals', 'real estate',\n",
       "       'candy, pet food', 'steel, investments', 'batteries',\n",
       "       'BMW, pharmaceuticals', 'metals', 'Red Bull', 'soy sauce',\n",
       "       'shipping', 'steel, transport', 'mining', 'eyeglasses', 'sensors',\n",
       "       'Estee Lauder', 'discount brokerage', 'oil', 'gas, chemicals',\n",
       "       'hedge funds', 'vaccines', 'newspapers, TV network',\n",
       "       'software services', 'smartphones', 'restaurants', 'oil, gas',\n",
       "       'investments', 'paints', 'BMW', 'medical devices', 'eBay, PayPal',\n",
       "       'H&M', 'money management', 'banking, tobacco', 'automobiles',\n",
       "       'pharmaceuticals', 'casinos/hotels', 'cheese', 'Apple, Disney',\n",
       "       \"Aldi, Trader Joe's\", 'steel, telecom, investments',\n",
       "       'wireless networking gear', 'petrochemicals', 'hospitals',\n",
       "       'coal, fertilizers', 'video streaming',\n",
       "       'finance, telecommunications', 'food', 'messaging app',\n",
       "       'chemicals', 'beer', 'fasteners', 'Heineken',\n",
       "       'retail, investments', 'batteries, automobiles', 'e-cigarettes',\n",
       "       'used cars', 'banking', 'oil, banking, telecom',\n",
       "       'real estate services', 'smartphone screens', 'steel',\n",
       "       'auto parts', 'video conferencing', 'internet search',\n",
       "       'construction', 'video surveillance', 'home improvement stores',\n",
       "       'biotech', 'video streaming app', 'construction equipment',\n",
       "       'packaging', 'Airbnb', 'business software', 'alcohol, real estate',\n",
       "       'education', 'mining, copper products', 'hydraulic machinery',\n",
       "       'ecommerce', 'retail, media', 'commodities', 'coal',\n",
       "       'palm oil, shipping, property', 'Twitter, Square',\n",
       "       'textiles, apparel', 'venture capital', 'gaming', 'semiconductors',\n",
       "       'agribusiness', 'Intel', 'trading, investments', 'Snapchat',\n",
       "       'cement, sugar', 'real estate, shipping', 'retail & gas stations',\n",
       "       'manufacturing', 'electronics components', 'Shipping',\n",
       "       'infant formula', 'solar wafers and modules',\n",
       "       'financial information', 'pharmaceutical ingredients',\n",
       "       'security software', 'WhatsApp', 'plumbing fixtures', 'vacuums',\n",
       "       'Unknown', 'mining, metals, machinery', 'drugstores',\n",
       "       'banking, property', 'satellite TV', 'furniture',\n",
       "       'movies, record labels', 'electronics', 'sports apparel',\n",
       "       'oil & gas', 'media, automotive', 'online services',\n",
       "       'automobiles, batteries', 'computer hardware', 'fintech',\n",
       "       'metals, energy', 'Dallas Cowboys', 'retail, real estate',\n",
       "       'energy', 'beverages', 'cement', 'cryptocurrency', 'Lego',\n",
       "       'lithium batteries', 'motors', 'alcoholic beverages',\n",
       "       'snacks, beverages', 'biotech, investments', 'private equity',\n",
       "       'aluminum products', 'Chick-fil-A', 'Samsung', 'consumer goods',\n",
       "       'construction, investments', 'sports, real estate', 'roofing',\n",
       "       'diamonds', 'banks, real estate', 'personal care goods',\n",
       "       'cable television', 'health care', 'investments, real estate',\n",
       "       'real estate, investments', 'steel, mining', 'steel, coal',\n",
       "       'power strips', 'power strip', 'Star Wars', 'appliance retailer',\n",
       "       'hotels, energy', 'Home Depot', 'gambling', 'apparel',\n",
       "       'financial services', 'agriculture, water', 'Roku', 'tequila',\n",
       "       'pipelines', 'New Balance', 'conglomerate', 'New England Patriots',\n",
       "       'consumer products', 'poultry genetics', 'wind turbines',\n",
       "       'Carnival Cruises', 'online retail', 'fertilizer',\n",
       "       'smartphone components', 'online gambling',\n",
       "       'elevators, escalators', 'medical equipment',\n",
       "       'real estate, construction', 'Cargill', 'natural gas distribution',\n",
       "       'construction, mining', 'candy', 'online games, investments',\n",
       "       'food, beverages', 'liquor', 'toys', 'chemicals, spandex',\n",
       "       'acoustic components', 'advertising', 'manufacturing, investments',\n",
       "       'metalworking tools', 'telecom, oil', 'imaging systems',\n",
       "       'drilling, shipping', 'household appliances', 'Software',\n",
       "       'Hyundai', 'hospitals, health care', 'health IT', 'optometry',\n",
       "       'temp agency', 'fertilizers', 'Estée Lauder', 'Spotify',\n",
       "       'Marvel comics', 'eBay', 'online entertainment',\n",
       "       'solar panel components', 'beer, investments',\n",
       "       'oil & gas, banking', 'telecoms, media, oil-services',\n",
       "       'renewable energy', 'electric vehicles', 'sporting goods',\n",
       "       'Hermes', 'FedEx', 'real estate, retail', 'mapping software',\n",
       "       'self storage', 'biomedical products', 'Real Estate',\n",
       "       'record label', 'Dolby Laboratories', 'oil and gas, IT, lotteries',\n",
       "       'food distribution', 'shipping, seafood', 'dental implants',\n",
       "       'natural gas', 'agriculture', 'airlines', 'photovoltaic equipment',\n",
       "       'finance', 'retail chain', 'real estate, private equity',\n",
       "       'coffee makers', 'shopping malls', 'investment research',\n",
       "       'home furnishings', 'pest control', 'glass', 'gambling software',\n",
       "       'oil, investments', 'Netflix', 'coffee', 'paper',\n",
       "       'palm oil, property', 'dairy', 'motorcycles', 'ports',\n",
       "       'utilities, telecom', 'staffing, Baltimore Ravens', 'insurance',\n",
       "       'hotels, investments', 'Starbucks', 'mobile phone retailer',\n",
       "       'Lululemon', 'touch screens', 'food services', 'Virgin',\n",
       "       'car dealerships', 'tech investments', 'drones', 'tires',\n",
       "       'retailing', 'energy, investments', 'paint', 'kitchen appliances',\n",
       "       'Best Buy', 'hardware stores', 'video games', 'building materials',\n",
       "       'vodka', 'construction, media', 'casinos, property, energy',\n",
       "       'Houston Rockets, entertainment', 'mobile payments',\n",
       "       'construction materials', 'frozen foods', 'chicken processing',\n",
       "       'fertilizer, real estate', 'navigation equipment',\n",
       "       'textiles, petrochemicals', 'Uber',\n",
       "       'online media, Dallas Mavericks', 'fish farming', 'valves',\n",
       "       'internet service provider', 'Groupon',\n",
       "       'construction equipment, media', 'aircraft leasing',\n",
       "       'online media', 'pharmaceuticals, medical equipment',\n",
       "       'surveillance equipment', 'spirits', 'payroll services',\n",
       "       'oil, real estate', 'healthcare', 'electrical equipment',\n",
       "       'cybersecurity', 'computer services, real estate',\n",
       "       'Toyota dealerships', 'diamond jewelry', 'software, investments',\n",
       "       'hotels, motels', 'energy, sports', 'sporting goods retail',\n",
       "       'videogames', 'cosmetics', 'investing',\n",
       "       'tobacco distribution, retail', 'aluminum', 'biopharmaceuticals',\n",
       "       'biotechnology', 'furniture retailing', 'airline', 'trucking',\n",
       "       'solar energy', 'synthetic gloves', 'laboratory services', 'shoes',\n",
       "       'U-Haul', 'Pinterest', 'heating and cooling equipment',\n",
       "       'bakery chain', 'aluminum, utilities', 'computer software',\n",
       "       'copper, education', 'online advertising', 'palm oil',\n",
       "       'prosthetics', 'hand tools', 'machinery', 'solar panel materials',\n",
       "       'homebuilding', 'Little Caesars', 'lithium', 'Campbell Soup',\n",
       "       'leveraged buyouts', 'hospitals, health insurance',\n",
       "       'TD Ameritrade', 'pipe manufacturing', 'movies', 'IT provider',\n",
       "       'electronic trading', 'energy drinks',\n",
       "       'construction, mining machinery', 'mining, metals', 'flavorings',\n",
       "       'cleaning products', 'pharmacies', 'paper & related products',\n",
       "       'In-N-Out Burger', 'batteries, investments',\n",
       "       'real estate, plush toys', 'oil, banking', 'publishing',\n",
       "       'motorcycle loans', 'Yahoo', 'book distribution, transportation',\n",
       "       'auto dealerships', 'rubber gloves', 'grocery delivery service',\n",
       "       'payments software', 'brakes', 'wine', 'San Francisco 49ers',\n",
       "       'scaffolding, cement mixers', 'pro sports teams',\n",
       "       'cement, diversified', 'staffing & recruiting', 'Formula One',\n",
       "       'mining, steel', 'tobacco', 'movie making',\n",
       "       'billboards, Anaheim Angels', 'winter jackets',\n",
       "       'oil & gas, investments', 'online apparel retail',\n",
       "       'mining, banking, hotels', 'nutrition, wellness products',\n",
       "       'Internet', 'telecom, investments', 'defense', 'electric scooters',\n",
       "       'aviation', 'soft drinks, fast food', 'banking, insurance, media',\n",
       "       'fashion', 'banking, real estate', 'ticketing service',\n",
       "       'chewing gum', 'fashion retail, investments', 'oil, semiconductor',\n",
       "       'payment software', 'fast food', 'timberland, lumber mills',\n",
       "       'auto loans', 'engineering', 'Pharmaceuticals', 'TV broadcasting',\n",
       "       'fashion investments', 'casinos, hotels', 'medical technology',\n",
       "       'mobile phones', 'medical labs', 'Gap', 'hair dryers', 'logistics',\n",
       "       'media, investments', 'email marketing', 'health insurance',\n",
       "       'employment agency', 'biochemicals', 'gas stations, retail',\n",
       "       'Indianapolis Colts', 'meat processing', 'bakeries',\n",
       "       'Philadelphia Eagles', 'TV network, investments', 'media, tech',\n",
       "       'aluminum, diversified', 'measuring instruments',\n",
       "       'TV, movie production', 'beef processing', 'beef packing',\n",
       "       'engineering, construction', 'household chemicals', 'poultry',\n",
       "       'hotels', 'technology', 'amusement parks',\n",
       "       'nutritional supplements', 'pharmaceuticals, power',\n",
       "       'metals, banking, fertilizers', 'real estate, airport',\n",
       "       'payroll processing', 'construction, pipes, banking', 'printing',\n",
       "       'hardware', 'art, car dealerships', 'stationery',\n",
       "       'Netscape, investments', 'materials', 'Furniture retail', 'lasers',\n",
       "       'sports', 'steel, diversified', 'Walmart, logistics',\n",
       "       'chemicals, investments', 'art collection',\n",
       "       'manufacturing, investment', 'banking, credit cards',\n",
       "       'information technology', 'investment banking',\n",
       "       'gold, coal mining', 'outsourcing', 'food delivery service',\n",
       "       'Columbia Sportswear', 'hair products, tequila',\n",
       "       'department stores', 'sunglasses', 'travel', 'appliances',\n",
       "       'power equipment', 'utilities, real estate', 'metals, coal',\n",
       "       'Contact Lens', 'TV shows', 'real estate, media',\n",
       "       'mortgage lender', 'insurance, investments',\n",
       "       'copy machines, software', 'payroll software', 'alcohol',\n",
       "       'finance and investments', 'Washington Redskins', 'Twitter',\n",
       "       'Smartphones', 'Publix supermarkets', 'metals, mining',\n",
       "       'education technology', 'orange juice', 'SAP', 'food service',\n",
       "       '3D printing', 'banking, minerals', 'luxury fashion',\n",
       "       'steel pipes, diversified', 'generic drugs',\n",
       "       'venture capital, Google', 'edible oil', 'pet food', 'auto repair',\n",
       "       'sports retailing', 'automotive brakes', 'health information',\n",
       "       'hair care products', 'medical testing', 'payments processing',\n",
       "       'solar equipment', 'sensor technology', 'LG', 'agriculture, land',\n",
       "       'adhesives', 'steel pipes', 'steel production',\n",
       "       'transport, engineering, real estate', 'food processing',\n",
       "       'Coca Cola Israel', 'soft drinks, diversified', 'online gaming',\n",
       "       'entertainment', 'insurance, beverages', 'communication equipment',\n",
       "       'shopping centers', 'plastic pipes', 'logistics, real estate',\n",
       "       'poultry processing', 'restaurant', 'Investments', 'investment',\n",
       "       'payment processing', 'cannabis', 'express delivery',\n",
       "       'live streaming service', 'mining, commodities',\n",
       "       'drug distribution', 'media, real estate', 'jewelry',\n",
       "       'financial technology', 'hygiene products', 'search engine',\n",
       "       'chemicals, logistics', 'paper manufacturing',\n",
       "       'auto dealers, investments', 'Diversified', 'hearing aids',\n",
       "       'Zillow', 'casinos, mixed martial arts', 'consumer electronics',\n",
       "       'Petro Fibre', 'Petro Firbe', 'energy, real estate',\n",
       "       'optical components', 'home building, banking', 'web hosting',\n",
       "       'cloud technology', 'agrochemicals', 'solar systems', 'train cars',\n",
       "       'mobile apps', 'precious metals, real estate',\n",
       "       'precision machinery', 'security', 'defense, hotels', 'Getty Oil',\n",
       "       'retail stores', 'transportation', 'software firm', 'hedge fund',\n",
       "       'scientific equipment', 'snack bars', 'coffee, shipping',\n",
       "       'Dole, real estate', 'construction, real estate', 'cars',\n",
       "       'casinos, real estate', 'stock brokerage', 'footwear',\n",
       "       'semiconductor', 'metal processing', 'Slim-Fast',\n",
       "       'forestry, mining', 'home sales', 'retail, agribusiness',\n",
       "       'Coca-Cola bottler', 'TV programs', 'energy, chemicals',\n",
       "       'FIAT, investments', 'carpet', 'food delivery app',\n",
       "       'live entertainment', 'drug testing', 'LinkedIn', 'machine tools',\n",
       "       'flooring', 'clinical diagnostics', 'Under Armour', 'Waffle House',\n",
       "       'titanium', 'chemical', 'real estate development', 'greek yogurt',\n",
       "       'budget airline', 'plastics', 'petroleum, diversified',\n",
       "       'online dating', 'biotech investing', 'polyester',\n",
       "       'herbal products', 'office real estate',\n",
       "       'pharmaceuticals, diversified', 'cryptocurrency exchange',\n",
       "       'motorhomes, RVs', 'automotive', 'gas stations', 'DirecTV',\n",
       "       'cloud computing', 'tractors', 'Comcast', 'medical packaging',\n",
       "       'Instagram', 'feed', 'electronic components',\n",
       "       'healthcare services', 'coking', 'sports team', 'game software',\n",
       "       'banking, development', 'real estate, manufacturing',\n",
       "       'mutual funds', 'Patagonia', 'shipbuilding', 'Nascar, racing',\n",
       "       'beauty products', 'data analytics', 'ceramic',\n",
       "       'cloud storage service', 'damaged cars', 'airport',\n",
       "       'banking, investments', 'pharmacueticals', 'telecom services',\n",
       "       'utilities, diversified', 'finance, diversified', 'tire',\n",
       "       'real estate brokerage', 'Manufacturing', 'medical cosmetics',\n",
       "       'liquor stores, supermarkets', 'oil trading', 'sauce',\n",
       "       'music, sneakers', 'internet', 'Motors', 'brewery', 'IT products',\n",
       "       'venture capital investing', 'Subway sandwich shops',\n",
       "       'messaging software', 'real estate, electronics',\n",
       "       'testing equipment', 'online payments', 'pulp and paper',\n",
       "       'oil refining', 'salsa', 'oil, retail', 'pachinko parlors',\n",
       "       'non-ferrous metals', 'retail, wholesale', 'Sears',\n",
       "       'sandwich chain', 'LED lighting', 'medical patents',\n",
       "       'computer games', 'sports teams', 'wire & cables, paints',\n",
       "       'banking, insurance', 'coal mines', 'carbon fiber products',\n",
       "       'cobalt', 'hotels, diversified', 'casinos, banking', 'nonferrous',\n",
       "       'transport, logistics', 'consumer products, banking',\n",
       "       'storage facilities', 'Charlotte Hornets, endorsements',\n",
       "       'powdered metal', 'valve manufacturing', 'cable TV, investments',\n",
       "       'cooking appliances', 'oil refinery', 'sugar, ethanol',\n",
       "       'confectionery', 'jewellery', 'infrastructure', 'steel, autoparts',\n",
       "       'oilfield equipment', 'packaged foods', 'electric equipment',\n",
       "       'LCD main board', 'health products', 'energy services',\n",
       "       'pearlescent pigments', 'supermarkets, investments',\n",
       "       'energy, banking, construction', 'AOL', 'pharmaceutical',\n",
       "       'IT consulting', 'commodities, investments', 'Peloton', 'cruises',\n",
       "       'electric components', 'dental products', 'medical diagnostics',\n",
       "       'accounting services', 'medical products', 'chemical industry',\n",
       "       'real estate, oil, cars, sports', 'art',\n",
       "       'energy drinks,investments', 'wedding dresses', 'Electric power',\n",
       "       'security services', 'lighting', 'textile, chemicals',\n",
       "       'pharmaceutical services', 'natural gas, fertilizers',\n",
       "       'vaccine & shoes', 'waste disposal', 'Chemicals', 'health clinics',\n",
       "       'Aluminium', 'robotics', 'automotive technology', 'banking, oil',\n",
       "       'airport management', 'logistics, baseball', 'tires, diversified',\n",
       "       'industrial lasers', 'textiles', \"Levi's jeans\",\n",
       "       'Urban Outfitters', 'Bio-Pharma', 'home appliance',\n",
       "       'printed circuit boards', 'Multiple', 'grocery stores', 'Banking',\n",
       "       'seed production', 'semiconductor devices', 'diagnostics',\n",
       "       'copper, poultry', 'telecommunication', 'fine jewelry',\n",
       "       'stock photos', 'processed milk', 'refinery, chemicals',\n",
       "       'stock exchange', \"Dick's Sporting Goods\", 'heathcare',\n",
       "       'insurance, NFL team', 'computer networking', 'oil and gas',\n",
       "       'gym equipment', 'air coolers', 'mining, banking',\n",
       "       'parcel lockers', 'fishing', 'educational services', 'property',\n",
       "       'poultry breeding', 'metallurgy', 'Apple', 'airports, investments',\n",
       "       'Electronics', 'silicon', 'home & office products',\n",
       "       'asset management', 'real estate, gambling', 'I.T.',\n",
       "       'Financial Services', 'fashion retailer', 'cobalt mining',\n",
       "       'Logistics', 'real estate, diversified', 'airports, real estate',\n",
       "       'dating app', 'IT service', 'Daqo Group', 'coal mining',\n",
       "       'transportation equipment', 'tyre manufacturing machinery',\n",
       "       'Education', 'engineering, energy, construction', 'flipkart',\n",
       "       'used car sales', 'air compressors', 'ride-hailing service',\n",
       "       'computer services, telecom', 'payments technology',\n",
       "       'finance, real estate', 'energy drink', 'Media', 'uber',\n",
       "       'tourism, construction', 'EasyJet', 'convenience stores',\n",
       "       'Airline', 'mobile games', 'IKEA', 'mobile gaming',\n",
       "       'online car sales', 'electronics, household products',\n",
       "       'Golden State Warriors', 'Cirque du Soleil',\n",
       "       'food products, entertainment', 'copper', 'Construction',\n",
       "       'Internet services', 'price comparison website', 'aerospace',\n",
       "       'coal & coke', 'down jackets', 'telecom equipment',\n",
       "       'beer distribution', 'construction, pipes, chemicals',\n",
       "       'video games, pachinko', 'finance, development', 'paper and pulp',\n",
       "       'home building', 'movies, investments', 'fiber optic cables',\n",
       "       'plastics/investment', 'Navigation', 'liquefied petroleum gas',\n",
       "       'Real estate', 'lithium battery', 'sensor systems', 'solar',\n",
       "       'Reebok', 'convinience stores', 'mattresses', 'chemical products',\n",
       "       'Nordstrom department stores', 'guns', 'Electrical appliances',\n",
       "       'Restaurants', 'Fulgent Genetics', 'tourism', 'communications',\n",
       "       'industrial equipment', 'social network', 'consumer technology',\n",
       "       'palm oil, nickel mining', 'magnetic switches', 'cloud software',\n",
       "       'canned food', 'IT consulting, outsourcing',\n",
       "       'liquefied natural gas', 'factory equipment',\n",
       "       'investor relations consulting', 'real estate developer',\n",
       "       'wastewater treatment', 'industrial machinery',\n",
       "       'tourism, cultural industry', 'snacks', 'Hotels', 'utilities',\n",
       "       'pulp and paper, diversified', 'oil, mining', 'stock trading app',\n",
       "       'high speed trading', 'Bluehole',\n",
       "       'shipbuilding, industrial machines', 'kombucha', 'wind power',\n",
       "       'flavors and fragrances', 'bakeries, fast food', 'tiles',\n",
       "       'cosmetics, reality TV', 'teeth aligners', 'online retailing',\n",
       "       'internet services', 'packaged meats', 'fisheries',\n",
       "       'defense contractor', 'toll roads', 'movies, television',\n",
       "       'stock trading', 'telecom, lotteries, insurance',\n",
       "       'artificial turf', 'optical devices', 'Shoes', 'Citigroup',\n",
       "       'pharmacy', 'Fiberglass', 'gold mining'], dtype=object)"
      ]
     },
     "execution_count": 113,
     "metadata": {},
     "output_type": "execute_result"
    }
   ],
   "source": [
    "#unique sources are\n",
    "df['Source'].unique()"
   ]
  },
  {
   "cell_type": "code",
   "execution_count": 119,
   "id": "8b1b5236",
   "metadata": {},
   "outputs": [
    {
     "data": {
      "text/plain": [
       "real estate    171\n",
       "Name: Source, dtype: int64"
      ]
     },
     "execution_count": 119,
     "metadata": {},
     "output_type": "execute_result"
    }
   ],
   "source": [
    "#source that is repeated max times\n",
    "df['Source'].value_counts().head(1)"
   ]
  },
  {
   "cell_type": "code",
   "execution_count": 120,
   "id": "fe5e4053",
   "metadata": {},
   "outputs": [
    {
     "data": {
      "text/plain": [
       "gold mining    1\n",
       "Name: Source, dtype: int64"
      ]
     },
     "execution_count": 120,
     "metadata": {},
     "output_type": "execute_result"
    }
   ],
   "source": [
    "#source that is repeated min times\n",
    "df['Source'].value_counts().tail(1)"
   ]
  },
  {
   "cell_type": "markdown",
   "id": "1afe9118",
   "metadata": {},
   "source": [
    "##### Age"
   ]
  },
  {
   "cell_type": "code",
   "execution_count": 124,
   "id": "2bd2f7e6",
   "metadata": {},
   "outputs": [
    {
     "data": {
      "text/plain": [
       "97"
      ]
     },
     "execution_count": 124,
     "metadata": {},
     "output_type": "execute_result"
    }
   ],
   "source": [
    "#oldest billionaires age\n",
    "df['Age'].max()"
   ]
  },
  {
   "cell_type": "code",
   "execution_count": 125,
   "id": "c497c86a",
   "metadata": {},
   "outputs": [
    {
     "data": {
      "text/plain": [
       "18"
      ]
     },
     "execution_count": 125,
     "metadata": {},
     "output_type": "execute_result"
    }
   ],
   "source": [
    "#youngest billionaire age is\n",
    "df['Age'].min()"
   ]
  },
  {
   "cell_type": "code",
   "execution_count": 133,
   "id": "b932e017",
   "metadata": {},
   "outputs": [
    {
     "data": {
      "text/plain": [
       "54"
      ]
     },
     "execution_count": 133,
     "metadata": {},
     "output_type": "execute_result"
    }
   ],
   "source": [
    "#no.of.bilionaies age with 90 above\n",
    "len(df[df['Age']>90])"
   ]
  },
  {
   "cell_type": "markdown",
   "id": "0a448605",
   "metadata": {},
   "source": [
    "##### Industry"
   ]
  },
  {
   "cell_type": "code",
   "execution_count": 135,
   "id": "a4aad3e3",
   "metadata": {},
   "outputs": [
    {
     "data": {
      "text/plain": [
       "18"
      ]
     },
     "execution_count": 135,
     "metadata": {},
     "output_type": "execute_result"
    }
   ],
   "source": [
    "#total no.of.unique industries\n",
    "df['Industry'].nunique()"
   ]
  },
  {
   "cell_type": "code",
   "execution_count": 136,
   "id": "03d18276",
   "metadata": {},
   "outputs": [
    {
     "data": {
      "text/plain": [
       "array(['Technology', 'Automotive', 'Fashion & Retail',\n",
       "       'Finance & Investments', 'Diversified', 'Food & Beverage',\n",
       "       'Telecom', 'Media & Entertainment', 'Service',\n",
       "       'Gambling & Casinos', 'Manufacturing', 'Real Estate',\n",
       "       'Metals & Mining', 'Energy', 'Logistics', 'Healthcare',\n",
       "       'Construction & Engineering', 'Sports'], dtype=object)"
      ]
     },
     "execution_count": 136,
     "metadata": {},
     "output_type": "execute_result"
    }
   ],
   "source": [
    "#those unique industries are\n",
    "df['Industry'].unique()"
   ]
  },
  {
   "cell_type": "code",
   "execution_count": 137,
   "id": "f8813550",
   "metadata": {},
   "outputs": [
    {
     "data": {
      "text/plain": [
       "Finance & Investments    371\n",
       "Name: Industry, dtype: int64"
      ]
     },
     "execution_count": 137,
     "metadata": {},
     "output_type": "execute_result"
    }
   ],
   "source": [
    "#industry with more billionaires are\n",
    "df['Industry'].value_counts().head(1)"
   ]
  },
  {
   "cell_type": "code",
   "execution_count": 138,
   "id": "06441a0c",
   "metadata": {},
   "outputs": [
    {
     "data": {
      "text/plain": [
       "Sports    24\n",
       "Name: Industry, dtype: int64"
      ]
     },
     "execution_count": 138,
     "metadata": {},
     "output_type": "execute_result"
    }
   ],
   "source": [
    "#industry with least billionaires are\n",
    "df['Industry'].value_counts().tail(1)"
   ]
  },
  {
   "cell_type": "markdown",
   "id": "e9bad5f0",
   "metadata": {},
   "source": [
    "### TWO COLUMN ANALYSIS"
   ]
  },
  {
   "cell_type": "markdown",
   "id": "8ca76032",
   "metadata": {},
   "source": [
    "##### Name and NetWorth in billions\t"
   ]
  },
  {
   "cell_type": "code",
   "execution_count": 151,
   "id": "c3bbe48e",
   "metadata": {},
   "outputs": [
    {
     "data": {
      "text/plain": [
       "['A. Jayson Adair',\n",
       " 'Albert Avdolyan',\n",
       " 'Baiju Bhatt',\n",
       " \"Wilbur 'Ed' Bosarge, Jr.\",\n",
       " 'Ina Chan',\n",
       " 'Chang Byung-gyu',\n",
       " 'Chung Mong-joon',\n",
       " 'Carmen Daurella Aguilera',\n",
       " 'GT Dave',\n",
       " 'Mukand Lal Dua',\n",
       " 'Ramesh Kumar Dua',\n",
       " 'Jose Elias',\n",
       " 'Larry Fink',\n",
       " 'Horst-Otto Gerberding',\n",
       " 'Gim Seong-gon',\n",
       " 'Gou Yiqun',\n",
       " 'Clelia Haji-Ioannou',\n",
       " 'Hang Hong',\n",
       " 'Ronnen Harary',\n",
       " 'David Harding',\n",
       " 'David Helgason',\n",
       " 'Hou Jianbin',\n",
       " 'Hur Young-in',\n",
       " 'Jiang Long',\n",
       " 'Morris Kahn',\n",
       " 'Ashok Kajaria',\n",
       " 'T.S. Kalyanaraman',\n",
       " 'Kim Kardashian West',\n",
       " 'David Katzman',\n",
       " 'Bom Kim',\n",
       " 'Masatoshi Kumagai',\n",
       " 'Lev Kvetnoi',\n",
       " 'Vladimir Leschikov',\n",
       " 'Li Yinan',\n",
       " 'Liu Qingfeng',\n",
       " 'Jose Llado Fernandez-Urrutia',\n",
       " 'Kenneth Lo',\n",
       " 'Ma Hong',\n",
       " 'Sergei Makhlai',\n",
       " 'Rafique Malik',\n",
       " 'Mao Huihua',\n",
       " 'Michael McCain',\n",
       " 'Mofatraj Munot',\n",
       " 'Vitaly Orlov',\n",
       " 'George Pedersen',\n",
       " 'David Penaloza Alanis',\n",
       " 'Tyler Perry',\n",
       " 'Maria Pinheiro',\n",
       " 'Anton Rabie',\n",
       " 'Jorge Rodriguez Rodriguez',\n",
       " 'Hartley Rogers',\n",
       " 'Alan Rydge',\n",
       " 'Shin Dong-joo',\n",
       " 'Scott Smith',\n",
       " 'Zakhar Smushkin',\n",
       " 'Marco Squinzi',\n",
       " 'Veronica Squinzi',\n",
       " 'Axel Stawski',\n",
       " 'Manny Stul',\n",
       " 'Vlad Tenev',\n",
       " 'Rit Thirakomen',\n",
       " 'Tong Judy Wenhong',\n",
       " 'Tsai Chi-jui',\n",
       " 'Surin Upatkoon',\n",
       " 'Ruben Vardanyan',\n",
       " 'Murat Vargi',\n",
       " 'Vlad Vendrow & family',\n",
       " 'Wang Qiangxiang',\n",
       " 'Wang Wenjian',\n",
       " 'J. Wayne Weaver',\n",
       " 'Sandy Weill',\n",
       " 'Xia Zhisheng & family',\n",
       " 'Xu Jin',\n",
       " 'Vadim Yakunin',\n",
       " 'Mark Haoyong Yang',\n",
       " 'Yao Hsiao Tung',\n",
       " 'Yu De-Chao',\n",
       " 'Daniel Yong Zhang',\n",
       " 'Zhang Yuqiang',\n",
       " 'Zhao Meiguang',\n",
       " 'Zhong Naixiong',\n",
       " 'Zhou Wei family']"
      ]
     },
     "execution_count": 151,
     "metadata": {},
     "output_type": "execute_result"
    }
   ],
   "source": [
    "df_names=df[df['NetWorth in billions']==1]\n",
    "df_names['Name'].tolist()"
   ]
  },
  {
   "cell_type": "code",
   "execution_count": 168,
   "id": "2e9ecba2",
   "metadata": {},
   "outputs": [
    {
     "data": {
      "text/html": [
       "<div>\n",
       "<style scoped>\n",
       "    .dataframe tbody tr th:only-of-type {\n",
       "        vertical-align: middle;\n",
       "    }\n",
       "\n",
       "    .dataframe tbody tr th {\n",
       "        vertical-align: top;\n",
       "    }\n",
       "\n",
       "    .dataframe thead th {\n",
       "        text-align: right;\n",
       "    }\n",
       "</style>\n",
       "<table border=\"1\" class=\"dataframe\">\n",
       "  <thead>\n",
       "    <tr style=\"text-align: right;\">\n",
       "      <th></th>\n",
       "      <th>Name</th>\n",
       "      <th>NetWorth in billions</th>\n",
       "      <th>Country</th>\n",
       "      <th>Source</th>\n",
       "      <th>Rank</th>\n",
       "      <th>Age</th>\n",
       "      <th>Industry</th>\n",
       "    </tr>\n",
       "  </thead>\n",
       "  <tbody>\n",
       "    <tr>\n",
       "      <th>0</th>\n",
       "      <td>Jeff Bezos</td>\n",
       "      <td>177.0</td>\n",
       "      <td>United States</td>\n",
       "      <td>Amazon</td>\n",
       "      <td>1</td>\n",
       "      <td>57</td>\n",
       "      <td>Technology</td>\n",
       "    </tr>\n",
       "  </tbody>\n",
       "</table>\n",
       "</div>"
      ],
      "text/plain": [
       "         Name  NetWorth in billions        Country  Source  Rank  Age  \\\n",
       "0  Jeff Bezos                 177.0  United States  Amazon     1   57   \n",
       "\n",
       "     Industry  \n",
       "0  Technology  "
      ]
     },
     "execution_count": 168,
     "metadata": {},
     "output_type": "execute_result"
    }
   ],
   "source": [
    "#person with highest networth\n",
    "df[(df['Name']!=np.nan) & (df['NetWorth in billions']==df['NetWorth in billions'].max())]"
   ]
  },
  {
   "cell_type": "code",
   "execution_count": 165,
   "id": "1ce4aeeb",
   "metadata": {},
   "outputs": [
    {
     "data": {
      "text/html": [
       "<div>\n",
       "<style scoped>\n",
       "    .dataframe tbody tr th:only-of-type {\n",
       "        vertical-align: middle;\n",
       "    }\n",
       "\n",
       "    .dataframe tbody tr th {\n",
       "        vertical-align: top;\n",
       "    }\n",
       "\n",
       "    .dataframe thead th {\n",
       "        text-align: right;\n",
       "    }\n",
       "</style>\n",
       "<table border=\"1\" class=\"dataframe\">\n",
       "  <thead>\n",
       "    <tr style=\"text-align: right;\">\n",
       "      <th></th>\n",
       "      <th>Name</th>\n",
       "      <th>NetWorth in billions</th>\n",
       "      <th>Country</th>\n",
       "      <th>Source</th>\n",
       "      <th>Rank</th>\n",
       "      <th>Age</th>\n",
       "      <th>Industry</th>\n",
       "    </tr>\n",
       "  </thead>\n",
       "  <tbody>\n",
       "    <tr>\n",
       "      <th>2673</th>\n",
       "      <td>A. Jayson Adair</td>\n",
       "      <td>1.0</td>\n",
       "      <td>United States</td>\n",
       "      <td>damaged cars</td>\n",
       "      <td>2674</td>\n",
       "      <td>51</td>\n",
       "      <td>Automotive</td>\n",
       "    </tr>\n",
       "    <tr>\n",
       "      <th>2674</th>\n",
       "      <td>Albert Avdolyan</td>\n",
       "      <td>1.0</td>\n",
       "      <td>Russia</td>\n",
       "      <td>oil, mining</td>\n",
       "      <td>2674</td>\n",
       "      <td>50</td>\n",
       "      <td>Energy</td>\n",
       "    </tr>\n",
       "    <tr>\n",
       "      <th>2675</th>\n",
       "      <td>Baiju Bhatt</td>\n",
       "      <td>1.0</td>\n",
       "      <td>United States</td>\n",
       "      <td>stock trading app</td>\n",
       "      <td>2674</td>\n",
       "      <td>36</td>\n",
       "      <td>Finance &amp; Investments</td>\n",
       "    </tr>\n",
       "    <tr>\n",
       "      <th>2676</th>\n",
       "      <td>Wilbur 'Ed' Bosarge, Jr.</td>\n",
       "      <td>1.0</td>\n",
       "      <td>United States</td>\n",
       "      <td>high speed trading</td>\n",
       "      <td>2674</td>\n",
       "      <td>81</td>\n",
       "      <td>Finance &amp; Investments</td>\n",
       "    </tr>\n",
       "    <tr>\n",
       "      <th>2677</th>\n",
       "      <td>Ina Chan</td>\n",
       "      <td>1.0</td>\n",
       "      <td>Hong Kong</td>\n",
       "      <td>casinos</td>\n",
       "      <td>2674</td>\n",
       "      <td>67</td>\n",
       "      <td>Gambling &amp; Casinos</td>\n",
       "    </tr>\n",
       "    <tr>\n",
       "      <th>...</th>\n",
       "      <td>...</td>\n",
       "      <td>...</td>\n",
       "      <td>...</td>\n",
       "      <td>...</td>\n",
       "      <td>...</td>\n",
       "      <td>...</td>\n",
       "      <td>...</td>\n",
       "    </tr>\n",
       "    <tr>\n",
       "      <th>2750</th>\n",
       "      <td>Daniel Yong Zhang</td>\n",
       "      <td>1.0</td>\n",
       "      <td>China</td>\n",
       "      <td>e-commerce</td>\n",
       "      <td>2674</td>\n",
       "      <td>49</td>\n",
       "      <td>Technology</td>\n",
       "    </tr>\n",
       "    <tr>\n",
       "      <th>2751</th>\n",
       "      <td>Zhang Yuqiang</td>\n",
       "      <td>1.0</td>\n",
       "      <td>China</td>\n",
       "      <td>Fiberglass</td>\n",
       "      <td>2674</td>\n",
       "      <td>65</td>\n",
       "      <td>Manufacturing</td>\n",
       "    </tr>\n",
       "    <tr>\n",
       "      <th>2752</th>\n",
       "      <td>Zhao Meiguang</td>\n",
       "      <td>1.0</td>\n",
       "      <td>China</td>\n",
       "      <td>gold mining</td>\n",
       "      <td>2674</td>\n",
       "      <td>58</td>\n",
       "      <td>Metals &amp; Mining</td>\n",
       "    </tr>\n",
       "    <tr>\n",
       "      <th>2753</th>\n",
       "      <td>Zhong Naixiong</td>\n",
       "      <td>1.0</td>\n",
       "      <td>China</td>\n",
       "      <td>conglomerate</td>\n",
       "      <td>2674</td>\n",
       "      <td>58</td>\n",
       "      <td>Diversified</td>\n",
       "    </tr>\n",
       "    <tr>\n",
       "      <th>2754</th>\n",
       "      <td>Zhou Wei family</td>\n",
       "      <td>1.0</td>\n",
       "      <td>China</td>\n",
       "      <td>Software</td>\n",
       "      <td>2674</td>\n",
       "      <td>54</td>\n",
       "      <td>Technology</td>\n",
       "    </tr>\n",
       "  </tbody>\n",
       "</table>\n",
       "<p>82 rows × 7 columns</p>\n",
       "</div>"
      ],
      "text/plain": [
       "                          Name  NetWorth in billions        Country  \\\n",
       "2673           A. Jayson Adair                   1.0  United States   \n",
       "2674           Albert Avdolyan                   1.0         Russia   \n",
       "2675               Baiju Bhatt                   1.0  United States   \n",
       "2676  Wilbur 'Ed' Bosarge, Jr.                   1.0  United States   \n",
       "2677                  Ina Chan                   1.0      Hong Kong   \n",
       "...                        ...                   ...            ...   \n",
       "2750         Daniel Yong Zhang                   1.0          China   \n",
       "2751             Zhang Yuqiang                   1.0          China   \n",
       "2752             Zhao Meiguang                   1.0          China   \n",
       "2753            Zhong Naixiong                   1.0          China   \n",
       "2754           Zhou Wei family                   1.0          China   \n",
       "\n",
       "                  Source  Rank  Age               Industry  \n",
       "2673        damaged cars  2674   51             Automotive  \n",
       "2674         oil, mining  2674   50                 Energy  \n",
       "2675   stock trading app  2674   36  Finance & Investments  \n",
       "2676  high speed trading  2674   81  Finance & Investments  \n",
       "2677             casinos  2674   67     Gambling & Casinos  \n",
       "...                  ...   ...  ...                    ...  \n",
       "2750          e-commerce  2674   49             Technology  \n",
       "2751          Fiberglass  2674   65          Manufacturing  \n",
       "2752         gold mining  2674   58        Metals & Mining  \n",
       "2753        conglomerate  2674   58            Diversified  \n",
       "2754            Software  2674   54             Technology  \n",
       "\n",
       "[82 rows x 7 columns]"
      ]
     },
     "execution_count": 165,
     "metadata": {},
     "output_type": "execute_result"
    }
   ],
   "source": [
    "#person with lowest networth\n",
    "df[(df['Name']!=np.nan) & (df['NetWorth in billions']==df['NetWorth in billions'].min())]"
   ]
  },
  {
   "cell_type": "markdown",
   "id": "b36b9201",
   "metadata": {},
   "source": [
    "##### NetWorth in billions and Country"
   ]
  },
  {
   "cell_type": "code",
   "execution_count": 183,
   "id": "59ffa365",
   "metadata": {},
   "outputs": [
    {
     "data": {
      "text/plain": [
       "United States           724\n",
       "China                   626\n",
       "India                   140\n",
       "Germany                 136\n",
       "Russia                  118\n",
       "                       ... \n",
       "Venezuela                 1\n",
       "Eswatini (Swaziland)      1\n",
       "Algeria                   1\n",
       "Liechtenstein             1\n",
       "Nepal                     1\n",
       "Name: Country, Length: 70, dtype: int64"
      ]
     },
     "execution_count": 183,
     "metadata": {},
     "output_type": "execute_result"
    }
   ],
   "source": [
    "df['Country'].value_counts()"
   ]
  },
  {
   "cell_type": "code",
   "execution_count": 181,
   "id": "16085047",
   "metadata": {},
   "outputs": [
    {
     "data": {
      "text/plain": [
       "6.075138121546962"
      ]
     },
     "execution_count": 181,
     "metadata": {},
     "output_type": "execute_result"
    }
   ],
   "source": [
    "#total % networth of billions contribution from US\n",
    "df_netandcou=df[df['Country']=='United States']\n",
    "df_netandcou['NetWorth in billions'].sum()/len(df_netandcou)"
   ]
  },
  {
   "cell_type": "code",
   "execution_count": 187,
   "id": "401506f2",
   "metadata": {},
   "outputs": [
    {
     "data": {
      "text/plain": [
       "596.4"
      ]
     },
     "execution_count": 187,
     "metadata": {},
     "output_type": "execute_result"
    }
   ],
   "source": [
    "#total % networth of billions contribution from China\n",
    "df_netandcou1=df[df['Country']=='China']\n",
    "df_netandcou1['NetWorth in billions'].sum()/len(df_netandcou1)\n"
   ]
  },
  {
   "cell_type": "code",
   "execution_count": 198,
   "id": "ba074f6d",
   "metadata": {},
   "outputs": [],
   "source": [
    "df_unicou=df['Country'].unique().tolist()\n",
    "#how to automate the above functions and draw a chart for head(5)"
   ]
  },
  {
   "cell_type": "markdown",
   "id": "fb98f651",
   "metadata": {},
   "source": [
    "##### Country and Source"
   ]
  },
  {
   "cell_type": "code",
   "execution_count": 229,
   "id": "1af99599",
   "metadata": {},
   "outputs": [
    {
     "data": {
      "image/png": "[encoded data removed]",
      "text/plain": [
       "<Figure size 1440x720 with 1 Axes>"
      ]
     },
     "metadata": {
      "needs_background": "light"
     },
     "output_type": "display_data"
    }
   ],
   "source": [
    "#printing the number of billionaires based on countries from different sources\n",
    "df_cousou=df.groupby('Country')['Source'].value_counts().head(100)\n",
    "df_cousou.plot(kind='bar',figsize=(20,10),color='blue')"
   ]
  },
  {
   "cell_type": "code",
   "execution_count": 275,
   "id": "d30ce86c",
   "metadata": {},
   "outputs": [
    {
     "data": {
      "text/plain": [
       "<AxesSubplot:ylabel='Source'>"
      ]
     },
     "execution_count": 275,
     "metadata": {},
     "output_type": "execute_result"
    },
    {
     "data": {
      "image/png": "[encoded data removed]",
      "text/plain": [
       "<Figure size 432x288 with 1 Axes>"
      ]
     },
     "metadata": {},
     "output_type": "display_data"
    }
   ],
   "source": [
    "#united states majority billionaires are from source i,e top 5 sources\n",
    "df_ussou=df[(df['Country']=='United States') & (df['Source']!=np.nan)]\n",
    "df_ussou['Source'].value_counts().head(5).plot(kind='pie')"
   ]
  },
  {
   "cell_type": "markdown",
   "id": "09ef12e5",
   "metadata": {},
   "source": [
    "##### Source and Rank"
   ]
  },
  {
   "cell_type": "code",
   "execution_count": 298,
   "id": "7f2893e9",
   "metadata": {},
   "outputs": [
    {
     "data": {
      "text/plain": [
       "['Amazon',\n",
       " 'Tesla, SpaceX',\n",
       " 'LVMH',\n",
       " 'Microsoft',\n",
       " 'Facebook',\n",
       " 'Berkshire Hathaway',\n",
       " 'software',\n",
       " 'Google',\n",
       " 'Google']"
      ]
     },
     "execution_count": 298,
     "metadata": {},
     "output_type": "execute_result"
    }
   ],
   "source": [
    "#top 10 ranks are from the source\n",
    "df_r=df[df['Rank']<10]\n",
    "df_r['Source'].tolist()"
   ]
  },
  {
   "cell_type": "markdown",
   "id": "693a8174",
   "metadata": {},
   "source": [
    "##### Rank and Age"
   ]
  },
  {
   "cell_type": "markdown",
   "id": "844faa5e",
   "metadata": {},
   "source": [
    "\n",
    "##### Age and Industry"
   ]
  },
  {
   "cell_type": "code",
   "execution_count": 305,
   "id": "35916a3f",
   "metadata": {},
   "outputs": [
    {
     "data": {
      "text/plain": [
       "array(['Diversified', 'Real Estate', 'Manufacturing',\n",
       "       'Gambling & Casinos', 'Media & Entertainment', 'Food & Beverage',\n",
       "       'Construction & Engineering', 'Technology',\n",
       "       'Finance & Investments', 'Fashion & Retail', 'Service',\n",
       "       'Healthcare', 'Energy'], dtype=object)"
      ]
     },
     "execution_count": 305,
     "metadata": {},
     "output_type": "execute_result"
    }
   ],
   "source": [
    "#billionaires above 90 \n",
    "df_r=df[df['Age']>90]\n",
    "df_r['Industry'].unique()"
   ]
  },
  {
   "cell_type": "markdown",
   "id": "1a7e9402",
   "metadata": {},
   "source": [
    "##### Name and Country"
   ]
  },
  {
   "cell_type": "code",
   "execution_count": 319,
   "id": "5966d1ab",
   "metadata": {},
   "outputs": [
    {
     "data": {
      "text/plain": [
       "724"
      ]
     },
     "execution_count": 319,
     "metadata": {},
     "output_type": "execute_result"
    }
   ],
   "source": [
    "#no.of.billionaires from US are\n",
    "df_r=df[df['Country']=='United States']\n",
    "df_r['Name'].nunique()"
   ]
  },
  {
   "cell_type": "code",
   "execution_count": 321,
   "id": "712b7aa2",
   "metadata": {},
   "outputs": [
    {
     "data": {
      "text/plain": [
       "<AxesSubplot:xlabel='Name', ylabel='Rank'>"
      ]
     },
     "execution_count": 321,
     "metadata": {},
     "output_type": "execute_result"
    },
    {
     "data": {
      "image/png": "[encoded data removed]",
      "text/plain": [
       "<Figure size 432x288 with 1 Axes>"
      ]
     },
     "metadata": {
      "needs_background": "light"
     },
     "output_type": "display_data"
    }
   ],
   "source": [
    "sns.barplot(x=df.Name,y=df.Rank)"
   ]
  },
  {
   "cell_type": "markdown",
   "id": "83a6bec3",
   "metadata": {},
   "source": [
    "##### Name and Source"
   ]
  },
  {
   "cell_type": "markdown",
   "id": "3588681a",
   "metadata": {},
   "source": [
    "##### Name and Age"
   ]
  },
  {
   "cell_type": "markdown",
   "id": "fd54c23f",
   "metadata": {},
   "source": [
    "##### Name and Industry"
   ]
  },
  {
   "cell_type": "markdown",
   "id": "cfa29939",
   "metadata": {},
   "source": [
    "#####  in billions and Source"
   ]
  },
  {
   "cell_type": "markdown",
   "id": "b4b26470",
   "metadata": {},
   "source": [
    "##### NetWorth in billions and Age"
   ]
  },
  {
   "cell_type": "markdown",
   "id": "e25ae2eb",
   "metadata": {},
   "source": [
    "##### NetWorth in billions and Industry"
   ]
  },
  {
   "cell_type": "markdown",
   "id": "cb33bf60",
   "metadata": {},
   "source": [
    "##### Country and Name"
   ]
  },
  {
   "cell_type": "markdown",
   "id": "1ac8374a",
   "metadata": {},
   "source": [
    "##### Country and Age"
   ]
  },
  {
   "cell_type": "markdown",
   "id": "9e3386d4",
   "metadata": {},
   "source": [
    "##### Country and Industry"
   ]
  },
  {
   "cell_type": "markdown",
   "id": "7657e5b9",
   "metadata": {},
   "source": [
    "##### Source and Age"
   ]
  },
  {
   "cell_type": "markdown",
   "id": "3f0a13b4",
   "metadata": {},
   "source": [
    "##### Source and Industry"
   ]
  },
  {
   "cell_type": "markdown",
   "id": "be45922f",
   "metadata": {},
   "source": [
    "##### Age and Industry"
   ]
  },
  {
   "cell_type": "markdown",
   "id": "0f738fd8",
   "metadata": {},
   "source": [
    "### Ask and answer questions "
   ]
  },
  {
   "cell_type": "code",
   "execution_count": null,
   "id": "8ab5329b",
   "metadata": {},
   "outputs": [],
   "source": []
  },
  {
   "cell_type": "markdown",
   "id": "79c77337",
   "metadata": {},
   "source": [
    " ### Summarize your interference and write a conclusion"
   ]
  },
  {
   "cell_type": "markdown",
   "id": "2f40dbad",
   "metadata": {},
   "source": [
    "There is no null values in the dataset.\n",
    "Most of the billionairs(6%) are only from US\n",
    "\n"
   ]
  }
 ],
 "metadata": {
  "kernelspec": {
   "display_name": "Python 3 (ipykernel)",
   "language": "python",
   "name": "python3"
  },
  "language_info": {
   "codemirror_mode": {
    "name": "ipython",
    "version": 3
   },
   "file_extension": ".py",
   "mimetype": "text/x-python",
   "name": "python",
   "nbconvert_exporter": "python",
   "pygments_lexer": "ipython3",
   "version": "3.8.11"
  }
 },
 "nbformat": 4,
 "nbformat_minor": 5
}
